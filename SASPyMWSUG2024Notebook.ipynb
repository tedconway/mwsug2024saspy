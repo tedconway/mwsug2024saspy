{
 "cells": [
  {
   "cell_type": "markdown",
   "id": "4ded2419",
   "metadata": {},
   "source": [
    "##### Bring Your SAS and Python Worlds Together With SASPy!\n",
    "A Microsoft Visual Studio Code Python notebook that demonstrates how SASPy can be used to:\n",
    " <ol>\n",
    " <li>Prepare a SAS dataset of NBA player salary info using the Cloud-based SAS OnDemand for Analytics\n",
    " <li>Download the SAS dataset into a Pandas dataframe on a PC-based Python VS Code session\n",
    " <li>Use Python and Plotly to visualize the NBA salary data in in an interactive Sunburst Chart\n",
    " </ol>"
   ]
  },
  {
   "cell_type": "code",
   "execution_count": 1,
   "id": "55e94b79",
   "metadata": {},
   "outputs": [
    {
     "name": "stdout",
     "output_type": "stream",
     "text": [
      "Using SAS Config named: oda\n",
      "SAS Connection established. Subprocess id is 4936\n",
      "\n",
      "\n",
      "5                                                          The SAS System                       Sunday, October 20, 2024 05:27:00 AM\n",
      "\n",
      "24         \n",
      "25         libname L    '/home/ted.conway'  ;\n",
      "26         \n",
      "27         \n",
      "28         \n",
      "\n",
      "6                                                          The SAS System                       Sunday, October 20, 2024 05:27:00 AM\n",
      "\n",
      "29         \n"
     ]
    }
   ],
   "source": [
    "# Connect to Cloud-Based SAS OnDemand for Analytics (ODA) from PC-Based Python\n",
    "# Note: Connection info is in sascfg_personal.py, while authentication info is in _authinfo. \n",
    "#       Both files are in C:\\Users\\<CurrentUserName>.\n",
    "import saspy                                          # Import SASpy package\n",
    "sas_session = saspy.SASsession()                      # Start a SAS session named 'sas_session'\n",
    "sas_session.saslib('L', path=\"/home/ted.conway\");     # Create libname 'L' pointed to HOME directory"
   ]
  },
  {
   "cell_type": "code",
   "execution_count": 2,
   "id": "3e495b47",
   "metadata": {},
   "outputs": [
    {
     "data": {
      "text/html": [
       "<!DOCTYPE html>\n",
       "<html lang=\"en\" xml:lang=\"en\" xmlns=\"http://www.w3.org/1999/xhtml\">\n",
       "<head>\n",
       "<meta charset=\"utf-8\"/>\n",
       "<meta content=\"SAS 9.4\" name=\"generator\"/>\n",
       "<title>SAS Output</title>\n",
       "<style>\n",
       "/*<![CDATA[*/\n",
       ".body.c > table, .body.c > pre, .body.c div > table,\n",
       ".body.c div > pre, .body.c > table, .body.c > pre,\n",
       ".body.j > table, .body.j > pre, .body.j div > table,\n",
       ".body.j div > pre, .body.j > table, .body.j > pre,\n",
       ".body.c p.note, .body.c p.warning, .body.c p.error, .body.c p.fatal,\n",
       ".body.j p.note, .body.j p.warning, .body.j p.error, .body.j p.fatal,\n",
       ".body.c > table.layoutcontainer, .body.j > table.layoutcontainer { margin-left: auto; margin-right: auto }\n",
       ".layoutregion.l table, .layoutregion.l pre, .layoutregion.l p.note,\n",
       ".layoutregion.l p.warning, .layoutregion.l p.error, .layoutregion.l p.fatal { margin-left: 0 }\n",
       ".layoutregion.c table, .layoutregion.c pre, .layoutregion.c p.note,\n",
       ".layoutregion.c p.warning, .layoutregion.c p.error, .layoutregion.c p.fatal { margin-left: auto; margin-right: auto }\n",
       ".layoutregion.r table, .layoutregion.r pre, .layoutregion.r p.note,\n",
       ".layoutregion.r table, .layoutregion.r pre, .layoutregion.r p.note,\n",
       ".layoutregion.r p.warning, .layoutregion.r p.error, .layoutregion.r p.fatal { margin-right: 0 }\n",
       "article, aside, details, figcaption, figure, footer, header, hgroup, nav, section { display: block }\n",
       "html{ font-size: 100% }\n",
       ".body { margin: 1em; font-size: 13px; line-height: 1.231 }\n",
       "sup { position: relative; vertical-align: baseline; bottom: 0.25em; font-size: 0.8em }\n",
       "sub { position: relative; vertical-align: baseline; top: 0.25em; font-size: 0.8em }\n",
       "ul, ol { margin: 1em 0; padding: 0 0 0 40px }\n",
       "dd { margin: 0 0 0 40px }\n",
       "nav ul, nav ol { list-style: none; list-style-image: none; margin: 0; padding: 0 }\n",
       "img { border: 0; vertical-align: middle }\n",
       "svg:not(:root) { overflow: hidden }\n",
       "figure { margin: 0 }\n",
       "table { border-collapse: collapse; border-spacing: 0 }\n",
       ".layoutcontainer { border-collapse: separate; border-spacing: 0 }\n",
       "p { margin-top: 0; text-align: left }\n",
       "h1.heading1 { text-align: left }\n",
       "h2.heading2 { text-align: left }\n",
       "h3.heading3 { text-align: left }\n",
       "h4.heading4 { text-align: left }\n",
       "h5.heading5 { text-align: left }\n",
       "h6.heading6 { text-align: left }\n",
       "span { text-align: left }\n",
       "table { margin-bottom: 1em }\n",
       "td, th { text-align: left; padding: 3px 6px; vertical-align: top }\n",
       "td[class$=\"fixed\"], th[class$=\"fixed\"] { white-space: pre }\n",
       "section, article { padding-top: 1px; padding-bottom: 8px }\n",
       "hr.pagebreak { height: 0px; border: 0; border-bottom: 1px solid #c0c0c0; margin: 1em 0 }\n",
       ".stacked-value { text-align: left; display: block }\n",
       ".stacked-cell > .stacked-value, td.data > td.data, th.data > td.data, th.data > th.data, td.data > th.data, th.header > th.header { border: 0 }\n",
       ".stacked-cell > div.data { border-width: 0 }\n",
       ".systitleandfootercontainer { white-space: nowrap; margin-bottom: 1em }\n",
       ".systitleandfootercontainer > p { margin: 0 }\n",
       ".systitleandfootercontainer > p > span { display: inline-block; width: 100%; white-space: normal }\n",
       ".batch { display: table }\n",
       ".toc { display: none }\n",
       ".proc_note_group, .proc_title_group { margin-bottom: 1em }\n",
       "p.proctitle { margin: 0 }\n",
       "p.note, p.warning, p.error, p.fatal { display: table }\n",
       ".notebanner, .warnbanner, .errorbanner, .fatalbanner,\n",
       ".notecontent, .warncontent, .errorcontent, .fatalcontent { display: table-cell; padding: 0.5em }\n",
       ".notebanner, .warnbanner, .errorbanner, .fatalbanner { padding-right: 0 }\n",
       ".body > div > ol li { text-align: left }\n",
       ".beforecaption > h4 { margin-top: 0; margin-bottom: 0 }\n",
       ".c { text-align: center }\n",
       ".r { text-align: right }\n",
       ".l { text-align: left }\n",
       ".j { text-align: justify }\n",
       ".d { text-align: right }\n",
       ".b { vertical-align: bottom }\n",
       ".m { vertical-align: middle }\n",
       ".t { vertical-align: top }\n",
       ".accessiblecaption {\n",
       "    background-color: #fafbfe;\n",
       "    color: #112277;\n",
       "    font-family: Arial, 'Albany AMT', Helvetica, Helv;\n",
       "    font-size:  normal;\n",
       "    font-style: normal;\n",
       "    font-weight: bold;\n",
       "}\n",
       "a:active { color: #800080 }\n",
       ".aftercaption {\n",
       "    background-color: #fafbfe;\n",
       "    border-spacing: 0;\n",
       "    color: #112277;\n",
       "    font-family: Arial, 'Albany AMT', Helvetica, Helv;\n",
       "    font-size:  normal;\n",
       "    font-style: normal;\n",
       "    font-weight: bold;\n",
       "    padding-top: 4pt;\n",
       "}\n",
       ".batch > colgroup {\n",
       "    border-left: 1px solid #c1c1c1;\n",
       "    border-right: 1px solid #c1c1c1;\n",
       "}\n",
       ".batch > tbody, .batch > thead, .batch > tfoot {\n",
       "    border-top: 1px solid #c1c1c1;\n",
       "    border-bottom: 1px solid #c1c1c1;\n",
       "}\n",
       ".batch { border: hidden; }\n",
       ".batch {\n",
       "    background-color: #fafbfe;\n",
       "    border: 1px solid #c1c1c1;\n",
       "    border-collapse: separate;\n",
       "    border-spacing: 1px;\n",
       "    color: #000000;\n",
       "    font-family: 'SAS Monospace', 'Courier New', Courier, monospace;\n",
       "    font-size:  normal;\n",
       "    font-style: normal;\n",
       "    font-weight: normal;\n",
       "    padding: 7px;\n",
       "    }\n",
       ".beforecaption {\n",
       "    background-color: #fafbfe;\n",
       "    border-spacing: 0;\n",
       "    color: #112277;\n",
       "    font-family: Arial, 'Albany AMT', Helvetica, Helv;\n",
       "    font-size:  normal;\n",
       "    font-style: normal;\n",
       "    font-weight: bold;\n",
       "}\n",
       ".body {\n",
       "    background-color: #fafbfe;\n",
       "    color: #000000;\n",
       "    font-family: Arial, 'Albany AMT', Helvetica, Helv;\n",
       "    font-size:  normal;\n",
       "    font-style: normal;\n",
       "    font-weight: normal;\n",
       "    margin-left: 8px;\n",
       "    margin-right: 8px;\n",
       "}\n",
       ".bodydate {\n",
       "    background-color: #fafbfe;\n",
       "    border-spacing: 0;\n",
       "    color: #000000;\n",
       "    font-family: Arial, 'Albany AMT', Helvetica, Helv;\n",
       "    font-size:  normal;\n",
       "    font-style: normal;\n",
       "    font-weight: normal;\n",
       "    text-align: right;\n",
       "    vertical-align: top;\n",
       "    width: 100%;\n",
       "}\n",
       ".bycontentfolder {\n",
       "    color: #000000;\n",
       "    font-family: Arial, 'Albany AMT', Helvetica, Helv;\n",
       "    font-size:  normal;\n",
       "    font-style: normal;\n",
       "    font-weight: normal;\n",
       "    list-style-type: none;\n",
       "    margin-left: 6pt;\n",
       "}\n",
       ".byline {\n",
       "    background-color: #fafbfe;\n",
       "    border-spacing: 0;\n",
       "    color: #112277;\n",
       "    font-family: Arial, 'Albany AMT', Helvetica, Helv;\n",
       "    font-size:  normal;\n",
       "    font-style: normal;\n",
       "    font-weight: bold;\n",
       "}\n",
       ".bylinecontainer > col, .bylinecontainer > colgroup > col, .bylinecontainer > colgroup, .bylinecontainer > tr, .bylinecontainer > * > tr, .bylinecontainer > thead, .bylinecontainer > tbody, .bylinecontainer > tfoot { border: none; }\n",
       ".bylinecontainer {\n",
       "    background-color: #fafbfe;\n",
       "    border: none;\n",
       "    border-spacing: 1px;\n",
       "    color: #000000;\n",
       "    font-family: Arial, 'Albany AMT', Helvetica, Helv;\n",
       "    font-size:  normal;\n",
       "    font-style: normal;\n",
       "    font-weight: normal;\n",
       "    width: 100%;\n",
       "}\n",
       ".caption {\n",
       "    background-color: #fafbfe;\n",
       "    border-spacing: 0;\n",
       "    color: #112277;\n",
       "    font-family: Arial, 'Albany AMT', Helvetica, Helv;\n",
       "    font-size:  normal;\n",
       "    font-style: normal;\n",
       "    font-weight: bold;\n",
       "}\n",
       ".cell, .container {\n",
       "    background-color: #fafbfe;\n",
       "    color: #000000;\n",
       "    font-family: Arial, 'Albany AMT', Helvetica, Helv;\n",
       "    font-size:  normal;\n",
       "    font-style: normal;\n",
       "    font-weight: normal;\n",
       "}\n",
       ".contentfolder, .contentitem {\n",
       "    color: #000000;\n",
       "    font-family: Arial, 'Albany AMT', Helvetica, Helv;\n",
       "    font-size:  normal;\n",
       "    font-style: normal;\n",
       "    font-weight: normal;\n",
       "    list-style-type: none;\n",
       "    margin-left: 6pt;\n",
       "}\n",
       ".contentproclabel, .contentprocname {\n",
       "    background-color: #fafbfe;\n",
       "    color: #112277;\n",
       "    font-family: Arial, 'Albany AMT', Helvetica, Helv;\n",
       "    font-size:  normal;\n",
       "    font-style: normal;\n",
       "    font-weight: bold;\n",
       "}\n",
       ".contents {\n",
       "    background-color: #fafbfe;\n",
       "    color: #000000;\n",
       "    font-family: Arial, 'Albany AMT', Helvetica, Helv;\n",
       "    font-size:  normal;\n",
       "    font-style: normal;\n",
       "    font-weight: normal;\n",
       "    list-style-type: decimal;\n",
       "    margin-left: 8px;\n",
       "    margin-right: 8px;\n",
       "}\n",
       ".contentsdate {\n",
       "    background-color: #fafbfe;\n",
       "    color: #000000;\n",
       "    font-family: Arial, 'Albany AMT', Helvetica, Helv;\n",
       "    font-size:  normal;\n",
       "    font-style: normal;\n",
       "    font-weight: normal;\n",
       "    width: 100%;\n",
       "}\n",
       ".contenttitle {\n",
       "    background-color: #fafbfe;\n",
       "    color: #112277;\n",
       "    font-family: Arial, 'Albany AMT', Helvetica, Helv;\n",
       "    font-size:  normal;\n",
       "    font-style: italic;\n",
       "    font-weight: bold;\n",
       "}\n",
       ".continued {\n",
       "    background-color: #fafbfe;\n",
       "    border-spacing: 0;\n",
       "    color: #112277;\n",
       "    font-family: Arial, 'Albany AMT', Helvetica, Helv;\n",
       "    font-size:  normal;\n",
       "    font-style: normal;\n",
       "    font-weight: bold;\n",
       "    width: 100%;\n",
       "}\n",
       ".data, .dataemphasis {\n",
       "    background-color: #ffffff;\n",
       "    border-color: #c1c1c1;\n",
       "    border-style: solid;\n",
       "    border-width: 0 1px 1px 0;\n",
       "    font-family: Arial, 'Albany AMT', Helvetica, Helv;\n",
       "    font-size:  normal;\n",
       "    font-style: normal;\n",
       "    font-weight: normal;\n",
       "}\n",
       ".dataemphasisfixed {\n",
       "    background-color: #ffffff;\n",
       "    border-color: #c1c1c1;\n",
       "    border-style: solid;\n",
       "    border-width: 0 1px 1px 0;\n",
       "    font-family: 'Courier New', Courier, monospace;\n",
       "    font-size:  normal;\n",
       "    font-style: italic;\n",
       "    font-weight: normal;\n",
       "}\n",
       ".dataempty {\n",
       "    background-color: #ffffff;\n",
       "    border-color: #c1c1c1;\n",
       "    border-style: solid;\n",
       "    border-width: 0 1px 1px 0;\n",
       "    font-family: Arial, 'Albany AMT', Helvetica, Helv;\n",
       "    font-size:  normal;\n",
       "    font-style: normal;\n",
       "    font-weight: normal;\n",
       "}\n",
       ".datafixed {\n",
       "    background-color: #ffffff;\n",
       "    border-color: #c1c1c1;\n",
       "    border-style: solid;\n",
       "    border-width: 0 1px 1px 0;\n",
       "    font-family: 'Courier New', Courier;\n",
       "    font-size:  normal;\n",
       "    font-style: normal;\n",
       "    font-weight: normal;\n",
       "}\n",
       ".datastrong {\n",
       "    background-color: #ffffff;\n",
       "    border-color: #c1c1c1;\n",
       "    border-style: solid;\n",
       "    border-width: 0 1px 1px 0;\n",
       "    color: #000000;\n",
       "    font-family: Arial, 'Albany AMT', Helvetica, Helv;\n",
       "    font-size:  normal;\n",
       "    font-style: normal;\n",
       "    font-weight: bold;\n",
       "}\n",
       ".datastrongfixed {\n",
       "    background-color: #ffffff;\n",
       "    border-color: #c1c1c1;\n",
       "    border-style: solid;\n",
       "    border-width: 0 1px 1px 0;\n",
       "    color: #000000;\n",
       "    font-family: 'Courier New', Courier, monospace;\n",
       "    font-size:  normal;\n",
       "    font-style: normal;\n",
       "    font-weight: bold;\n",
       "}\n",
       ".date {\n",
       "    background-color: #fafbfe;\n",
       "    color: #000000;\n",
       "    font-family: Arial, 'Albany AMT', Helvetica, Helv;\n",
       "    font-size:  normal;\n",
       "    font-style: normal;\n",
       "    font-weight: normal;\n",
       "    width: 100%;\n",
       "}\n",
       ".document {\n",
       "    background-color: #fafbfe;\n",
       "    color: #000000;\n",
       "    font-family: Arial, 'Albany AMT', Helvetica, Helv;\n",
       "    font-size:  normal;\n",
       "    font-style: normal;\n",
       "    font-weight: normal;\n",
       "}\n",
       ".errorbanner {\n",
       "    background-color: #fafbfe;\n",
       "    color: #112277;\n",
       "    font-family: Arial, 'Albany AMT', Helvetica, Helv;\n",
       "    font-size:  normal;\n",
       "    font-style: normal;\n",
       "    font-weight: bold;\n",
       "}\n",
       ".errorcontent {\n",
       "    background-color: #fafbfe;\n",
       "    color: #112277;\n",
       "    font-family: Arial, 'Albany AMT', Helvetica, Helv;\n",
       "    font-size:  normal;\n",
       "    font-style: normal;\n",
       "    font-weight: normal;\n",
       "}\n",
       ".errorcontentfixed {\n",
       "    background-color: #fafbfe;\n",
       "    color: #112277;\n",
       "    font-family: 'Courier New', Courier;\n",
       "    font-size:  normal;\n",
       "    font-style: normal;\n",
       "    font-weight: normal;\n",
       "}\n",
       ".extendedpage {\n",
       "    background-color: #fafbfe;\n",
       "    border-style: solid;\n",
       "    border-width: 1pt;\n",
       "    color: #112277;\n",
       "    font-family: Arial, 'Albany AMT', Helvetica, Helv;\n",
       "    font-size:  normal;\n",
       "    font-style: italic;\n",
       "    font-weight: normal;\n",
       "    text-align: center;\n",
       "}\n",
       ".fatalbanner {\n",
       "    background-color: #fafbfe;\n",
       "    color: #112277;\n",
       "    font-family: Arial, 'Albany AMT', Helvetica, Helv;\n",
       "    font-size:  normal;\n",
       "    font-style: normal;\n",
       "    font-weight: bold;\n",
       "}\n",
       ".fatalcontent {\n",
       "    background-color: #fafbfe;\n",
       "    color: #112277;\n",
       "    font-family: Arial, 'Albany AMT', Helvetica, Helv;\n",
       "    font-size:  normal;\n",
       "    font-style: normal;\n",
       "    font-weight: normal;\n",
       "}\n",
       ".fatalcontentfixed {\n",
       "    background-color: #fafbfe;\n",
       "    color: #112277;\n",
       "    font-family: 'Courier New', Courier;\n",
       "    font-size:  normal;\n",
       "    font-style: normal;\n",
       "    font-weight: normal;\n",
       "}\n",
       ".folderaction {\n",
       "    color: #000000;\n",
       "    font-family: Arial, 'Albany AMT', Helvetica, Helv;\n",
       "    font-size:  normal;\n",
       "    font-style: normal;\n",
       "    font-weight: normal;\n",
       "    list-style-type: none;\n",
       "    margin-left: 6pt;\n",
       "}\n",
       ".footer {\n",
       "    background-color: #edf2f9;\n",
       "    border-color: #b0b7bb;\n",
       "    border-style: solid;\n",
       "    border-width: 0 1px 1px 0;\n",
       "    color: #112277;\n",
       "    font-family: Arial, 'Albany AMT', Helvetica, Helv;\n",
       "    font-size:  normal;\n",
       "    font-style: normal;\n",
       "    font-weight: bold;\n",
       "}\n",
       ".footeremphasis {\n",
       "    background-color: #edf2f9;\n",
       "    border-color: #b0b7bb;\n",
       "    border-style: solid;\n",
       "    border-width: 0 1px 1px 0;\n",
       "    color: #112277;\n",
       "    font-family: Arial, 'Albany AMT', Helvetica, Helv;\n",
       "    font-size:  normal;\n",
       "    font-style: italic;\n",
       "    font-weight: normal;\n",
       "}\n",
       ".footeremphasisfixed {\n",
       "    background-color: #edf2f9;\n",
       "    border-color: #b0b7bb;\n",
       "    border-style: solid;\n",
       "    border-width: 0 1px 1px 0;\n",
       "    color: #112277;\n",
       "    font-family: 'Courier New', Courier, monospace;\n",
       "    font-size:  normal;\n",
       "    font-style: italic;\n",
       "    font-weight: normal;\n",
       "}\n",
       ".footerempty {\n",
       "    background-color: #edf2f9;\n",
       "    border-color: #b0b7bb;\n",
       "    border-style: solid;\n",
       "    border-width: 0 1px 1px 0;\n",
       "    color: #112277;\n",
       "    font-family: Arial, 'Albany AMT', Helvetica, Helv;\n",
       "    font-size:  normal;\n",
       "    font-style: normal;\n",
       "    font-weight: bold;\n",
       "}\n",
       ".footerfixed {\n",
       "    background-color: #edf2f9;\n",
       "    border-color: #b0b7bb;\n",
       "    border-style: solid;\n",
       "    border-width: 0 1px 1px 0;\n",
       "    color: #112277;\n",
       "    font-family: 'Courier New', Courier;\n",
       "    font-size:  normal;\n",
       "    font-style: normal;\n",
       "    font-weight: normal;\n",
       "}\n",
       ".footerstrong {\n",
       "    background-color: #edf2f9;\n",
       "    border-color: #b0b7bb;\n",
       "    border-style: solid;\n",
       "    border-width: 0 1px 1px 0;\n",
       "    color: #112277;\n",
       "    font-family: Arial, 'Albany AMT', Helvetica, Helv;\n",
       "    font-size:  normal;\n",
       "    font-style: normal;\n",
       "    font-weight: bold;\n",
       "}\n",
       ".footerstrongfixed {\n",
       "    background-color: #edf2f9;\n",
       "    border-color: #b0b7bb;\n",
       "    border-style: solid;\n",
       "    border-width: 0 1px 1px 0;\n",
       "    color: #112277;\n",
       "    font-family: 'Courier New', Courier, monospace;\n",
       "    font-size:  normal;\n",
       "    font-style: normal;\n",
       "    font-weight: bold;\n",
       "}\n",
       ".frame {\n",
       "    background-color: #fafbfe;\n",
       "    color: #000000;\n",
       "    font-family: Arial, 'Albany AMT', Helvetica, Helv;\n",
       "    font-size:  normal;\n",
       "    font-style: normal;\n",
       "    font-weight: normal;\n",
       "}\n",
       ".graph > colgroup {\n",
       "    border-left: 1px solid #c1c1c1;\n",
       "    border-right: 1px solid #c1c1c1;\n",
       "}\n",
       ".graph > tbody, .graph > thead, .graph > tfoot {\n",
       "    border-top: 1px solid #c1c1c1;\n",
       "    border-bottom: 1px solid #c1c1c1;\n",
       "}\n",
       ".graph { border: hidden; }\n",
       ".graph {\n",
       "    background-color: #fafbfe;\n",
       "    border: 1px solid #c1c1c1;\n",
       "    border-collapse: separate;\n",
       "    border-spacing: 1px;\n",
       "    color: #000000;\n",
       "    font-family: Arial, 'Albany AMT', Helvetica, Helv;\n",
       "    font-size:  normal;\n",
       "    font-style: normal;\n",
       "    font-weight: normal;\n",
       "    }\n",
       ".header {\n",
       "    background-color: #edf2f9;\n",
       "    border-color: #b0b7bb;\n",
       "    border-style: solid;\n",
       "    border-width: 0 1px 1px 0;\n",
       "    color: #112277;\n",
       "    font-family: Arial, 'Albany AMT', Helvetica, Helv;\n",
       "    font-size:  normal;\n",
       "    font-style: normal;\n",
       "    font-weight: bold;\n",
       "}\n",
       ".headeremphasis {\n",
       "    background-color: #d8dbd3;\n",
       "    border-color: #b0b7bb;\n",
       "    border-style: solid;\n",
       "    border-width: 0 1px 1px 0;\n",
       "    color: #000000;\n",
       "    font-family: Arial, 'Albany AMT', Helvetica, Helv;\n",
       "    font-size:  normal;\n",
       "    font-style: italic;\n",
       "    font-weight: normal;\n",
       "}\n",
       ".headeremphasisfixed {\n",
       "    background-color: #d8dbd3;\n",
       "    border-color: #b0b7bb;\n",
       "    border-style: solid;\n",
       "    border-width: 0 1px 1px 0;\n",
       "    color: #000000;\n",
       "    font-family: 'Courier New', Courier, monospace;\n",
       "    font-size:  normal;\n",
       "    font-style: italic;\n",
       "    font-weight: normal;\n",
       "}\n",
       ".headerempty {\n",
       "    background-color: #edf2f9;\n",
       "    border-color: #b0b7bb;\n",
       "    border-style: solid;\n",
       "    border-width: 0 1px 1px 0;\n",
       "    color: #112277;\n",
       "    font-family: Arial, 'Albany AMT', Helvetica, Helv;\n",
       "    font-size:  normal;\n",
       "    font-style: normal;\n",
       "    font-weight: bold;\n",
       "}\n",
       ".headerfixed {\n",
       "    background-color: #edf2f9;\n",
       "    border-color: #b0b7bb;\n",
       "    border-style: solid;\n",
       "    border-width: 0 1px 1px 0;\n",
       "    color: #112277;\n",
       "    font-family: 'Courier New', Courier;\n",
       "    font-size:  normal;\n",
       "    font-style: normal;\n",
       "    font-weight: normal;\n",
       "}\n",
       ".headersandfooters {\n",
       "    background-color: #edf2f9;\n",
       "    color: #000000;\n",
       "    font-family: Arial, 'Albany AMT', Helvetica, Helv;\n",
       "    font-size:  normal;\n",
       "    font-style: normal;\n",
       "    font-weight: bold;\n",
       "}\n",
       ".headerstrong {\n",
       "    background-color: #d8dbd3;\n",
       "    border-color: #b0b7bb;\n",
       "    border-style: solid;\n",
       "    border-width: 0 1px 1px 0;\n",
       "    color: #000000;\n",
       "    font-family: Arial, 'Albany AMT', Helvetica, Helv;\n",
       "    font-size:  normal;\n",
       "    font-style: normal;\n",
       "    font-weight: bold;\n",
       "}\n",
       ".headerstrongfixed {\n",
       "    background-color: #d8dbd3;\n",
       "    border-color: #b0b7bb;\n",
       "    border-style: solid;\n",
       "    border-width: 0 1px 1px 0;\n",
       "    color: #000000;\n",
       "    font-family: 'Courier New', Courier, monospace;\n",
       "    font-size:  normal;\n",
       "    font-style: normal;\n",
       "    font-weight: bold;\n",
       "}\n",
       ".heading1, .heading2, .heading3, .heading4, .heading5, .heading6 { font-family: Arial, Helvetica, sans-serif }\n",
       ".index {\n",
       "    background-color: #fafbfe;\n",
       "    color: #000000;\n",
       "    font-family: Arial, 'Albany AMT', Helvetica, Helv;\n",
       "    font-size:  normal;\n",
       "    font-style: normal;\n",
       "    font-weight: normal;\n",
       "}\n",
       ".indexaction, .indexitem {\n",
       "    color: #000000;\n",
       "    font-family: Arial, 'Albany AMT', Helvetica, Helv;\n",
       "    font-size:  normal;\n",
       "    font-style: normal;\n",
       "    font-weight: normal;\n",
       "    list-style-type: none;\n",
       "    margin-left: 6pt;\n",
       "}\n",
       ".indexprocname {\n",
       "    background-color: #fafbfe;\n",
       "    color: #112277;\n",
       "    font-family: Arial, 'Albany AMT', Helvetica, Helv;\n",
       "    font-size:  normal;\n",
       "    font-style: normal;\n",
       "    font-weight: bold;\n",
       "}\n",
       ".indextitle {\n",
       "    background-color: #fafbfe;\n",
       "    color: #112277;\n",
       "    font-family: Arial, 'Albany AMT', Helvetica, Helv;\n",
       "    font-size:  normal;\n",
       "    font-style: italic;\n",
       "    font-weight: bold;\n",
       "}\n",
       ".layoutcontainer, .layoutregion {\n",
       "    border-width: 0;\n",
       "    border-spacing: 30px;\n",
       "}\n",
       ".linecontent {\n",
       "    background-color: #fafbfe;\n",
       "    border-color: #c1c1c1;\n",
       "    border-style: solid;\n",
       "    border-width: 0 1px 1px 0;\n",
       "    color: #112277;\n",
       "    font-family: Arial, 'Albany AMT', Helvetica, Helv;\n",
       "    font-size:  normal;\n",
       "    font-style: normal;\n",
       "    font-weight: normal;\n",
       "}\n",
       "a:link { color: #0000ff }\n",
       ".list {\n",
       "    background-color: #fafbfe;\n",
       "    color: #000000;\n",
       "    font-family: Arial, 'Albany AMT', Helvetica, Helv;\n",
       "    font-size:  normal;\n",
       "    font-style: normal;\n",
       "    font-weight: normal;\n",
       "    list-style-type: disc;\n",
       "}\n",
       ".list10 {\n",
       "    background-color: #fafbfe;\n",
       "    color: #000000;\n",
       "    font-family: Arial, 'Albany AMT', Helvetica, Helv;\n",
       "    font-size:  normal;\n",
       "    font-style: normal;\n",
       "    font-weight: normal;\n",
       "    list-style-type: square;\n",
       "}\n",
       ".list2 {\n",
       "    background-color: #fafbfe;\n",
       "    color: #000000;\n",
       "    font-family: Arial, 'Albany AMT', Helvetica, Helv;\n",
       "    font-size:  normal;\n",
       "    font-style: normal;\n",
       "    font-weight: normal;\n",
       "    list-style-type: circle;\n",
       "}\n",
       ".list3, .list4, .list5, .list6, .list7, .list8, .list9 {\n",
       "    background-color: #fafbfe;\n",
       "    color: #000000;\n",
       "    font-family: Arial, 'Albany AMT', Helvetica, Helv;\n",
       "    font-size:  normal;\n",
       "    font-style: normal;\n",
       "    font-weight: normal;\n",
       "    list-style-type: square;\n",
       "}\n",
       ".listitem {\n",
       "    background-color: #fafbfe;\n",
       "    color: #000000;\n",
       "    font-family: Arial, 'Albany AMT', Helvetica, Helv;\n",
       "    font-size:  normal;\n",
       "    font-style: normal;\n",
       "    font-weight: normal;\n",
       "    list-style-type: disc;\n",
       "}\n",
       ".listitem10 {\n",
       "    background-color: #fafbfe;\n",
       "    color: #000000;\n",
       "    font-family: Arial, 'Albany AMT', Helvetica, Helv;\n",
       "    font-size:  normal;\n",
       "    font-style: normal;\n",
       "    font-weight: normal;\n",
       "    list-style-type: square;\n",
       "}\n",
       ".listitem2 {\n",
       "    background-color: #fafbfe;\n",
       "    color: #000000;\n",
       "    font-family: Arial, 'Albany AMT', Helvetica, Helv;\n",
       "    font-size:  normal;\n",
       "    font-style: normal;\n",
       "    font-weight: normal;\n",
       "    list-style-type: circle;\n",
       "}\n",
       ".listitem3, .listitem4, .listitem5, .listitem6, .listitem7, .listitem8, .listitem9 {\n",
       "    background-color: #fafbfe;\n",
       "    color: #000000;\n",
       "    font-family: Arial, 'Albany AMT', Helvetica, Helv;\n",
       "    font-size:  normal;\n",
       "    font-style: normal;\n",
       "    font-weight: normal;\n",
       "    list-style-type: square;\n",
       "}\n",
       ".note {\n",
       "    background-color: #fafbfe;\n",
       "    color: #112277;\n",
       "    font-family: Arial, 'Albany AMT', Helvetica, Helv;\n",
       "    font-size:  normal;\n",
       "    font-style: normal;\n",
       "    font-weight: normal;\n",
       "}\n",
       ".notebanner {\n",
       "    background-color: #fafbfe;\n",
       "    color: #112277;\n",
       "    font-family: Arial, 'Albany AMT', Helvetica, Helv;\n",
       "    font-size:  normal;\n",
       "    font-style: normal;\n",
       "    font-weight: bold;\n",
       "}\n",
       ".notecontent {\n",
       "    background-color: #fafbfe;\n",
       "    color: #112277;\n",
       "    font-family: Arial, 'Albany AMT', Helvetica, Helv;\n",
       "    font-size:  normal;\n",
       "    font-style: normal;\n",
       "    font-weight: normal;\n",
       "}\n",
       ".notecontentfixed {\n",
       "    background-color: #fafbfe;\n",
       "    color: #112277;\n",
       "    font-family: 'Courier New', Courier;\n",
       "    font-size:  normal;\n",
       "    font-style: normal;\n",
       "    font-weight: normal;\n",
       "}\n",
       ".output > colgroup {\n",
       "    border-left: 1px solid #c1c1c1;\n",
       "    border-right: 1px solid #c1c1c1;\n",
       "}\n",
       ".output > tbody, .output > thead, .output > tfoot {\n",
       "    border-top: 1px solid #c1c1c1;\n",
       "    border-bottom: 1px solid #c1c1c1;\n",
       "}\n",
       ".output { border: hidden; }\n",
       ".output {\n",
       "    background-color: #fafbfe;\n",
       "    border: 1px solid #c1c1c1;\n",
       "    border-collapse: separate;\n",
       "    border-spacing: 1px;\n",
       "    color: #000000;\n",
       "    font-family: Arial, 'Albany AMT', Helvetica, Helv;\n",
       "    font-size:  normal;\n",
       "    font-style: normal;\n",
       "    font-weight: normal;\n",
       "    }\n",
       ".pageno {\n",
       "    background-color: #fafbfe;\n",
       "    border-spacing: 0;\n",
       "    color: #112277;\n",
       "    font-family: Arial, 'Albany AMT', Helvetica, Helv;\n",
       "    font-size:  normal;\n",
       "    font-style: normal;\n",
       "    font-weight: bold;\n",
       "    text-align: right;\n",
       "    vertical-align: top;\n",
       "}\n",
       ".pages {\n",
       "    background-color: #fafbfe;\n",
       "    color: #000000;\n",
       "    font-family: Arial, 'Albany AMT', Helvetica, Helv;\n",
       "    font-size:  normal;\n",
       "    font-style: normal;\n",
       "    font-weight: normal;\n",
       "    list-style-type: decimal;\n",
       "    margin-left: 8px;\n",
       "    margin-right: 8px;\n",
       "}\n",
       ".pagesdate {\n",
       "    background-color: #fafbfe;\n",
       "    color: #000000;\n",
       "    font-family: Arial, 'Albany AMT', Helvetica, Helv;\n",
       "    font-size:  normal;\n",
       "    font-style: normal;\n",
       "    font-weight: normal;\n",
       "    width: 100%;\n",
       "}\n",
       ".pagesitem {\n",
       "    color: #000000;\n",
       "    font-family: Arial, 'Albany AMT', Helvetica, Helv;\n",
       "    font-size:  normal;\n",
       "    font-style: normal;\n",
       "    font-weight: normal;\n",
       "    list-style-type: none;\n",
       "    margin-left: 6pt;\n",
       "}\n",
       ".pagesproclabel, .pagesprocname {\n",
       "    background-color: #fafbfe;\n",
       "    color: #112277;\n",
       "    font-family: Arial, 'Albany AMT', Helvetica, Helv;\n",
       "    font-size:  normal;\n",
       "    font-style: normal;\n",
       "    font-weight: bold;\n",
       "}\n",
       ".pagestitle {\n",
       "    background-color: #fafbfe;\n",
       "    color: #112277;\n",
       "    font-family: Arial, 'Albany AMT', Helvetica, Helv;\n",
       "    font-size:  normal;\n",
       "    font-style: italic;\n",
       "    font-weight: bold;\n",
       "}\n",
       ".paragraph {\n",
       "    background-color: #fafbfe;\n",
       "    color: #000000;\n",
       "    font-family: Arial, 'Albany AMT', Helvetica, Helv;\n",
       "    font-size:  normal;\n",
       "    font-style: normal;\n",
       "    font-weight: normal;\n",
       "}\n",
       ".parskip > col, .parskip > colgroup > col, .parskip > colgroup, .parskip > tr, .parskip > * > tr, .parskip > thead, .parskip > tbody, .parskip > tfoot { border: none; }\n",
       ".parskip {\n",
       "    border: none;\n",
       "    border-spacing: 0;\n",
       "    font-family: Arial, 'Albany AMT', Helvetica, Helv;\n",
       "    font-size:  normal;\n",
       "    font-style: normal;\n",
       "    font-weight: bold;\n",
       "    }\n",
       ".prepage {\n",
       "    background-color: #fafbfe;\n",
       "    color: #112277;\n",
       "    font-family: Arial, 'Albany AMT', Helvetica, Helv;\n",
       "    font-size:  normal;\n",
       "    font-style: normal;\n",
       "    font-weight: normal;\n",
       "    text-align: left;\n",
       "}\n",
       ".proctitle {\n",
       "    background-color: #fafbfe;\n",
       "    color: #112277;\n",
       "    font-family: Arial, 'Albany AMT', Helvetica, Helv;\n",
       "    font-size:  normal;\n",
       "    font-style: normal;\n",
       "    font-weight: bold;\n",
       "}\n",
       ".proctitlefixed {\n",
       "    background-color: #fafbfe;\n",
       "    color: #112277;\n",
       "    font-family: 'Courier New', Courier, monospace;\n",
       "    font-size:  normal;\n",
       "    font-style: normal;\n",
       "    font-weight: bold;\n",
       "}\n",
       ".rowfooter {\n",
       "    background-color: #edf2f9;\n",
       "    border-color: #b0b7bb;\n",
       "    border-style: solid;\n",
       "    border-width: 0 1px 1px 0;\n",
       "    color: #112277;\n",
       "    font-family: Arial, 'Albany AMT', Helvetica, Helv;\n",
       "    font-size:  normal;\n",
       "    font-style: normal;\n",
       "    font-weight: bold;\n",
       "}\n",
       ".rowfooteremphasis {\n",
       "    background-color: #edf2f9;\n",
       "    border-color: #b0b7bb;\n",
       "    border-style: solid;\n",
       "    border-width: 0 1px 1px 0;\n",
       "    color: #112277;\n",
       "    font-family: Arial, 'Albany AMT', Helvetica, Helv;\n",
       "    font-size:  normal;\n",
       "    font-style: italic;\n",
       "    font-weight: normal;\n",
       "}\n",
       ".rowfooteremphasisfixed {\n",
       "    background-color: #edf2f9;\n",
       "    border-color: #b0b7bb;\n",
       "    border-style: solid;\n",
       "    border-width: 0 1px 1px 0;\n",
       "    color: #112277;\n",
       "    font-family: 'Courier New', Courier, monospace;\n",
       "    font-size:  normal;\n",
       "    font-style: italic;\n",
       "    font-weight: normal;\n",
       "}\n",
       ".rowfooterempty {\n",
       "    background-color: #edf2f9;\n",
       "    border-color: #b0b7bb;\n",
       "    border-style: solid;\n",
       "    border-width: 0 1px 1px 0;\n",
       "    color: #112277;\n",
       "    font-family: Arial, 'Albany AMT', Helvetica, Helv;\n",
       "    font-size:  normal;\n",
       "    font-style: normal;\n",
       "    font-weight: bold;\n",
       "}\n",
       ".rowfooterfixed {\n",
       "    background-color: #edf2f9;\n",
       "    border-color: #b0b7bb;\n",
       "    border-style: solid;\n",
       "    border-width: 0 1px 1px 0;\n",
       "    color: #112277;\n",
       "    font-family: 'Courier New', Courier;\n",
       "    font-size:  normal;\n",
       "    font-style: normal;\n",
       "    font-weight: normal;\n",
       "}\n",
       ".rowfooterstrong {\n",
       "    background-color: #edf2f9;\n",
       "    border-color: #b0b7bb;\n",
       "    border-style: solid;\n",
       "    border-width: 0 1px 1px 0;\n",
       "    color: #112277;\n",
       "    font-family: Arial, 'Albany AMT', Helvetica, Helv;\n",
       "    font-size:  normal;\n",
       "    font-style: normal;\n",
       "    font-weight: bold;\n",
       "}\n",
       ".rowfooterstrongfixed {\n",
       "    background-color: #edf2f9;\n",
       "    border-color: #b0b7bb;\n",
       "    border-style: solid;\n",
       "    border-width: 0 1px 1px 0;\n",
       "    color: #112277;\n",
       "    font-family: 'Courier New', Courier, monospace;\n",
       "    font-size:  normal;\n",
       "    font-style: normal;\n",
       "    font-weight: bold;\n",
       "}\n",
       ".rowheader {\n",
       "    background-color: #edf2f9;\n",
       "    border-color: #b0b7bb;\n",
       "    border-style: solid;\n",
       "    border-width: 0 1px 1px 0;\n",
       "    color: #112277;\n",
       "    font-family: Arial, 'Albany AMT', Helvetica, Helv;\n",
       "    font-size:  normal;\n",
       "    font-style: normal;\n",
       "    font-weight: bold;\n",
       "}\n",
       ".rowheaderemphasis {\n",
       "    background-color: #edf2f9;\n",
       "    border-color: #b0b7bb;\n",
       "    border-style: solid;\n",
       "    border-width: 0 1px 1px 0;\n",
       "    color: #112277;\n",
       "    font-family: Arial, 'Albany AMT', Helvetica, Helv;\n",
       "    font-size:  normal;\n",
       "    font-style: italic;\n",
       "    font-weight: normal;\n",
       "}\n",
       ".rowheaderemphasisfixed {\n",
       "    background-color: #edf2f9;\n",
       "    border-color: #b0b7bb;\n",
       "    border-style: solid;\n",
       "    border-width: 0 1px 1px 0;\n",
       "    color: #112277;\n",
       "    font-family: 'Courier New', Courier, monospace;\n",
       "    font-size:  normal;\n",
       "    font-style: italic;\n",
       "    font-weight: normal;\n",
       "}\n",
       ".rowheaderempty {\n",
       "    background-color: #edf2f9;\n",
       "    border-color: #b0b7bb;\n",
       "    border-style: solid;\n",
       "    border-width: 0 1px 1px 0;\n",
       "    color: #112277;\n",
       "    font-family: Arial, 'Albany AMT', Helvetica, Helv;\n",
       "    font-size:  normal;\n",
       "    font-style: normal;\n",
       "    font-weight: bold;\n",
       "}\n",
       ".rowheaderfixed {\n",
       "    background-color: #edf2f9;\n",
       "    border-color: #b0b7bb;\n",
       "    border-style: solid;\n",
       "    border-width: 0 1px 1px 0;\n",
       "    color: #112277;\n",
       "    font-family: 'Courier New', Courier;\n",
       "    font-size:  normal;\n",
       "    font-style: normal;\n",
       "    font-weight: normal;\n",
       "}\n",
       ".rowheaderstrong {\n",
       "    background-color: #edf2f9;\n",
       "    border-color: #b0b7bb;\n",
       "    border-style: solid;\n",
       "    border-width: 0 1px 1px 0;\n",
       "    color: #112277;\n",
       "    font-family: Arial, 'Albany AMT', Helvetica, Helv;\n",
       "    font-size:  normal;\n",
       "    font-style: normal;\n",
       "    font-weight: bold;\n",
       "}\n",
       ".rowheaderstrongfixed {\n",
       "    background-color: #edf2f9;\n",
       "    border-color: #b0b7bb;\n",
       "    border-style: solid;\n",
       "    border-width: 0 1px 1px 0;\n",
       "    color: #112277;\n",
       "    font-family: 'Courier New', Courier, monospace;\n",
       "    font-size:  normal;\n",
       "    font-style: normal;\n",
       "    font-weight: bold;\n",
       "}\n",
       ".systemfooter, .systemfooter10, .systemfooter2, .systemfooter3, .systemfooter4, .systemfooter5, .systemfooter6, .systemfooter7, .systemfooter8, .systemfooter9 {\n",
       "    background-color: #fafbfe;\n",
       "    color: #112277;\n",
       "    font-family: Arial, 'Albany AMT', Helvetica, Helv;\n",
       "    font-size:  normal;\n",
       "    font-style: normal;\n",
       "    font-weight: normal;\n",
       "}\n",
       ".systemtitle, .systemtitle10, .systemtitle2, .systemtitle3, .systemtitle4, .systemtitle5, .systemtitle6, .systemtitle7, .systemtitle8, .systemtitle9 {\n",
       "    background-color: #fafbfe;\n",
       "    color: #112277;\n",
       "    font-family: Arial, 'Albany AMT', Helvetica, Helv;\n",
       "    font-size: small;\n",
       "    font-style: normal;\n",
       "    font-weight: bold;\n",
       "}\n",
       ".systitleandfootercontainer > col, .systitleandfootercontainer > colgroup > col, .systitleandfootercontainer > colgroup, .systitleandfootercontainer > tr, .systitleandfootercontainer > * > tr, .systitleandfootercontainer > thead, .systitleandfootercontainer > tbody, .systitleandfootercontainer > tfoot { border: none; }\n",
       ".systitleandfootercontainer {\n",
       "    background-color: #fafbfe;\n",
       "    border: none;\n",
       "    border-spacing: 1px;\n",
       "    color: #000000;\n",
       "    font-family: Arial, 'Albany AMT', Helvetica, Helv;\n",
       "    font-size:  normal;\n",
       "    font-style: normal;\n",
       "    font-weight: normal;\n",
       "    width: 100%;\n",
       "}\n",
       ".table > col, .table > colgroup > col {\n",
       "    border-left: 1px solid #c1c1c1;\n",
       "    border-right: 0 solid #c1c1c1;\n",
       "}\n",
       ".table > tr, .table > * > tr {\n",
       "    border-top: 1px solid #c1c1c1;\n",
       "    border-bottom: 0 solid #c1c1c1;\n",
       "}\n",
       ".table { border: hidden; }\n",
       ".table {\n",
       "    border-color: #c1c1c1;\n",
       "    border-style: solid;\n",
       "    border-width: 1px 0 0 1px;\n",
       "    border-collapse: collapse;\n",
       "    border-spacing: 0;\n",
       "    }\n",
       ".titleandnotecontainer > col, .titleandnotecontainer > colgroup > col, .titleandnotecontainer > colgroup, .titleandnotecontainer > tr, .titleandnotecontainer > * > tr, .titleandnotecontainer > thead, .titleandnotecontainer > tbody, .titleandnotecontainer > tfoot { border: none; }\n",
       ".titleandnotecontainer {\n",
       "    background-color: #fafbfe;\n",
       "    border: none;\n",
       "    border-spacing: 1px;\n",
       "    color: #000000;\n",
       "    font-family: Arial, 'Albany AMT', Helvetica, Helv;\n",
       "    font-size:  normal;\n",
       "    font-style: normal;\n",
       "    font-weight: normal;\n",
       "    width: 100%;\n",
       "}\n",
       ".titlesandfooters {\n",
       "    background-color: #fafbfe;\n",
       "    color: #112277;\n",
       "    font-family: Arial, 'Albany AMT', Helvetica, Helv;\n",
       "    font-size:  normal;\n",
       "    font-style: normal;\n",
       "    font-weight: bold;\n",
       "}\n",
       ".usertext {\n",
       "    background-color: #fafbfe;\n",
       "    color: #112277;\n",
       "    font-family: Arial, 'Albany AMT', Helvetica, Helv;\n",
       "    font-size:  normal;\n",
       "    font-style: normal;\n",
       "    font-weight: normal;\n",
       "}\n",
       "a:visited { color: #800080 }\n",
       ".warnbanner {\n",
       "    background-color: #fafbfe;\n",
       "    color: #112277;\n",
       "    font-family: Arial, 'Albany AMT', Helvetica, Helv;\n",
       "    font-size:  normal;\n",
       "    font-style: normal;\n",
       "    font-weight: bold;\n",
       "}\n",
       ".warncontent {\n",
       "    background-color: #fafbfe;\n",
       "    color: #112277;\n",
       "    font-family: Arial, 'Albany AMT', Helvetica, Helv;\n",
       "    font-size:  normal;\n",
       "    font-style: normal;\n",
       "    font-weight: normal;\n",
       "}\n",
       ".warncontentfixed {\n",
       "    background-color: #fafbfe;\n",
       "    color: #112277;\n",
       "    font-family: 'Courier New', Courier;\n",
       "    font-size:  normal;\n",
       "    font-style: normal;\n",
       "    font-weight: normal;\n",
       "}\n",
       "/*]]>*/\n",
       "</style>\n",
       "</head>\n",
       "<body class=\"l body\">\n",
       "<div style=\"padding-bottom: 8px; padding-top: 1px\">\n",
       "<div id=\"IDX\" class=\"systitleandfootercontainer\" style=\"border-spacing: 1px\">\n",
       "<p><span class=\"c systemtitle\">The SAS System</span> </p>\n",
       "</div>\n",
       "<div class=\"proc_title_group\">\n",
       "<p class=\"c proctitle\">The MEANS Procedure</p>\n",
       "</div>\n",
       "<div style=\"padding-bottom: 8px; padding-top: 1px\">\n",
       "<table class=\"table\" style=\"border-spacing: 0\" aria-label=\"Summary statistics\">\n",
       "<caption aria-label=\"Summary statistics\"></caption>\n",
       "<colgroup><col/><col/><col/><col/><col/></colgroup>\n",
       "<thead>\n",
       "<tr>\n",
       "<th class=\"c b header\" colspan=\"5\" scope=\"colgroup\">Analysis Variable : SALARY</th>\n",
       "</tr>\n",
       "<tr>\n",
       "<th class=\"r b header\" scope=\"col\">N</th>\n",
       "<th class=\"r b header\" scope=\"col\">Mean</th>\n",
       "<th class=\"r b header\" scope=\"col\">Std Dev</th>\n",
       "<th class=\"r b header\" scope=\"col\">Minimum</th>\n",
       "<th class=\"r b header\" scope=\"col\">Maximum</th>\n",
       "</tr>\n",
       "</thead>\n",
       "<tbody>\n",
       "<tr>\n",
       "<td class=\"r data\">475</td>\n",
       "<td class=\"r data\">9924594.54</td>\n",
       "<td class=\"r data\">11295475.05</td>\n",
       "<td class=\"r data\">28954.00</td>\n",
       "<td class=\"r data\">51915615.00</td>\n",
       "</tr>\n",
       "</tbody>\n",
       "</table>\n",
       "</div>\n",
       "</div>\n",
       "<div style=\"padding-bottom: 8px; padding-top: 1px\">\n",
       "<hr class=\"pagebreak\"/>\n",
       "<div id=\"IDX1\" class=\"systitleandfootercontainer\" style=\"border-spacing: 1px\">\n",
       "<p><span class=\"c systemtitle\">The SAS System</span> </p>\n",
       "</div>\n",
       "<div style=\"padding-bottom: 8px; padding-top: 1px\">\n",
       "<table class=\"table\" style=\"border-spacing: 0\" aria-label=\"Data Set L.NBA_SALARY_DATA\">\n",
       "<caption aria-label=\"Data Set L.NBA_SALARY_DATA\"></caption>\n",
       "<colgroup><col/></colgroup><colgroup><col/><col/><col/><col/><col/><col/><col/><col/></colgroup>\n",
       "<thead>\n",
       "<tr>\n",
       "<th class=\"r header\" scope=\"col\">Obs</th>\n",
       "<th class=\"r header\" scope=\"col\">RK</th>\n",
       "<th class=\"header\" scope=\"col\">NAME</th>\n",
       "<th class=\"header\" scope=\"col\">TEAM</th>\n",
       "<th class=\"header\" scope=\"col\">DIVISION</th>\n",
       "<th class=\"header\" scope=\"col\">CONFERENCE</th>\n",
       "<th class=\"header\" scope=\"col\">POSITION</th>\n",
       "<th class=\"r header\" scope=\"col\">SALARY</th>\n",
       "<th class=\"r header\" scope=\"col\">PLAYERS</th>\n",
       "</tr>\n",
       "</thead>\n",
       "<tbody>\n",
       "<tr>\n",
       "<th class=\"r rowheader\" scope=\"row\">1</th>\n",
       "<td class=\"r data\">1</td>\n",
       "<td class=\"data\">Stephen Curry, PG</td>\n",
       "<td class=\"data\">Golden State Warriors</td>\n",
       "<td class=\"data\">Pacific</td>\n",
       "<td class=\"data\">Western</td>\n",
       "<td class=\"data\">PG</td>\n",
       "<td class=\"r data\">$51,915,615</td>\n",
       "<td class=\"r data\">1</td>\n",
       "</tr>\n",
       "</tbody>\n",
       "</table>\n",
       "</div>\n",
       "</div>\n",
       "</body>\n",
       "</html>\n"
      ],
      "text/plain": [
       "<IPython.core.display.HTML object>"
      ]
     },
     "execution_count": 2,
     "metadata": {},
     "output_type": "execute_result"
    }
   ],
   "source": [
    "%%SAS sas_session\n",
    "                                                      * Use %%SAS magic to run SAS code in cell;                                    \n",
    "proc means data=l.nba_salary_data; var salary;        * Run PROC MEANS;\n",
    "proc print data=l.nba_salary_data(obs=1); run;        * Run PROC PRINT;\n",
    "run;"
   ]
  },
  {
   "cell_type": "code",
   "execution_count": 3,
   "id": "7abf6069",
   "metadata": {},
   "outputs": [
    {
     "data": {
      "text/html": [
       "<!DOCTYPE html PUBLIC \"-//W3C//DTD HTML 4.01//EN\"\n",
       "   \"http://www.w3.org/TR/html4/strict.dtd\">\n",
       "<!--\n",
       "generated by Pygments <https://pygments.org/>\n",
       "Copyright 2006-2023 by the Pygments team.\n",
       "Licensed under the BSD license, see LICENSE for details.\n",
       "-->\n",
       "<html>\n",
       "<head>\n",
       "  <title></title>\n",
       "  <meta http-equiv=\"content-type\" content=\"text/html; charset=None\">\n",
       "  <style type=\"text/css\">\n",
       "/*\n",
       "generated by Pygments <https://pygments.org/>\n",
       "Copyright 2006-2023 by the Pygments team.\n",
       "Licensed under the BSD license, see LICENSE for details.\n",
       "*/\n",
       "pre { line-height: 125%; }\n",
       "td.linenos .normal { color: inherit; background-color: transparent; padding-left: 5px; padding-right: 5px; }\n",
       "span.linenos { color: inherit; background-color: transparent; padding-left: 5px; padding-right: 5px; }\n",
       "td.linenos .special { color: #000000; background-color: #ffffc0; padding-left: 5px; padding-right: 5px; }\n",
       "span.linenos.special { color: #000000; background-color: #ffffc0; padding-left: 5px; padding-right: 5px; }\n",
       "body .hll { background-color: #ffffcc }\n",
       "body { background: #ffffff; }\n",
       "body .c { color: #0000FF } /* Comment */\n",
       "body .k { color: #ff0000; font-weight: bold } /* Keyword */\n",
       "body .n { color: #008000 } /* Name */\n",
       "body .ch { color: #0000FF } /* Comment.Hashbang */\n",
       "body .cm { color: #0000FF } /* Comment.Multiline */\n",
       "body .cp { color: #0000FF } /* Comment.Preproc */\n",
       "body .cpf { color: #0000FF } /* Comment.PreprocFile */\n",
       "body .c1 { color: #0000FF } /* Comment.Single */\n",
       "body .cs { color: #0000FF } /* Comment.Special */\n",
       "body .kc { color: #ff0000; font-weight: bold } /* Keyword.Constant */\n",
       "body .kd { color: #ff0000; font-weight: bold } /* Keyword.Declaration */\n",
       "body .kn { color: #ff0000; font-weight: bold } /* Keyword.Namespace */\n",
       "body .kp { color: #ff0000; font-weight: bold } /* Keyword.Pseudo */\n",
       "body .kr { color: #ff0000; font-weight: bold } /* Keyword.Reserved */\n",
       "body .kt { color: #ff0000; font-weight: bold } /* Keyword.Type */\n",
       "body .s { color: #111111 } /* Literal.String */\n",
       "body .na { color: #008000 } /* Name.Attribute */\n",
       "body .nb { color: #008000 } /* Name.Builtin */\n",
       "body .nc { color: #008000 } /* Name.Class */\n",
       "body .no { color: #008000 } /* Name.Constant */\n",
       "body .nd { color: #008000 } /* Name.Decorator */\n",
       "body .ni { color: #008000 } /* Name.Entity */\n",
       "body .ne { color: #008000 } /* Name.Exception */\n",
       "body .nf { color: #008000 } /* Name.Function */\n",
       "body .nl { color: #008000 } /* Name.Label */\n",
       "body .nn { color: #008000 } /* Name.Namespace */\n",
       "body .nx { color: #008000 } /* Name.Other */\n",
       "body .py { color: #008000 } /* Name.Property */\n",
       "body .nt { color: #008000 } /* Name.Tag */\n",
       "body .nv { color: #008000 } /* Name.Variable */\n",
       "body .sa { color: #111111 } /* Literal.String.Affix */\n",
       "body .sb { color: #111111 } /* Literal.String.Backtick */\n",
       "body .sc { color: #111111 } /* Literal.String.Char */\n",
       "body .dl { color: #111111 } /* Literal.String.Delimiter */\n",
       "body .sd { color: #111111 } /* Literal.String.Doc */\n",
       "body .s2 { color: #111111 } /* Literal.String.Double */\n",
       "body .se { color: #111111 } /* Literal.String.Escape */\n",
       "body .sh { color: #111111 } /* Literal.String.Heredoc */\n",
       "body .si { color: #111111 } /* Literal.String.Interpol */\n",
       "body .sx { color: #111111 } /* Literal.String.Other */\n",
       "body .sr { color: #111111 } /* Literal.String.Regex */\n",
       "body .s1 { color: #111111 } /* Literal.String.Single */\n",
       "body .ss { color: #111111 } /* Literal.String.Symbol */\n",
       "body .bp { color: #008000 } /* Name.Builtin.Pseudo */\n",
       "body .fm { color: #008000 } /* Name.Function.Magic */\n",
       "body .vc { color: #008000 } /* Name.Variable.Class */\n",
       "body .vg { color: #008000 } /* Name.Variable.Global */\n",
       "body .vi { color: #008000 } /* Name.Variable.Instance */\n",
       "body .vm { color: #008000 } /* Name.Variable.Magic */\n",
       "\n",
       "  </style>\n",
       "</head>\n",
       "<body>\n",
       "<h2></h2>\n",
       "\n",
       "<div class=\"highlight\"><pre><span></span><span class=\"s\">15                                                         The SAS System                       Sunday, October 20, 2024 05:27:00 AM</span><br><br><span class=\"s\">76         ods listing close;ods html5 (id=saspy_internal) file=_tomods1 options(bitmap_mode=&#39;inline&#39;) device=svg style=HTMLBlue;</span><br><span class=\"s\">76       ! ods graphics on / outputfmt=png;</span><br><span class=\"s\">77         </span><br><span class=\"s\">78         ods graphics / height=4.5in width=10in;    * SAS Box+Scatter plots of salaries by position;</span><br><span class=\"s\">79         proc sgplot data=l.nba_salary_data;        * Use NBA SAS dataset;</span><br><span class=\"s\">80         hbox salary / category=position;           * Box plot showing distribution of salaries by position;</span><br><span class=\"s\">81         scatter y=position x=salary / jitter;      * Add scatter plot to show additional distribution detail;</span><br><span class=\"s\">82         </span><br><span class=\"s\">83         </span><br><span class=\"s\">84         </span><br><span class=\"s\">85         ods html5 (id=saspy_internal) close;ods listing;</span><br><span class=\"s\">86         </span><br><br><span class=\"s\">16                                                         The SAS System                       Sunday, October 20, 2024 05:27:00 AM</span><br><br><span class=\"s\">87         </span><br></pre></div>\n",
       "</body>\n",
       "</html>\n"
      ],
      "text/plain": [
       "<IPython.core.display.HTML object>"
      ]
     },
     "execution_count": 3,
     "metadata": {},
     "output_type": "execute_result"
    }
   ],
   "source": [
    "%%SAS sas_session\n",
    "ods graphics / height=4.5in width=10in;    * SAS Box+Scatter plots of salaries by position;   \n",
    "proc sgplot data=l.nba_salary_data;        * Use NBA SAS dataset;\n",
    "hbox salary / category=position;           * Box plot showing distribution of salaries by position;\n",
    "scatter y=position x=salary / jitter;      * Add scatter plot to show additional distribution detail;"
   ]
  },
  {
   "cell_type": "code",
   "execution_count": 4,
   "id": "cc6aab0e",
   "metadata": {},
   "outputs": [
    {
     "data": {
      "text/html": [
       "<div>\n",
       "<style scoped>\n",
       "    .dataframe tbody tr th:only-of-type {\n",
       "        vertical-align: middle;\n",
       "    }\n",
       "\n",
       "    .dataframe tbody tr th {\n",
       "        vertical-align: top;\n",
       "    }\n",
       "\n",
       "    .dataframe thead th {\n",
       "        text-align: right;\n",
       "    }\n",
       "</style>\n",
       "<table border=\"1\" class=\"dataframe\">\n",
       "  <thead>\n",
       "    <tr style=\"text-align: right;\">\n",
       "      <th></th>\n",
       "      <th>RK</th>\n",
       "      <th>NAME</th>\n",
       "      <th>TEAM</th>\n",
       "      <th>DIVISION</th>\n",
       "      <th>CONFERENCE</th>\n",
       "      <th>POSITION</th>\n",
       "      <th>SALARY</th>\n",
       "      <th>PLAYERS</th>\n",
       "    </tr>\n",
       "  </thead>\n",
       "  <tbody>\n",
       "    <tr>\n",
       "      <th>0</th>\n",
       "      <td>1.0</td>\n",
       "      <td>Stephen Curry, PG</td>\n",
       "      <td>Golden State Warriors</td>\n",
       "      <td>Pacific</td>\n",
       "      <td>Western</td>\n",
       "      <td>PG</td>\n",
       "      <td>51915615</td>\n",
       "      <td>1.0</td>\n",
       "    </tr>\n",
       "    <tr>\n",
       "      <th>1</th>\n",
       "      <td>2.0</td>\n",
       "      <td>Kevin Durant, PF</td>\n",
       "      <td>Phoenix Suns</td>\n",
       "      <td>Pacific</td>\n",
       "      <td>Western</td>\n",
       "      <td>PF</td>\n",
       "      <td>47649433</td>\n",
       "      <td>1.0</td>\n",
       "    </tr>\n",
       "    <tr>\n",
       "      <th>2</th>\n",
       "      <td>3.0</td>\n",
       "      <td>LeBron James, SF</td>\n",
       "      <td>Los Angeles Lakers</td>\n",
       "      <td>Pacific</td>\n",
       "      <td>Western</td>\n",
       "      <td>SF</td>\n",
       "      <td>47607350</td>\n",
       "      <td>1.0</td>\n",
       "    </tr>\n",
       "    <tr>\n",
       "      <th>3</th>\n",
       "      <td>4.0</td>\n",
       "      <td>Nikola Jokic, C</td>\n",
       "      <td>Denver Nuggets</td>\n",
       "      <td>Northwest</td>\n",
       "      <td>Western</td>\n",
       "      <td>C</td>\n",
       "      <td>47607350</td>\n",
       "      <td>1.0</td>\n",
       "    </tr>\n",
       "    <tr>\n",
       "      <th>4</th>\n",
       "      <td>5.0</td>\n",
       "      <td>Joel Embiid, C</td>\n",
       "      <td>Philadelphia 76ers</td>\n",
       "      <td>Atlantic</td>\n",
       "      <td>Eastern</td>\n",
       "      <td>C</td>\n",
       "      <td>46900000</td>\n",
       "      <td>1.0</td>\n",
       "    </tr>\n",
       "    <tr>\n",
       "      <th>...</th>\n",
       "      <td>...</td>\n",
       "      <td>...</td>\n",
       "      <td>...</td>\n",
       "      <td>...</td>\n",
       "      <td>...</td>\n",
       "      <td>...</td>\n",
       "      <td>...</td>\n",
       "      <td>...</td>\n",
       "    </tr>\n",
       "    <tr>\n",
       "      <th>470</th>\n",
       "      <td>471.0</td>\n",
       "      <td>Patty Mills, PG</td>\n",
       "      <td>Miami Heat</td>\n",
       "      <td>Southeast</td>\n",
       "      <td>Eastern</td>\n",
       "      <td>PG</td>\n",
       "      <td>475908</td>\n",
       "      <td>1.0</td>\n",
       "    </tr>\n",
       "    <tr>\n",
       "      <th>471</th>\n",
       "      <td>472.0</td>\n",
       "      <td>Dominick Barlow, F</td>\n",
       "      <td>San Antonio Spurs</td>\n",
       "      <td>Southwest</td>\n",
       "      <td>Western</td>\n",
       "      <td>F</td>\n",
       "      <td>455620</td>\n",
       "      <td>1.0</td>\n",
       "    </tr>\n",
       "    <tr>\n",
       "      <th>472</th>\n",
       "      <td>473.0</td>\n",
       "      <td>Taj Gibson, F</td>\n",
       "      <td>Detroit Pistons</td>\n",
       "      <td>Central</td>\n",
       "      <td>Eastern</td>\n",
       "      <td>F</td>\n",
       "      <td>348225</td>\n",
       "      <td>1.0</td>\n",
       "    </tr>\n",
       "    <tr>\n",
       "      <th>473</th>\n",
       "      <td>474.0</td>\n",
       "      <td>Onuralp Bitim, SF</td>\n",
       "      <td>Chicago Bulls</td>\n",
       "      <td>Central</td>\n",
       "      <td>Eastern</td>\n",
       "      <td>SF</td>\n",
       "      <td>334582</td>\n",
       "      <td>1.0</td>\n",
       "    </tr>\n",
       "    <tr>\n",
       "      <th>474</th>\n",
       "      <td>475.0</td>\n",
       "      <td>Javon Freeman-Liberty, G</td>\n",
       "      <td>Toronto Raptors</td>\n",
       "      <td>Atlantic</td>\n",
       "      <td>Eastern</td>\n",
       "      <td>G</td>\n",
       "      <td>28954</td>\n",
       "      <td>1.0</td>\n",
       "    </tr>\n",
       "  </tbody>\n",
       "</table>\n",
       "<p>475 rows × 8 columns</p>\n",
       "</div>"
      ],
      "text/plain": [
       "        RK                      NAME                   TEAM   DIVISION  \\\n",
       "0      1.0         Stephen Curry, PG  Golden State Warriors    Pacific   \n",
       "1      2.0          Kevin Durant, PF           Phoenix Suns    Pacific   \n",
       "2      3.0          LeBron James, SF     Los Angeles Lakers    Pacific   \n",
       "3      4.0           Nikola Jokic, C         Denver Nuggets  Northwest   \n",
       "4      5.0            Joel Embiid, C     Philadelphia 76ers   Atlantic   \n",
       "..     ...                       ...                    ...        ...   \n",
       "470  471.0           Patty Mills, PG             Miami Heat  Southeast   \n",
       "471  472.0        Dominick Barlow, F      San Antonio Spurs  Southwest   \n",
       "472  473.0             Taj Gibson, F        Detroit Pistons    Central   \n",
       "473  474.0         Onuralp Bitim, SF          Chicago Bulls    Central   \n",
       "474  475.0  Javon Freeman-Liberty, G        Toronto Raptors   Atlantic   \n",
       "\n",
       "    CONFERENCE POSITION    SALARY  PLAYERS  \n",
       "0      Western       PG  51915615      1.0  \n",
       "1      Western       PF  47649433      1.0  \n",
       "2      Western       SF  47607350      1.0  \n",
       "3      Western        C  47607350      1.0  \n",
       "4      Eastern        C  46900000      1.0  \n",
       "..         ...      ...       ...      ...  \n",
       "470    Eastern       PG    475908      1.0  \n",
       "471    Western        F    455620      1.0  \n",
       "472    Eastern        F    348225      1.0  \n",
       "473    Eastern       SF    334582      1.0  \n",
       "474    Eastern        G     28954      1.0  \n",
       "\n",
       "[475 rows x 8 columns]"
      ]
     },
     "execution_count": 4,
     "metadata": {},
     "output_type": "execute_result"
    }
   ],
   "source": [
    "import pandas as pd                             # Create Pandas Dataframe on PC from SAS dataset\n",
    "df=sas_session.sasdata2dataframe('nba_salary_data','l') # Download SAS dataset into Pandas\n",
    "df.SALARY=df.SALARY.astype('Int64')             # Convert salary from float to integer\n",
    "df                                              # Display players with five highest & lowest salaries "
   ]
  },
  {
   "cell_type": "code",
   "execution_count": 5,
   "id": "c01e9875",
   "metadata": {},
   "outputs": [
    {
     "name": "stderr",
     "output_type": "stream",
     "text": [
      "c:\\Users\\tedco\\anaconda3\\lib\\site-packages\\saspy\\sasioiom.py:1556: UserWarning: Note that Indexes are not transferred over as columns. Only actual columns are transferred\n",
      "  warnings.warn(\"Note that Indexes are not transferred over as columns. Only actual columns are transferred\")\n"
     ]
    },
    {
     "data": {
      "text/html": [
       "<div>\n",
       "<style scoped>\n",
       "    .dataframe tbody tr th:only-of-type {\n",
       "        vertical-align: middle;\n",
       "    }\n",
       "\n",
       "    .dataframe tbody tr th {\n",
       "        vertical-align: top;\n",
       "    }\n",
       "\n",
       "    .dataframe thead th {\n",
       "        text-align: right;\n",
       "    }\n",
       "</style>\n",
       "<table border=\"1\" class=\"dataframe\">\n",
       "  <thead>\n",
       "    <tr style=\"text-align: right;\">\n",
       "      <th></th>\n",
       "      <th>Variable</th>\n",
       "      <th>N</th>\n",
       "      <th>NMiss</th>\n",
       "      <th>Median</th>\n",
       "      <th>Mean</th>\n",
       "      <th>StdDev</th>\n",
       "      <th>Min</th>\n",
       "      <th>P25</th>\n",
       "      <th>P50</th>\n",
       "      <th>P75</th>\n",
       "      <th>Max</th>\n",
       "    </tr>\n",
       "  </thead>\n",
       "  <tbody>\n",
       "    <tr>\n",
       "      <th>0</th>\n",
       "      <td>RK</td>\n",
       "      <td>16.0</td>\n",
       "      <td>0.0</td>\n",
       "      <td>211.0</td>\n",
       "      <td>2.275000e+02</td>\n",
       "      <td>1.632140e+02</td>\n",
       "      <td>1.0</td>\n",
       "      <td>61.0</td>\n",
       "      <td>211.0</td>\n",
       "      <td>380.0</td>\n",
       "      <td>467.0</td>\n",
       "    </tr>\n",
       "    <tr>\n",
       "      <th>1</th>\n",
       "      <td>SALARY</td>\n",
       "      <td>16.0</td>\n",
       "      <td>0.0</td>\n",
       "      <td>6245920.0</td>\n",
       "      <td>1.345637e+07</td>\n",
       "      <td>1.623273e+07</td>\n",
       "      <td>548815.0</td>\n",
       "      <td>2019706.0</td>\n",
       "      <td>6245920.0</td>\n",
       "      <td>23325893.0</td>\n",
       "      <td>51915615.0</td>\n",
       "    </tr>\n",
       "    <tr>\n",
       "      <th>2</th>\n",
       "      <td>PLAYERS</td>\n",
       "      <td>16.0</td>\n",
       "      <td>0.0</td>\n",
       "      <td>1.0</td>\n",
       "      <td>1.000000e+00</td>\n",
       "      <td>0.000000e+00</td>\n",
       "      <td>1.0</td>\n",
       "      <td>1.0</td>\n",
       "      <td>1.0</td>\n",
       "      <td>1.0</td>\n",
       "      <td>1.0</td>\n",
       "    </tr>\n",
       "  </tbody>\n",
       "</table>\n",
       "</div>"
      ],
      "text/plain": [
       "  Variable     N  NMiss     Median          Mean        StdDev       Min  \\\n",
       "0       RK  16.0    0.0      211.0  2.275000e+02  1.632140e+02       1.0   \n",
       "1   SALARY  16.0    0.0  6245920.0  1.345637e+07  1.623273e+07  548815.0   \n",
       "2  PLAYERS  16.0    0.0        1.0  1.000000e+00  0.000000e+00       1.0   \n",
       "\n",
       "         P25        P50         P75         Max  \n",
       "0       61.0      211.0       380.0       467.0  \n",
       "1  2019706.0  6245920.0  23325893.0  51915615.0  \n",
       "2        1.0        1.0         1.0         1.0  "
      ]
     },
     "execution_count": 5,
     "metadata": {},
     "output_type": "execute_result"
    }
   ],
   "source": [
    "df_gs=df[df[\"TEAM\"]==\"Golden State Warriors\"]   # Select just the Golden State Warriors players\n",
    "my_sas_dataset = sas_session.df2sd(df_gs)       # Use dataframe to create SAS data set with df2sd()\n",
    "my_sas_dataset.describe()                       # Use describe() to get SAS PROC MEANS output"
   ]
  },
  {
   "cell_type": "code",
   "execution_count": 6,
   "id": "c07f6e2d",
   "metadata": {},
   "outputs": [
    {
     "data": {
      "text/html": [
       "<div>\n",
       "<style scoped>\n",
       "    .dataframe tbody tr th:only-of-type {\n",
       "        vertical-align: middle;\n",
       "    }\n",
       "\n",
       "    .dataframe tbody tr th {\n",
       "        vertical-align: top;\n",
       "    }\n",
       "\n",
       "    .dataframe thead th {\n",
       "        text-align: right;\n",
       "    }\n",
       "</style>\n",
       "<table border=\"1\" class=\"dataframe\">\n",
       "  <thead>\n",
       "    <tr style=\"text-align: right;\">\n",
       "      <th></th>\n",
       "      <th>RK</th>\n",
       "      <th>SALARY</th>\n",
       "      <th>PLAYERS</th>\n",
       "    </tr>\n",
       "  </thead>\n",
       "  <tbody>\n",
       "    <tr>\n",
       "      <th>count</th>\n",
       "      <td>475.000000</td>\n",
       "      <td>475.0</td>\n",
       "      <td>475.0</td>\n",
       "    </tr>\n",
       "    <tr>\n",
       "      <th>mean</th>\n",
       "      <td>238.000000</td>\n",
       "      <td>9924594.536842</td>\n",
       "      <td>1.0</td>\n",
       "    </tr>\n",
       "    <tr>\n",
       "      <th>std</th>\n",
       "      <td>137.264951</td>\n",
       "      <td>11295475.0508</td>\n",
       "      <td>0.0</td>\n",
       "    </tr>\n",
       "    <tr>\n",
       "      <th>min</th>\n",
       "      <td>1.000000</td>\n",
       "      <td>28954.0</td>\n",
       "      <td>1.0</td>\n",
       "    </tr>\n",
       "    <tr>\n",
       "      <th>25%</th>\n",
       "      <td>119.500000</td>\n",
       "      <td>2019760.0</td>\n",
       "      <td>1.0</td>\n",
       "    </tr>\n",
       "    <tr>\n",
       "      <th>50%</th>\n",
       "      <td>238.000000</td>\n",
       "      <td>5000000.0</td>\n",
       "      <td>1.0</td>\n",
       "    </tr>\n",
       "    <tr>\n",
       "      <th>75%</th>\n",
       "      <td>356.500000</td>\n",
       "      <td>12452500.0</td>\n",
       "      <td>1.0</td>\n",
       "    </tr>\n",
       "    <tr>\n",
       "      <th>max</th>\n",
       "      <td>475.000000</td>\n",
       "      <td>51915615.0</td>\n",
       "      <td>1.0</td>\n",
       "    </tr>\n",
       "  </tbody>\n",
       "</table>\n",
       "</div>"
      ],
      "text/plain": [
       "               RK          SALARY  PLAYERS\n",
       "count  475.000000           475.0    475.0\n",
       "mean   238.000000  9924594.536842      1.0\n",
       "std    137.264951   11295475.0508      0.0\n",
       "min      1.000000         28954.0      1.0\n",
       "25%    119.500000       2019760.0      1.0\n",
       "50%    238.000000       5000000.0      1.0\n",
       "75%    356.500000      12452500.0      1.0\n",
       "max    475.000000      51915615.0      1.0"
      ]
     },
     "execution_count": 6,
     "metadata": {},
     "output_type": "execute_result"
    }
   ],
   "source": [
    "import plotly.express as px                     # Interactive Plotly Sunburst Chart of NBA Salaries (2023-24)\n",
    "df['STAT']='<b>2023-24<br>NBA SALARIES</b>'     # Title for center (grand total)                                            \n",
    "fig = px.sunburst(df,                           # Specify hierarchy levels for Sunburst salary chart\n",
    "                  path=['STAT','CONFERENCE','DIVISION','TEAM','NAME'], values='SALARY', color='TEAM')\n",
    "fig.update_layout(autosize=True, margin=dict(l=0, r=0, t=0, b=0), width=800) # Make margins smaller\n",
    "fig.update_traces(texttemplate='%{label}<br>%{value:$,}')  # Display labels & salary in wedges\n",
    "fig.update_traces(hovertemplate='%{label}<br>%{value:$,}') # Display labels & salary  $ in hover text\n",
    "fig.add_layout_image(dict(source=\"https://upload.wikimedia.org/wikipedia/en/thumb/0/03/National_Basketball_Association_logo.svg/903px-National_Basketball_Association_logo.svg.png\",\n",
    "            xref=\"paper\", yref=\"paper\", x=0, y=1, sizex=.2, sizey=.2)) # Add NBA logo from Wikipedia\n",
    "fig.add_annotation(text=\"2023-24<br>NBA Salaries\", xref=\"paper\", yref=\"paper\", x=1, y=0, showarrow=False,\n",
    "                   font_family=\"Calibri\", font_size=32) # Add description\n",
    "fig.show(renderer=\"browser\")                    # Open Sunburst chart in new browser window\n",
    "df.describe()                                   # Display some basic descriptive stats about data"
   ]
  },
  {
   "cell_type": "code",
   "execution_count": 15,
   "id": "8b3c9f6c",
   "metadata": {},
   "outputs": [
    {
     "data": {
      "application/vnd.plotly.v1+json": {
       "config": {
        "plotlyServerURL": "https://plot.ly"
       },
       "data": [
        {
         "branchvalues": "total",
         "customdata": [
          [
           "Indiana Pacers"
          ],
          [
           "Washington Wizards"
          ],
          [
           "Philadelphia 76ers"
          ],
          [
           "Portland Trail Blazers"
          ],
          [
           "Boston Celtics"
          ],
          [
           "Orlando Magic"
          ],
          [
           "Oklahoma City Thunder"
          ],
          [
           "Golden State Warriors"
          ],
          [
           "Charlotte Hornets"
          ],
          [
           "Detroit Pistons"
          ],
          [
           "Los Angeles Lakers"
          ],
          [
           "Minnesota Timberwolves"
          ],
          [
           "Denver Nuggets"
          ],
          [
           "Sacramento Kings"
          ],
          [
           "Denver Nuggets"
          ],
          [
           "Cleveland Cavaliers"
          ],
          [
           "Memphis Grizzlies"
          ],
          [
           "Phoenix Suns"
          ],
          [
           "Phoenix Suns"
          ],
          [
           "Atlanta Hawks"
          ],
          [
           "Toronto Raptors"
          ],
          [
           "Los Angeles Lakers"
          ],
          [
           "Phoenix Suns"
          ],
          [
           "Cleveland Cavaliers"
          ],
          [
           "Minnesota Timberwolves"
          ],
          [
           "LA Clippers"
          ],
          [
           "Atlanta Hawks"
          ],
          [
           "Indiana Pacers"
          ],
          [
           "Minnesota Timberwolves"
          ],
          [
           "Oklahoma City Thunder"
          ],
          [
           "New Orleans Pelicans"
          ],
          [
           "Philadelphia 76ers"
          ],
          [
           "New York Knicks"
          ],
          [
           "LA Clippers"
          ],
          [
           "Oklahoma City Thunder"
          ],
          [
           "Toronto Raptors"
          ],
          [
           "Detroit Pistons"
          ],
          [
           "Cleveland Cavaliers"
          ],
          [
           "Cleveland Cavaliers"
          ],
          [
           "Philadelphia 76ers"
          ],
          [
           "Portland Trail Blazers"
          ],
          [
           "Memphis Grizzlies"
          ],
          [
           "Minnesota Timberwolves"
          ],
          [
           "LA Clippers"
          ],
          [
           "New Orleans Pelicans"
          ],
          [
           "Philadelphia 76ers"
          ],
          [
           "Cleveland Cavaliers"
          ],
          [
           "Sacramento Kings"
          ],
          [
           "New Orleans Pelicans"
          ],
          [
           "Orlando Magic"
          ],
          [
           "Memphis Grizzlies"
          ],
          [
           "Chicago Bulls"
          ],
          [
           "Brooklyn Nets"
          ],
          [
           "LA Clippers"
          ],
          [
           "Memphis Grizzlies"
          ],
          [
           "Golden State Warriors"
          ],
          [
           "Milwaukee Bucks"
          ],
          [
           "Sacramento Kings"
          ],
          [
           "New Orleans Pelicans"
          ],
          [
           "Charlotte Hornets"
          ],
          [
           "Dallas Mavericks"
          ],
          [
           "Detroit Pistons"
          ],
          [
           "Utah Jazz"
          ],
          [
           "Golden State Warriors"
          ],
          [
           "Milwaukee Bucks"
          ],
          [
           "Sacramento Kings"
          ],
          [
           "Utah Jazz"
          ],
          [
           "Miami Heat"
          ],
          [
           "Cleveland Cavaliers"
          ],
          [
           "Memphis Grizzlies"
          ],
          [
           "Phoenix Suns"
          ],
          [
           "Milwaukee Bucks"
          ],
          [
           "Dallas Mavericks"
          ],
          [
           "Los Angeles Lakers"
          ],
          [
           "Detroit Pistons"
          ],
          [
           "Charlotte Hornets"
          ],
          [
           "Brooklyn Nets"
          ],
          [
           "Sacramento Kings"
          ],
          [
           "Miami Heat"
          ],
          [
           "Memphis Grizzlies"
          ],
          [
           "Milwaukee Bucks"
          ],
          [
           "Chicago Bulls"
          ],
          [
           "Brooklyn Nets"
          ],
          [
           "Detroit Pistons"
          ],
          [
           "Sacramento Kings"
          ],
          [
           "Portland Trail Blazers"
          ],
          [
           "Indiana Pacers"
          ],
          [
           "Memphis Grizzlies"
          ],
          [
           "Milwaukee Bucks"
          ],
          [
           "Milwaukee Bucks"
          ],
          [
           "Orlando Magic"
          ],
          [
           "Denver Nuggets"
          ],
          [
           "New York Knicks"
          ],
          [
           "Charlotte Hornets"
          ],
          [
           "Cleveland Cavaliers"
          ],
          [
           "Charlotte Hornets"
          ],
          [
           "Indiana Pacers"
          ],
          [
           "Chicago Bulls"
          ],
          [
           "Toronto Raptors"
          ],
          [
           "Los Angeles Lakers"
          ],
          [
           "Miami Heat"
          ],
          [
           "Boston Celtics"
          ],
          [
           "Boston Celtics"
          ],
          [
           "Minnesota Timberwolves"
          ],
          [
           "Minnesota Timberwolves"
          ],
          [
           "Cleveland Cavaliers"
          ],
          [
           "San Antonio Spurs"
          ],
          [
           "New York Knicks"
          ],
          [
           "Denver Nuggets"
          ],
          [
           "Phoenix Suns"
          ],
          [
           "Brooklyn Nets"
          ],
          [
           "Minnesota Timberwolves"
          ],
          [
           "San Antonio Spurs"
          ],
          [
           "Golden State Warriors"
          ],
          [
           "LA Clippers"
          ],
          [
           "Philadelphia 76ers"
          ],
          [
           "Boston Celtics"
          ],
          [
           "Denver Nuggets"
          ],
          [
           "New Orleans Pelicans"
          ],
          [
           "Washington Wizards"
          ],
          [
           "Houston Rockets"
          ],
          [
           "Orlando Magic"
          ],
          [
           "Philadelphia 76ers"
          ],
          [
           "Washington Wizards"
          ],
          [
           "Charlotte Hornets"
          ],
          [
           "San Antonio Spurs"
          ],
          [
           "New York Knicks"
          ],
          [
           "Memphis Grizzlies"
          ],
          [
           "Boston Celtics"
          ],
          [
           "Toronto Raptors"
          ],
          [
           "Portland Trail Blazers"
          ],
          [
           "Washington Wizards"
          ],
          [
           "Denver Nuggets"
          ],
          [
           "Oklahoma City Thunder"
          ],
          [
           "Portland Trail Blazers"
          ],
          [
           "New Orleans Pelicans"
          ],
          [
           "Chicago Bulls"
          ],
          [
           "Toronto Raptors"
          ],
          [
           "Miami Heat"
          ],
          [
           "Philadelphia 76ers"
          ],
          [
           "Los Angeles Lakers"
          ],
          [
           "San Antonio Spurs"
          ],
          [
           "Atlanta Hawks"
          ],
          [
           "Philadelphia 76ers"
          ],
          [
           "Chicago Bulls"
          ],
          [
           "Toronto Raptors"
          ],
          [
           "Denver Nuggets"
          ],
          [
           "Golden State Warriors"
          ],
          [
           "New Orleans Pelicans"
          ],
          [
           "Miami Heat"
          ],
          [
           "Sacramento Kings"
          ],
          [
           "Orlando Magic"
          ],
          [
           "Los Angeles Lakers"
          ],
          [
           "Houston Rockets"
          ],
          [
           "Milwaukee Bucks"
          ],
          [
           "New York Knicks"
          ],
          [
           "LA Clippers"
          ],
          [
           "Dallas Mavericks"
          ],
          [
           "Brooklyn Nets"
          ],
          [
           "LA Clippers"
          ],
          [
           "Oklahoma City Thunder"
          ],
          [
           "Sacramento Kings"
          ],
          [
           "San Antonio Spurs"
          ],
          [
           "Oklahoma City Thunder"
          ],
          [
           "Cleveland Cavaliers"
          ],
          [
           "Brooklyn Nets"
          ],
          [
           "Oklahoma City Thunder"
          ],
          [
           "Houston Rockets"
          ],
          [
           "Houston Rockets"
          ],
          [
           "Indiana Pacers"
          ],
          [
           "Milwaukee Bucks"
          ],
          [
           "Miami Heat"
          ],
          [
           "Sacramento Kings"
          ],
          [
           "Washington Wizards"
          ],
          [
           "Phoenix Suns"
          ],
          [
           "Toronto Raptors"
          ],
          [
           "Toronto Raptors"
          ],
          [
           "New Orleans Pelicans"
          ],
          [
           "New Orleans Pelicans"
          ],
          [
           "Portland Trail Blazers"
          ],
          [
           "Oklahoma City Thunder"
          ],
          [
           "Brooklyn Nets"
          ],
          [
           "San Antonio Spurs"
          ],
          [
           "San Antonio Spurs"
          ],
          [
           "Washington Wizards"
          ],
          [
           "Los Angeles Lakers"
          ],
          [
           "Detroit Pistons"
          ],
          [
           "Toronto Raptors"
          ],
          [
           "Orlando Magic"
          ],
          [
           "Cleveland Cavaliers"
          ],
          [
           "Toronto Raptors"
          ],
          [
           "Houston Rockets"
          ],
          [
           "Chicago Bulls"
          ],
          [
           "New York Knicks"
          ],
          [
           "Charlotte Hornets"
          ],
          [
           "Miami Heat"
          ],
          [
           "Charlotte Hornets"
          ],
          [
           "Orlando Magic"
          ],
          [
           "New Orleans Pelicans"
          ],
          [
           "Detroit Pistons"
          ],
          [
           "Oklahoma City Thunder"
          ],
          [
           "Los Angeles Lakers"
          ],
          [
           "Houston Rockets"
          ],
          [
           "Utah Jazz"
          ],
          [
           "Chicago Bulls"
          ],
          [
           "Brooklyn Nets"
          ],
          [
           "Detroit Pistons"
          ],
          [
           "LA Clippers"
          ],
          [
           "Washington Wizards"
          ],
          [
           "Philadelphia 76ers"
          ],
          [
           "LA Clippers"
          ],
          [
           "Atlanta Hawks"
          ],
          [
           "San Antonio Spurs"
          ],
          [
           "Atlanta Hawks"
          ],
          [
           "Milwaukee Bucks"
          ],
          [
           "Sacramento Kings"
          ],
          [
           "Atlanta Hawks"
          ],
          [
           "Houston Rockets"
          ],
          [
           "Dallas Mavericks"
          ],
          [
           "Cleveland Cavaliers"
          ],
          [
           "Oklahoma City Thunder"
          ],
          [
           "Golden State Warriors"
          ],
          [
           "Miami Heat"
          ],
          [
           "Golden State Warriors"
          ],
          [
           "Dallas Mavericks"
          ],
          [
           "Portland Trail Blazers"
          ],
          [
           "Detroit Pistons"
          ],
          [
           "Philadelphia 76ers"
          ],
          [
           "Utah Jazz"
          ],
          [
           "Milwaukee Bucks"
          ],
          [
           "Brooklyn Nets"
          ],
          [
           "Indiana Pacers"
          ],
          [
           "Atlanta Hawks"
          ],
          [
           "Los Angeles Lakers"
          ],
          [
           "Minnesota Timberwolves"
          ],
          [
           "Phoenix Suns"
          ],
          [
           "Philadelphia 76ers"
          ],
          [
           "Golden State Warriors"
          ],
          [
           "Portland Trail Blazers"
          ],
          [
           "Sacramento Kings"
          ],
          [
           "Portland Trail Blazers"
          ],
          [
           "Indiana Pacers"
          ],
          [
           "Boston Celtics"
          ],
          [
           "Philadelphia 76ers"
          ],
          [
           "New York Knicks"
          ],
          [
           "Indiana Pacers"
          ],
          [
           "Dallas Mavericks"
          ],
          [
           "San Antonio Spurs"
          ],
          [
           "Atlanta Hawks"
          ],
          [
           "Portland Trail Blazers"
          ],
          [
           "Denver Nuggets"
          ],
          [
           "Charlotte Hornets"
          ],
          [
           "San Antonio Spurs"
          ],
          [
           "Milwaukee Bucks"
          ],
          [
           "Portland Trail Blazers"
          ],
          [
           "Chicago Bulls"
          ],
          [
           "Sacramento Kings"
          ],
          [
           "Dallas Mavericks"
          ],
          [
           "Brooklyn Nets"
          ],
          [
           "New Orleans Pelicans"
          ],
          [
           "Miami Heat"
          ],
          [
           "Sacramento Kings"
          ],
          [
           "Toronto Raptors"
          ],
          [
           "Miami Heat"
          ],
          [
           "Memphis Grizzlies"
          ],
          [
           "Oklahoma City Thunder"
          ],
          [
           "Oklahoma City Thunder"
          ],
          [
           "Houston Rockets"
          ],
          [
           "Indiana Pacers"
          ],
          [
           "Charlotte Hornets"
          ],
          [
           "Dallas Mavericks"
          ],
          [
           "Boston Celtics"
          ],
          [
           "Denver Nuggets"
          ],
          [
           "Sacramento Kings"
          ],
          [
           "Detroit Pistons"
          ],
          [
           "Milwaukee Bucks"
          ],
          [
           "Dallas Mavericks"
          ],
          [
           "Los Angeles Lakers"
          ],
          [
           "Minnesota Timberwolves"
          ],
          [
           "Utah Jazz"
          ],
          [
           "Houston Rockets"
          ],
          [
           "Boston Celtics"
          ],
          [
           "Brooklyn Nets"
          ],
          [
           "Phoenix Suns"
          ],
          [
           "Brooklyn Nets"
          ],
          [
           "Chicago Bulls"
          ],
          [
           "Toronto Raptors"
          ],
          [
           "Denver Nuggets"
          ],
          [
           "Boston Celtics"
          ],
          [
           "Miami Heat"
          ],
          [
           "New York Knicks"
          ],
          [
           "Los Angeles Lakers"
          ],
          [
           "Oklahoma City Thunder"
          ],
          [
           "Indiana Pacers"
          ],
          [
           "Cleveland Cavaliers"
          ],
          [
           "Detroit Pistons"
          ],
          [
           "Chicago Bulls"
          ],
          [
           "Orlando Magic"
          ],
          [
           "Charlotte Hornets"
          ],
          [
           "Oklahoma City Thunder"
          ],
          [
           "Boston Celtics"
          ],
          [
           "Detroit Pistons"
          ],
          [
           "Detroit Pistons"
          ],
          [
           "Phoenix Suns"
          ],
          [
           "Miami Heat"
          ],
          [
           "Cleveland Cavaliers"
          ],
          [
           "Los Angeles Lakers"
          ],
          [
           "Sacramento Kings"
          ],
          [
           "Utah Jazz"
          ],
          [
           "Washington Wizards"
          ],
          [
           "New Orleans Pelicans"
          ],
          [
           "Utah Jazz"
          ],
          [
           "San Antonio Spurs"
          ],
          [
           "Minnesota Timberwolves"
          ],
          [
           "Philadelphia 76ers"
          ],
          [
           "Philadelphia 76ers"
          ],
          [
           "Washington Wizards"
          ],
          [
           "Atlanta Hawks"
          ],
          [
           "Utah Jazz"
          ],
          [
           "Utah Jazz"
          ],
          [
           "Detroit Pistons"
          ],
          [
           "Charlotte Hornets"
          ],
          [
           "New York Knicks"
          ],
          [
           "Portland Trail Blazers"
          ],
          [
           "San Antonio Spurs"
          ],
          [
           "Golden State Warriors"
          ],
          [
           "Atlanta Hawks"
          ],
          [
           "Indiana Pacers"
          ],
          [
           "Memphis Grizzlies"
          ],
          [
           "Houston Rockets"
          ],
          [
           "New Orleans Pelicans"
          ],
          [
           "Memphis Grizzlies"
          ],
          [
           "Orlando Magic"
          ],
          [
           "Los Angeles Lakers"
          ],
          [
           "New Orleans Pelicans"
          ],
          [
           "New York Knicks"
          ],
          [
           "Phoenix Suns"
          ],
          [
           "Toronto Raptors"
          ],
          [
           "Brooklyn Nets"
          ],
          [
           "Sacramento Kings"
          ],
          [
           "Atlanta Hawks"
          ],
          [
           "Orlando Magic"
          ],
          [
           "Chicago Bulls"
          ],
          [
           "Miami Heat"
          ],
          [
           "Dallas Mavericks"
          ],
          [
           "Washington Wizards"
          ],
          [
           "Philadelphia 76ers"
          ],
          [
           "Denver Nuggets"
          ],
          [
           "Milwaukee Bucks"
          ],
          [
           "Philadelphia 76ers"
          ],
          [
           "Boston Celtics"
          ],
          [
           "Miami Heat"
          ],
          [
           "Detroit Pistons"
          ],
          [
           "Memphis Grizzlies"
          ],
          [
           "Los Angeles Lakers"
          ],
          [
           "Orlando Magic"
          ],
          [
           "Golden State Warriors"
          ],
          [
           "Brooklyn Nets"
          ],
          [
           "Houston Rockets"
          ],
          [
           "Charlotte Hornets"
          ],
          [
           "Golden State Warriors"
          ],
          [
           "Phoenix Suns"
          ],
          [
           "LA Clippers"
          ],
          [
           "Los Angeles Lakers"
          ],
          [
           "Houston Rockets"
          ],
          [
           "Atlanta Hawks"
          ],
          [
           "Cleveland Cavaliers"
          ],
          [
           "Milwaukee Bucks"
          ],
          [
           "Charlotte Hornets"
          ],
          [
           "Washington Wizards"
          ],
          [
           "Indiana Pacers"
          ],
          [
           "Utah Jazz"
          ],
          [
           "Indiana Pacers"
          ],
          [
           "Utah Jazz"
          ],
          [
           "Denver Nuggets"
          ],
          [
           "Golden State Warriors"
          ],
          [
           "Washington Wizards"
          ],
          [
           "Golden State Warriors"
          ],
          [
           "Chicago Bulls"
          ],
          [
           "Portland Trail Blazers"
          ],
          [
           "LA Clippers"
          ],
          [
           "Golden State Warriors"
          ],
          [
           "San Antonio Spurs"
          ],
          [
           "Golden State Warriors"
          ],
          [
           "Miami Heat"
          ],
          [
           "Orlando Magic"
          ],
          [
           "Chicago Bulls"
          ],
          [
           "Charlotte Hornets"
          ],
          [
           "Utah Jazz"
          ],
          [
           "Dallas Mavericks"
          ],
          [
           "Toronto Raptors"
          ],
          [
           "LA Clippers"
          ],
          [
           "Orlando Magic"
          ],
          [
           "Houston Rockets"
          ],
          [
           "Miami Heat"
          ],
          [
           "Atlanta Hawks"
          ],
          [
           "Utah Jazz"
          ],
          [
           "Washington Wizards"
          ],
          [
           "Boston Celtics"
          ],
          [
           "San Antonio Spurs"
          ],
          [
           "Dallas Mavericks"
          ],
          [
           "Sacramento Kings"
          ],
          [
           "Denver Nuggets"
          ],
          [
           "Charlotte Hornets"
          ],
          [
           "Atlanta Hawks"
          ],
          [
           "Charlotte Hornets"
          ],
          [
           "Memphis Grizzlies"
          ],
          [
           "Minnesota Timberwolves"
          ],
          [
           "Orlando Magic"
          ],
          [
           "LA Clippers"
          ],
          [
           "New York Knicks"
          ],
          [
           "Memphis Grizzlies"
          ],
          [
           "Indiana Pacers"
          ],
          [
           "Detroit Pistons"
          ],
          [
           "Golden State Warriors"
          ],
          [
           "Atlanta Hawks"
          ],
          [
           "Portland Trail Blazers"
          ],
          [
           "Portland Trail Blazers"
          ],
          [
           "Chicago Bulls"
          ],
          [
           "Detroit Pistons"
          ],
          [
           "Dallas Mavericks"
          ],
          [
           "Houston Rockets"
          ],
          [
           "Minnesota Timberwolves"
          ],
          [
           "Milwaukee Bucks"
          ],
          [
           "Charlotte Hornets"
          ],
          [
           "Denver Nuggets"
          ],
          [
           "San Antonio Spurs"
          ],
          [
           "Boston Celtics"
          ],
          [
           "Toronto Raptors"
          ],
          [
           "New York Knicks"
          ],
          [
           "Miami Heat"
          ],
          [
           "Indiana Pacers"
          ],
          [
           "Phoenix Suns"
          ],
          [
           "LA Clippers"
          ],
          [
           "New York Knicks"
          ],
          [
           "Dallas Mavericks"
          ],
          [
           "New Orleans Pelicans"
          ],
          [
           "Washington Wizards"
          ],
          [
           "Chicago Bulls"
          ],
          [
           "Phoenix Suns"
          ],
          [
           "Chicago Bulls"
          ],
          [
           "Utah Jazz"
          ],
          [
           "New York Knicks"
          ],
          [
           "Brooklyn Nets"
          ],
          [
           "Oklahoma City Thunder"
          ],
          [
           "Memphis Grizzlies"
          ],
          [
           "Minnesota Timberwolves"
          ],
          [
           "Dallas Mavericks"
          ],
          [
           "Cleveland Cavaliers"
          ],
          [
           "Utah Jazz"
          ],
          [
           "Utah Jazz"
          ],
          [
           "Phoenix Suns"
          ],
          [
           "Houston Rockets"
          ],
          [
           "New York Knicks"
          ],
          [
           "Memphis Grizzlies"
          ],
          [
           "LA Clippers"
          ],
          [
           "Boston Celtics"
          ],
          [
           "Memphis Grizzlies"
          ],
          [
           "San Antonio Spurs"
          ],
          [
           "Orlando Magic"
          ],
          [
           "Philadelphia 76ers"
          ],
          [
           "Cleveland Cavaliers"
          ],
          [
           "Detroit Pistons"
          ],
          [
           "Toronto Raptors"
          ],
          [
           "Dallas Mavericks"
          ],
          [
           "Denver Nuggets"
          ],
          [
           "Minnesota Timberwolves"
          ],
          [
           "Detroit Pistons"
          ],
          [
           "Oklahoma City Thunder"
          ],
          [
           "Memphis Grizzlies"
          ],
          [
           "Sacramento Kings"
          ],
          [
           "Chicago Bulls"
          ],
          [
           "LA Clippers"
          ],
          [
           "Brooklyn Nets"
          ],
          [
           "Milwaukee Bucks"
          ],
          [
           "Atlanta Hawks"
          ],
          [
           "Boston Celtics"
          ],
          [
           "Brooklyn Nets"
          ],
          [
           "Charlotte Hornets"
          ],
          [
           "Chicago Bulls"
          ],
          [
           "Cleveland Cavaliers"
          ],
          [
           "Dallas Mavericks"
          ],
          [
           "Denver Nuggets"
          ],
          [
           "Detroit Pistons"
          ],
          [
           "Golden State Warriors"
          ],
          [
           "Houston Rockets"
          ],
          [
           "Indiana Pacers"
          ],
          [
           "LA Clippers"
          ],
          [
           "Los Angeles Lakers"
          ],
          [
           "Memphis Grizzlies"
          ],
          [
           "Miami Heat"
          ],
          [
           "Milwaukee Bucks"
          ],
          [
           "Minnesota Timberwolves"
          ],
          [
           "New Orleans Pelicans"
          ],
          [
           "New York Knicks"
          ],
          [
           "Oklahoma City Thunder"
          ],
          [
           "Orlando Magic"
          ],
          [
           "Philadelphia 76ers"
          ],
          [
           "Phoenix Suns"
          ],
          [
           "Portland Trail Blazers"
          ],
          [
           "Sacramento Kings"
          ],
          [
           "San Antonio Spurs"
          ],
          [
           "Toronto Raptors"
          ],
          [
           "Utah Jazz"
          ],
          [
           "Washington Wizards"
          ],
          [
           "(?)"
          ],
          [
           "(?)"
          ],
          [
           "(?)"
          ],
          [
           "(?)"
          ],
          [
           "(?)"
          ],
          [
           "(?)"
          ],
          [
           "(?)"
          ],
          [
           "(?)"
          ],
          [
           "(?)"
          ]
         ],
         "domain": {
          "x": [
           0,
           1
          ],
          "y": [
           0,
           1
          ]
         },
         "hovertemplate": "%{label}<br>%{value:$,}",
         "ids": [
          "<b>2023-24<br>NBA SALARIES</b>/Eastern/Central/Indiana Pacers/Andrew Nembhard, PG",
          "<b>2023-24<br>NBA SALARIES</b>/Eastern/Southeast/Washington Wizards/Richaun Holmes, F",
          "<b>2023-24<br>NBA SALARIES</b>/Eastern/Atlantic/Philadelphia 76ers/Kyle Lowry, PG",
          "<b>2023-24<br>NBA SALARIES</b>/Western/Northwest/Portland Trail Blazers/Rayan Rupert, G",
          "<b>2023-24<br>NBA SALARIES</b>/Eastern/Atlantic/Boston Celtics/Luke Kornet, C",
          "<b>2023-24<br>NBA SALARIES</b>/Eastern/Southeast/Orlando Magic/Cole Anthony, PG",
          "<b>2023-24<br>NBA SALARIES</b>/Western/Northwest/Oklahoma City Thunder/Josh Giddey, SG",
          "<b>2023-24<br>NBA SALARIES</b>/Western/Pacific/Golden State Warriors/Chris Paul, PG",
          "<b>2023-24<br>NBA SALARIES</b>/Eastern/Southeast/Charlotte Hornets/Ish Smith, PG",
          "<b>2023-24<br>NBA SALARIES</b>/Eastern/Central/Detroit Pistons/Troy Brown Jr., SF",
          "<b>2023-24<br>NBA SALARIES</b>/Western/Pacific/Los Angeles Lakers/D'Angelo Russell, PG",
          "<b>2023-24<br>NBA SALARIES</b>/Western/Northwest/Minnesota Timberwolves/Wendell Moore Jr., G",
          "<b>2023-24<br>NBA SALARIES</b>/Western/Northwest/Denver Nuggets/Justin Holiday, SF",
          "<b>2023-24<br>NBA SALARIES</b>/Western/Pacific/Sacramento Kings/Chris Duarte, SG",
          "<b>2023-24<br>NBA SALARIES</b>/Western/Northwest/Denver Nuggets/Kentavious Caldwell-Pope, SG",
          "<b>2023-24<br>NBA SALARIES</b>/Eastern/Central/Cleveland Cavaliers/Craig Porter, G",
          "<b>2023-24<br>NBA SALARIES</b>/Western/Southwest/Memphis Grizzlies/Santi Aldama, PF",
          "<b>2023-24<br>NBA SALARIES</b>/Western/Pacific/Phoenix Suns/Bol Bol, C",
          "<b>2023-24<br>NBA SALARIES</b>/Western/Pacific/Phoenix Suns/Bradley Beal, SG",
          "<b>2023-24<br>NBA SALARIES</b>/Eastern/Southeast/Atlanta Hawks/Garrison Mathews, SG",
          "<b>2023-24<br>NBA SALARIES</b>/Eastern/Atlantic/Toronto Raptors/RJ Barrett, SG",
          "<b>2023-24<br>NBA SALARIES</b>/Western/Pacific/Los Angeles Lakers/Austin Reaves, SG",
          "<b>2023-24<br>NBA SALARIES</b>/Western/Pacific/Phoenix Suns/Jusuf Nurkic, C",
          "<b>2023-24<br>NBA SALARIES</b>/Eastern/Central/Cleveland Cavaliers/Tristan Thompson, C",
          "<b>2023-24<br>NBA SALARIES</b>/Western/Northwest/Minnesota Timberwolves/Monte Morris, PG",
          "<b>2023-24<br>NBA SALARIES</b>/Western/Pacific/LA Clippers/Mason Plumlee, C",
          "<b>2023-24<br>NBA SALARIES</b>/Eastern/Southeast/Atlanta Hawks/Saddiq Bey, SF",
          "<b>2023-24<br>NBA SALARIES</b>/Eastern/Central/Indiana Pacers/Myles Turner, C",
          "<b>2023-24<br>NBA SALARIES</b>/Western/Northwest/Minnesota Timberwolves/Anthony Edwards, SG",
          "<b>2023-24<br>NBA SALARIES</b>/Western/Northwest/Oklahoma City Thunder/Gordon Hayward, SF",
          "<b>2023-24<br>NBA SALARIES</b>/Western/Southwest/New Orleans Pelicans/CJ McCollum, SG",
          "<b>2023-24<br>NBA SALARIES</b>/Eastern/Atlantic/Philadelphia 76ers/Montrezl Harrell, C",
          "<b>2023-24<br>NBA SALARIES</b>/Eastern/Atlantic/New York Knicks/Miles McBride, PG",
          "<b>2023-24<br>NBA SALARIES</b>/Western/Pacific/LA Clippers/P.J. Tucker, PF",
          "<b>2023-24<br>NBA SALARIES</b>/Western/Northwest/Oklahoma City Thunder/Ousmane Dieng, F",
          "<b>2023-24<br>NBA SALARIES</b>/Eastern/Atlantic/Toronto Raptors/Otto Porter Jr., SF",
          "<b>2023-24<br>NBA SALARIES</b>/Eastern/Central/Detroit Pistons/Chimezie Metu, PF",
          "<b>2023-24<br>NBA SALARIES</b>/Eastern/Central/Cleveland Cavaliers/Max Strus, SG",
          "<b>2023-24<br>NBA SALARIES</b>/Eastern/Central/Cleveland Cavaliers/Dean Wade, PF",
          "<b>2023-24<br>NBA SALARIES</b>/Eastern/Atlantic/Philadelphia 76ers/Tyrese Maxey, PG",
          "<b>2023-24<br>NBA SALARIES</b>/Western/Northwest/Portland Trail Blazers/Anfernee Simons, SG",
          "<b>2023-24<br>NBA SALARIES</b>/Western/Southwest/Memphis Grizzlies/Derrick Rose, PG",
          "<b>2023-24<br>NBA SALARIES</b>/Western/Northwest/Minnesota Timberwolves/Kyle Anderson, SF",
          "<b>2023-24<br>NBA SALARIES</b>/Western/Pacific/LA Clippers/Kobe Brown, G",
          "<b>2023-24<br>NBA SALARIES</b>/Western/Southwest/New Orleans Pelicans/Larry Nance Jr., PF",
          "<b>2023-24<br>NBA SALARIES</b>/Eastern/Atlantic/Philadelphia 76ers/Danny Green, F",
          "<b>2023-24<br>NBA SALARIES</b>/Eastern/Central/Cleveland Cavaliers/Evan Mobley, PF",
          "<b>2023-24<br>NBA SALARIES</b>/Western/Pacific/Sacramento Kings/Keegan Murray, SF",
          "<b>2023-24<br>NBA SALARIES</b>/Western/Southwest/New Orleans Pelicans/Jonas Valanciunas, C",
          "<b>2023-24<br>NBA SALARIES</b>/Eastern/Southeast/Orlando Magic/Wendell Carter Jr., C",
          "<b>2023-24<br>NBA SALARIES</b>/Western/Southwest/Memphis Grizzlies/Jack White, F",
          "<b>2023-24<br>NBA SALARIES</b>/Eastern/Central/Chicago Bulls/Nikola Vucevic, C",
          "<b>2023-24<br>NBA SALARIES</b>/Eastern/Atlantic/Brooklyn Nets/Noah Clowney, F",
          "<b>2023-24<br>NBA SALARIES</b>/Western/Pacific/LA Clippers/KJ Martin, F",
          "<b>2023-24<br>NBA SALARIES</b>/Western/Southwest/Memphis Grizzlies/Desmond Bane, SG",
          "<b>2023-24<br>NBA SALARIES</b>/Western/Pacific/Golden State Warriors/Klay Thompson, SG",
          "<b>2023-24<br>NBA SALARIES</b>/Eastern/Central/Milwaukee Bucks/Jae Crowder, PF",
          "<b>2023-24<br>NBA SALARIES</b>/Western/Pacific/Sacramento Kings/Filip Petrusev, PF",
          "<b>2023-24<br>NBA SALARIES</b>/Western/Southwest/New Orleans Pelicans/Jose Alvarado, PG",
          "<b>2023-24<br>NBA SALARIES</b>/Eastern/Southeast/Charlotte Hornets/Seth Curry, SG",
          "<b>2023-24<br>NBA SALARIES</b>/Western/Southwest/Dallas Mavericks/Jaden Hardy, G",
          "<b>2023-24<br>NBA SALARIES</b>/Eastern/Central/Detroit Pistons/Marcus Sasser, G",
          "<b>2023-24<br>NBA SALARIES</b>/Western/Northwest/Utah Jazz/Taylor Hendricks, F",
          "<b>2023-24<br>NBA SALARIES</b>/Western/Pacific/Golden State Warriors/Cory Joseph, PG",
          "<b>2023-24<br>NBA SALARIES</b>/Eastern/Central/Milwaukee Bucks/Chris Livingston, F",
          "<b>2023-24<br>NBA SALARIES</b>/Western/Pacific/Sacramento Kings/Malik Monk, SG",
          "<b>2023-24<br>NBA SALARIES</b>/Western/Northwest/Utah Jazz/Keyonte George, G",
          "<b>2023-24<br>NBA SALARIES</b>/Eastern/Southeast/Miami Heat/Kevin Love, PF",
          "<b>2023-24<br>NBA SALARIES</b>/Eastern/Central/Cleveland Cavaliers/Georges Niang, SF",
          "<b>2023-24<br>NBA SALARIES</b>/Western/Southwest/Memphis Grizzlies/Ziaire Williams, F",
          "<b>2023-24<br>NBA SALARIES</b>/Western/Pacific/Phoenix Suns/Grayson Allen, SG",
          "<b>2023-24<br>NBA SALARIES</b>/Eastern/Central/Milwaukee Bucks/Andre Jackson Jr., G",
          "<b>2023-24<br>NBA SALARIES</b>/Western/Southwest/Dallas Mavericks/Tim Hardaway Jr., SF",
          "<b>2023-24<br>NBA SALARIES</b>/Western/Pacific/Los Angeles Lakers/Spencer Dinwiddie, PG",
          "<b>2023-24<br>NBA SALARIES</b>/Eastern/Central/Detroit Pistons/Quentin Grimes, SG",
          "<b>2023-24<br>NBA SALARIES</b>/Eastern/Southeast/Charlotte Hornets/Brandon Miller, F",
          "<b>2023-24<br>NBA SALARIES</b>/Eastern/Atlantic/Brooklyn Nets/Jalen Wilson, F",
          "<b>2023-24<br>NBA SALARIES</b>/Western/Pacific/Sacramento Kings/Sasha Vezenkov, F",
          "<b>2023-24<br>NBA SALARIES</b>/Eastern/Southeast/Miami Heat/Duncan Robinson, F",
          "<b>2023-24<br>NBA SALARIES</b>/Western/Southwest/Memphis Grizzlies/Jaren Jackson Jr., PF",
          "<b>2023-24<br>NBA SALARIES</b>/Eastern/Central/Milwaukee Bucks/Danilo Gallinari, PF",
          "<b>2023-24<br>NBA SALARIES</b>/Eastern/Central/Chicago Bulls/Torrey Craig, SF",
          "<b>2023-24<br>NBA SALARIES</b>/Eastern/Atlantic/Brooklyn Nets/Ben Simmons, PG",
          "<b>2023-24<br>NBA SALARIES</b>/Eastern/Central/Detroit Pistons/Isaiah Livers, PF",
          "<b>2023-24<br>NBA SALARIES</b>/Western/Pacific/Sacramento Kings/De'Aaron Fox, PG",
          "<b>2023-24<br>NBA SALARIES</b>/Western/Northwest/Portland Trail Blazers/Jerami Grant, SF",
          "<b>2023-24<br>NBA SALARIES</b>/Eastern/Central/Indiana Pacers/Isaiah Jackson, SF",
          "<b>2023-24<br>NBA SALARIES</b>/Western/Southwest/Memphis Grizzlies/Luke Kennard, SG",
          "<b>2023-24<br>NBA SALARIES</b>/Eastern/Central/Milwaukee Bucks/Bobby Portis, F",
          "<b>2023-24<br>NBA SALARIES</b>/Eastern/Central/Milwaukee Bucks/Robin Lopez, C",
          "<b>2023-24<br>NBA SALARIES</b>/Eastern/Southeast/Orlando Magic/Chuma Okeke, PF",
          "<b>2023-24<br>NBA SALARIES</b>/Western/Northwest/Denver Nuggets/DeAndre Jordan, C",
          "<b>2023-24<br>NBA SALARIES</b>/Eastern/Atlantic/New York Knicks/Isaiah Hartenstein, C",
          "<b>2023-24<br>NBA SALARIES</b>/Eastern/Southeast/Charlotte Hornets/Nick Richards, C",
          "<b>2023-24<br>NBA SALARIES</b>/Eastern/Central/Cleveland Cavaliers/Jarrett Allen, C",
          "<b>2023-24<br>NBA SALARIES</b>/Eastern/Southeast/Charlotte Hornets/Mark Williams, C",
          "<b>2023-24<br>NBA SALARIES</b>/Eastern/Central/Indiana Pacers/Tyrese Haliburton, PG",
          "<b>2023-24<br>NBA SALARIES</b>/Eastern/Central/Chicago Bulls/Andre Drummond, C",
          "<b>2023-24<br>NBA SALARIES</b>/Eastern/Atlantic/Toronto Raptors/Jordan Nwora, SF",
          "<b>2023-24<br>NBA SALARIES</b>/Western/Pacific/Los Angeles Lakers/Anthony Davis, PF",
          "<b>2023-24<br>NBA SALARIES</b>/Eastern/Southeast/Miami Heat/Thomas Bryant, C",
          "<b>2023-24<br>NBA SALARIES</b>/Eastern/Atlantic/Boston Celtics/Kristaps Porzingis, C",
          "<b>2023-24<br>NBA SALARIES</b>/Eastern/Atlantic/Boston Celtics/Derrick White, PG",
          "<b>2023-24<br>NBA SALARIES</b>/Western/Northwest/Minnesota Timberwolves/Jordan McLaughlin, PG",
          "<b>2023-24<br>NBA SALARIES</b>/Western/Northwest/Minnesota Timberwolves/Leonard Miller, F",
          "<b>2023-24<br>NBA SALARIES</b>/Eastern/Central/Cleveland Cavaliers/Damian Jones, C",
          "<b>2023-24<br>NBA SALARIES</b>/Western/Southwest/San Antonio Spurs/Sandro Mamukelashvili, PF",
          "<b>2023-24<br>NBA SALARIES</b>/Eastern/Atlantic/New York Knicks/Precious Achiuwa, PF",
          "<b>2023-24<br>NBA SALARIES</b>/Western/Northwest/Denver Nuggets/Peyton Watson, F",
          "<b>2023-24<br>NBA SALARIES</b>/Western/Pacific/Phoenix Suns/Eric Gordon, SG",
          "<b>2023-24<br>NBA SALARIES</b>/Eastern/Atlantic/Brooklyn Nets/Dariq Whitehead, F",
          "<b>2023-24<br>NBA SALARIES</b>/Western/Northwest/Minnesota Timberwolves/Karl-Anthony Towns, C",
          "<b>2023-24<br>NBA SALARIES</b>/Western/Southwest/San Antonio Spurs/Julian Champagnie, F",
          "<b>2023-24<br>NBA SALARIES</b>/Western/Pacific/Golden State Warriors/Jonathan Kuminga, PF",
          "<b>2023-24<br>NBA SALARIES</b>/Western/Pacific/LA Clippers/Paul George, F",
          "<b>2023-24<br>NBA SALARIES</b>/Eastern/Atlantic/Philadelphia 76ers/De'Anthony Melton, SG",
          "<b>2023-24<br>NBA SALARIES</b>/Eastern/Atlantic/Boston Celtics/Payton Pritchard, PG",
          "<b>2023-24<br>NBA SALARIES</b>/Western/Northwest/Denver Nuggets/Aaron Gordon, PF",
          "<b>2023-24<br>NBA SALARIES</b>/Western/Southwest/New Orleans Pelicans/Trey Murphy III, SG",
          "<b>2023-24<br>NBA SALARIES</b>/Eastern/Southeast/Washington Wizards/Kyle Kuzma, SF",
          "<b>2023-24<br>NBA SALARIES</b>/Western/Southwest/Houston Rockets/Boban Marjanovic, C",
          "<b>2023-24<br>NBA SALARIES</b>/Eastern/Southeast/Orlando Magic/Markelle Fultz, PG",
          "<b>2023-24<br>NBA SALARIES</b>/Eastern/Atlantic/Philadelphia 76ers/Paul Reed, SF",
          "<b>2023-24<br>NBA SALARIES</b>/Eastern/Southeast/Washington Wizards/Bilal Coulibaly, SG",
          "<b>2023-24<br>NBA SALARIES</b>/Eastern/Southeast/Charlotte Hornets/Miles Bridges, SF",
          "<b>2023-24<br>NBA SALARIES</b>/Western/Southwest/San Antonio Spurs/Cedi Osman, SF",
          "<b>2023-24<br>NBA SALARIES</b>/Eastern/Atlantic/New York Knicks/Mitchell Robinson, C",
          "<b>2023-24<br>NBA SALARIES</b>/Western/Southwest/Memphis Grizzlies/Jake LaRavia, F",
          "<b>2023-24<br>NBA SALARIES</b>/Eastern/Atlantic/Boston Celtics/Jaden Springer, G",
          "<b>2023-24<br>NBA SALARIES</b>/Eastern/Atlantic/Toronto Raptors/Scottie Barnes, SF",
          "<b>2023-24<br>NBA SALARIES</b>/Western/Northwest/Portland Trail Blazers/Jabari Walker, F",
          "<b>2023-24<br>NBA SALARIES</b>/Eastern/Southeast/Washington Wizards/Xavier Cooks, G",
          "<b>2023-24<br>NBA SALARIES</b>/Western/Northwest/Denver Nuggets/Zeke Nnaji, PF",
          "<b>2023-24<br>NBA SALARIES</b>/Western/Northwest/Oklahoma City Thunder/Shai Gilgeous-Alexander, PG",
          "<b>2023-24<br>NBA SALARIES</b>/Western/Northwest/Portland Trail Blazers/Duop Reath, C",
          "<b>2023-24<br>NBA SALARIES</b>/Western/Southwest/New Orleans Pelicans/Cody Zeller, C",
          "<b>2023-24<br>NBA SALARIES</b>/Eastern/Central/Chicago Bulls/Patrick Williams, PF",
          "<b>2023-24<br>NBA SALARIES</b>/Eastern/Atlantic/Toronto Raptors/Kelly Olynyk, PF",
          "<b>2023-24<br>NBA SALARIES</b>/Eastern/Southeast/Miami Heat/Josh Richardson, SG",
          "<b>2023-24<br>NBA SALARIES</b>/Eastern/Atlantic/Philadelphia 76ers/Joel Embiid, C",
          "<b>2023-24<br>NBA SALARIES</b>/Western/Pacific/Los Angeles Lakers/Max Christie, G",
          "<b>2023-24<br>NBA SALARIES</b>/Western/Southwest/San Antonio Spurs/Devonte' Graham, PG",
          "<b>2023-24<br>NBA SALARIES</b>/Eastern/Southeast/Atlanta Hawks/Clint Capela, C",
          "<b>2023-24<br>NBA SALARIES</b>/Eastern/Atlantic/Philadelphia 76ers/KJ Martin, F",
          "<b>2023-24<br>NBA SALARIES</b>/Eastern/Central/Chicago Bulls/Lonzo Ball, PG",
          "<b>2023-24<br>NBA SALARIES</b>/Eastern/Atlantic/Toronto Raptors/Kobi Simmons, G",
          "<b>2023-24<br>NBA SALARIES</b>/Western/Northwest/Denver Nuggets/Jamal Murray, PG",
          "<b>2023-24<br>NBA SALARIES</b>/Western/Pacific/Golden State Warriors/Kevon Looney, F",
          "<b>2023-24<br>NBA SALARIES</b>/Western/Southwest/New Orleans Pelicans/Willy Hernangomez, C",
          "<b>2023-24<br>NBA SALARIES</b>/Eastern/Southeast/Miami Heat/Tyler Herro, PG",
          "<b>2023-24<br>NBA SALARIES</b>/Western/Pacific/Sacramento Kings/Trey Lyles, PF",
          "<b>2023-24<br>NBA SALARIES</b>/Eastern/Southeast/Orlando Magic/Paolo Banchero, PF",
          "<b>2023-24<br>NBA SALARIES</b>/Western/Pacific/Los Angeles Lakers/Jaxson Hayes, C",
          "<b>2023-24<br>NBA SALARIES</b>/Western/Southwest/Houston Rockets/Jae'Sean Tate, SF",
          "<b>2023-24<br>NBA SALARIES</b>/Eastern/Central/Milwaukee Bucks/Patrick Beverley, PG",
          "<b>2023-24<br>NBA SALARIES</b>/Eastern/Atlantic/New York Knicks/Isaiah Roby, F",
          "<b>2023-24<br>NBA SALARIES</b>/Western/Pacific/LA Clippers/Kawhi Leonard, SF",
          "<b>2023-24<br>NBA SALARIES</b>/Western/Southwest/Dallas Mavericks/A.J. Lawson, G",
          "<b>2023-24<br>NBA SALARIES</b>/Eastern/Atlantic/Brooklyn Nets/Cam Thomas, SG",
          "<b>2023-24<br>NBA SALARIES</b>/Western/Pacific/LA Clippers/Brandon Boston Jr., SG",
          "<b>2023-24<br>NBA SALARIES</b>/Western/Northwest/Oklahoma City Thunder/Cason Wallace, G",
          "<b>2023-24<br>NBA SALARIES</b>/Western/Pacific/Sacramento Kings/Alex Len, C",
          "<b>2023-24<br>NBA SALARIES</b>/Western/Southwest/San Antonio Spurs/Khem Birch, C",
          "<b>2023-24<br>NBA SALARIES</b>/Western/Northwest/Oklahoma City Thunder/Jalen Williams, F",
          "<b>2023-24<br>NBA SALARIES</b>/Eastern/Central/Cleveland Cavaliers/Caris LeVert, SG",
          "<b>2023-24<br>NBA SALARIES</b>/Eastern/Atlantic/Brooklyn Nets/Dennis Smith Jr., PG",
          "<b>2023-24<br>NBA SALARIES</b>/Western/Northwest/Oklahoma City Thunder/Isaiah Joe, SG",
          "<b>2023-24<br>NBA SALARIES</b>/Western/Southwest/Houston Rockets/Amen Thompson, F",
          "<b>2023-24<br>NBA SALARIES</b>/Western/Southwest/Houston Rockets/Jabari Smith Jr., PF",
          "<b>2023-24<br>NBA SALARIES</b>/Eastern/Central/Indiana Pacers/Pascal Siakam, PF",
          "<b>2023-24<br>NBA SALARIES</b>/Eastern/Central/Milwaukee Bucks/Pat Connaughton, SG",
          "<b>2023-24<br>NBA SALARIES</b>/Eastern/Southeast/Miami Heat/Haywood Highsmith, F",
          "<b>2023-24<br>NBA SALARIES</b>/Western/Pacific/Sacramento Kings/Kessler Edwards, SF",
          "<b>2023-24<br>NBA SALARIES</b>/Eastern/Southeast/Washington Wizards/Patrick Baldwin Jr., F",
          "<b>2023-24<br>NBA SALARIES</b>/Western/Pacific/Phoenix Suns/Kevin Durant, PF",
          "<b>2023-24<br>NBA SALARIES</b>/Eastern/Atlantic/Toronto Raptors/Gradey Dick, G",
          "<b>2023-24<br>NBA SALARIES</b>/Eastern/Atlantic/Toronto Raptors/Gary Trent Jr., SG",
          "<b>2023-24<br>NBA SALARIES</b>/Western/Southwest/New Orleans Pelicans/Jeremiah Robinson-Earl, F",
          "<b>2023-24<br>NBA SALARIES</b>/Western/Southwest/New Orleans Pelicans/Naji Marshall, SF",
          "<b>2023-24<br>NBA SALARIES</b>/Western/Northwest/Portland Trail Blazers/Deandre Ayton, C",
          "<b>2023-24<br>NBA SALARIES</b>/Western/Northwest/Oklahoma City Thunder/Jaylin Williams, F",
          "<b>2023-24<br>NBA SALARIES</b>/Eastern/Atlantic/Brooklyn Nets/Lonnie Walker IV, G",
          "<b>2023-24<br>NBA SALARIES</b>/Western/Southwest/San Antonio Spurs/Malaki Branham, G",
          "<b>2023-24<br>NBA SALARIES</b>/Western/Southwest/San Antonio Spurs/Jeremy Sochan, F",
          "<b>2023-24<br>NBA SALARIES</b>/Eastern/Southeast/Washington Wizards/Tyus Jones, PG",
          "<b>2023-24<br>NBA SALARIES</b>/Western/Pacific/Los Angeles Lakers/Jalen Hood-Schifino, G",
          "<b>2023-24<br>NBA SALARIES</b>/Eastern/Central/Detroit Pistons/Isaiah Stewart, C",
          "<b>2023-24<br>NBA SALARIES</b>/Eastern/Atlantic/Toronto Raptors/Chris Boucher, PF",
          "<b>2023-24<br>NBA SALARIES</b>/Eastern/Southeast/Orlando Magic/Anthony Black, G",
          "<b>2023-24<br>NBA SALARIES</b>/Eastern/Central/Cleveland Cavaliers/Ty Jerome, SG",
          "<b>2023-24<br>NBA SALARIES</b>/Eastern/Atlantic/Toronto Raptors/Javon Freeman-Liberty, G",
          "<b>2023-24<br>NBA SALARIES</b>/Western/Southwest/Houston Rockets/Jalen Green, SG",
          "<b>2023-24<br>NBA SALARIES</b>/Eastern/Central/Chicago Bulls/Dalen Terry, F",
          "<b>2023-24<br>NBA SALARIES</b>/Eastern/Atlantic/New York Knicks/Alec Burks, SG",
          "<b>2023-24<br>NBA SALARIES</b>/Eastern/Southeast/Charlotte Hornets/Aleksej Pokusevski, F",
          "<b>2023-24<br>NBA SALARIES</b>/Eastern/Southeast/Miami Heat/Bam Adebayo, C",
          "<b>2023-24<br>NBA SALARIES</b>/Eastern/Southeast/Charlotte Hornets/Frank Ntilikina, PG",
          "<b>2023-24<br>NBA SALARIES</b>/Eastern/Southeast/Orlando Magic/Jonathan Isaac, PF",
          "<b>2023-24<br>NBA SALARIES</b>/Western/Southwest/New Orleans Pelicans/Dyson Daniels, G",
          "<b>2023-24<br>NBA SALARIES</b>/Eastern/Central/Detroit Pistons/Evan Fournier, SG",
          "<b>2023-24<br>NBA SALARIES</b>/Western/Northwest/Oklahoma City Thunder/Mike Muscala, C",
          "<b>2023-24<br>NBA SALARIES</b>/Western/Pacific/Los Angeles Lakers/Taurean Prince, PF",
          "<b>2023-24<br>NBA SALARIES</b>/Western/Southwest/Houston Rockets/Tari Eason, F",
          "<b>2023-24<br>NBA SALARIES</b>/Western/Northwest/Utah Jazz/Kenneth Lofton Jr., F",
          "<b>2023-24<br>NBA SALARIES</b>/Eastern/Central/Chicago Bulls/Marko Simonovic, C",
          "<b>2023-24<br>NBA SALARIES</b>/Eastern/Atlantic/Brooklyn Nets/Keon Johnson, G",
          "<b>2023-24<br>NBA SALARIES</b>/Eastern/Central/Detroit Pistons/Simone Fontecchio, F",
          "<b>2023-24<br>NBA SALARIES</b>/Western/Pacific/LA Clippers/Russell Westbrook, PG",
          "<b>2023-24<br>NBA SALARIES</b>/Eastern/Southeast/Washington Wizards/Jordan Poole, SG",
          "<b>2023-24<br>NBA SALARIES</b>/Eastern/Atlantic/Philadelphia 76ers/Tobias Harris, PF",
          "<b>2023-24<br>NBA SALARIES</b>/Western/Pacific/LA Clippers/Amir Coffey, SG",
          "<b>2023-24<br>NBA SALARIES</b>/Eastern/Southeast/Atlanta Hawks/Trent Forrest, G",
          "<b>2023-24<br>NBA SALARIES</b>/Western/Southwest/San Antonio Spurs/Dominick Barlow, F",
          "<b>2023-24<br>NBA SALARIES</b>/Eastern/Southeast/Atlanta Hawks/Mouhamed Gueye, F",
          "<b>2023-24<br>NBA SALARIES</b>/Eastern/Central/Milwaukee Bucks/Thanasis Antetokounmpo, SF",
          "<b>2023-24<br>NBA SALARIES</b>/Western/Pacific/Sacramento Kings/Keon Ellis, G",
          "<b>2023-24<br>NBA SALARIES</b>/Eastern/Southeast/Atlanta Hawks/AJ Griffin, F",
          "<b>2023-24<br>NBA SALARIES</b>/Western/Southwest/Houston Rockets/Fred VanVleet, PG",
          "<b>2023-24<br>NBA SALARIES</b>/Western/Southwest/Dallas Mavericks/Daniel Gafford, C",
          "<b>2023-24<br>NBA SALARIES</b>/Eastern/Central/Cleveland Cavaliers/Darius Garland, PG",
          "<b>2023-24<br>NBA SALARIES</b>/Western/Northwest/Oklahoma City Thunder/Lindy Waters III, F",
          "<b>2023-24<br>NBA SALARIES</b>/Western/Pacific/Golden State Warriors/Moses Moody, SG",
          "<b>2023-24<br>NBA SALARIES</b>/Eastern/Southeast/Miami Heat/Jaime Jaquez Jr., G",
          "<b>2023-24<br>NBA SALARIES</b>/Western/Pacific/Golden State Warriors/Stephen Curry, PG",
          "<b>2023-24<br>NBA SALARIES</b>/Western/Southwest/Dallas Mavericks/Dereck Lively II, C",
          "<b>2023-24<br>NBA SALARIES</b>/Western/Northwest/Portland Trail Blazers/Shaedon Sharpe, SG",
          "<b>2023-24<br>NBA SALARIES</b>/Eastern/Central/Detroit Pistons/Killian Hayes, PG",
          "<b>2023-24<br>NBA SALARIES</b>/Eastern/Atlantic/Philadelphia 76ers/Kelly Oubre Jr., SG",
          "<b>2023-24<br>NBA SALARIES</b>/Western/Northwest/Utah Jazz/Jordan Clarkson, PG",
          "<b>2023-24<br>NBA SALARIES</b>/Eastern/Central/Milwaukee Bucks/Khris Middleton, SF",
          "<b>2023-24<br>NBA SALARIES</b>/Eastern/Atlantic/Brooklyn Nets/Day'Ron Sharpe, C",
          "<b>2023-24<br>NBA SALARIES</b>/Eastern/Central/Indiana Pacers/Ben Sheppard, G",
          "<b>2023-24<br>NBA SALARIES</b>/Eastern/Southeast/Atlanta Hawks/Bruno Fernando, PF",
          "<b>2023-24<br>NBA SALARIES</b>/Western/Pacific/Los Angeles Lakers/Maxwell Lewis, F",
          "<b>2023-24<br>NBA SALARIES</b>/Western/Northwest/Minnesota Timberwolves/Rudy Gobert, C",
          "<b>2023-24<br>NBA SALARIES</b>/Western/Pacific/Phoenix Suns/Royce O'Neale, PF",
          "<b>2023-24<br>NBA SALARIES</b>/Eastern/Atlantic/Philadelphia 76ers/Mo Bamba, C",
          "<b>2023-24<br>NBA SALARIES</b>/Western/Pacific/Golden State Warriors/Gui Santos, F",
          "<b>2023-24<br>NBA SALARIES</b>/Western/Northwest/Portland Trail Blazers/Moses Brown, C",
          "<b>2023-24<br>NBA SALARIES</b>/Western/Pacific/Sacramento Kings/Colby Jones, G",
          "<b>2023-24<br>NBA SALARIES</b>/Western/Northwest/Portland Trail Blazers/Matisse Thybulle, SG",
          "<b>2023-24<br>NBA SALARIES</b>/Eastern/Central/Indiana Pacers/T.J. McConnell, PG",
          "<b>2023-24<br>NBA SALARIES</b>/Eastern/Atlantic/Boston Celtics/Svi Mykhailiuk, SG",
          "<b>2023-24<br>NBA SALARIES</b>/Eastern/Atlantic/Philadelphia 76ers/Robert Covington, PF",
          "<b>2023-24<br>NBA SALARIES</b>/Eastern/Atlantic/New York Knicks/Bojan Bogdanovic, SF",
          "<b>2023-24<br>NBA SALARIES</b>/Eastern/Central/Indiana Pacers/Kendall Brown, SG",
          "<b>2023-24<br>NBA SALARIES</b>/Western/Southwest/Dallas Mavericks/Kyrie Irving, PG",
          "<b>2023-24<br>NBA SALARIES</b>/Western/Southwest/San Antonio Spurs/Zach Collins, PF",
          "<b>2023-24<br>NBA SALARIES</b>/Eastern/Southeast/Atlanta Hawks/Jalen Johnson, SF",
          "<b>2023-24<br>NBA SALARIES</b>/Western/Northwest/Portland Trail Blazers/Scoot Henderson, G",
          "<b>2023-24<br>NBA SALARIES</b>/Western/Northwest/Denver Nuggets/Vlatko Cancar, SF",
          "<b>2023-24<br>NBA SALARIES</b>/Eastern/Southeast/Charlotte Hornets/Bryce McGowens, G",
          "<b>2023-24<br>NBA SALARIES</b>/Western/Southwest/San Antonio Spurs/Charles Bassey, C",
          "<b>2023-24<br>NBA SALARIES</b>/Eastern/Central/Milwaukee Bucks/Malik Beasley, SG",
          "<b>2023-24<br>NBA SALARIES</b>/Western/Northwest/Portland Trail Blazers/Dalano Banton, G",
          "<b>2023-24<br>NBA SALARIES</b>/Eastern/Central/Chicago Bulls/Alex Caruso, SG",
          "<b>2023-24<br>NBA SALARIES</b>/Western/Pacific/Sacramento Kings/Kevin Huerter, SG",
          "<b>2023-24<br>NBA SALARIES</b>/Western/Southwest/Dallas Mavericks/Maxi Kleber, PF",
          "<b>2023-24<br>NBA SALARIES</b>/Eastern/Atlantic/Brooklyn Nets/Trendon Watford, PF",
          "<b>2023-24<br>NBA SALARIES</b>/Western/Southwest/New Orleans Pelicans/Brandon Ingram, SF",
          "<b>2023-24<br>NBA SALARIES</b>/Eastern/Southeast/Miami Heat/Caleb Martin, SF",
          "<b>2023-24<br>NBA SALARIES</b>/Western/Pacific/Sacramento Kings/Harrison Barnes, SF",
          "<b>2023-24<br>NBA SALARIES</b>/Eastern/Atlantic/Toronto Raptors/Ochai Agbaji, G",
          "<b>2023-24<br>NBA SALARIES</b>/Eastern/Southeast/Miami Heat/Nikola Jovic, F",
          "<b>2023-24<br>NBA SALARIES</b>/Western/Southwest/Memphis Grizzlies/Vince Williams Jr., G",
          "<b>2023-24<br>NBA SALARIES</b>/Western/Northwest/Oklahoma City Thunder/Aaron Wiggins, SG",
          "<b>2023-24<br>NBA SALARIES</b>/Western/Northwest/Oklahoma City Thunder/Luguentz Dort, G",
          "<b>2023-24<br>NBA SALARIES</b>/Western/Southwest/Houston Rockets/Steven Adams, C",
          "<b>2023-24<br>NBA SALARIES</b>/Eastern/Central/Indiana Pacers/Doug McDermott, SF",
          "<b>2023-24<br>NBA SALARIES</b>/Eastern/Southeast/Charlotte Hornets/Tre Mann, PG",
          "<b>2023-24<br>NBA SALARIES</b>/Western/Southwest/Dallas Mavericks/P.J. Washington, PF",
          "<b>2023-24<br>NBA SALARIES</b>/Eastern/Atlantic/Boston Celtics/Al Horford, C",
          "<b>2023-24<br>NBA SALARIES</b>/Western/Northwest/Denver Nuggets/Nikola Jokic, C",
          "<b>2023-24<br>NBA SALARIES</b>/Western/Pacific/Sacramento Kings/PJ Dozier, G",
          "<b>2023-24<br>NBA SALARIES</b>/Eastern/Central/Detroit Pistons/Ausar Thompson, F",
          "<b>2023-24<br>NBA SALARIES</b>/Eastern/Central/Milwaukee Bucks/Giannis Antetokounmpo, PF",
          "<b>2023-24<br>NBA SALARIES</b>/Western/Southwest/Dallas Mavericks/Markieff Morris, PF",
          "<b>2023-24<br>NBA SALARIES</b>/Western/Pacific/Los Angeles Lakers/Cam Reddish, SF",
          "<b>2023-24<br>NBA SALARIES</b>/Western/Northwest/Minnesota Timberwolves/Mike Conley, PG",
          "<b>2023-24<br>NBA SALARIES</b>/Western/Northwest/Utah Jazz/Talen Horton-Tucker, SG",
          "<b>2023-24<br>NBA SALARIES</b>/Western/Southwest/Houston Rockets/Alperen Sengun, C",
          "<b>2023-24<br>NBA SALARIES</b>/Eastern/Atlantic/Boston Celtics/Jordan Walsh, G",
          "<b>2023-24<br>NBA SALARIES</b>/Eastern/Atlantic/Brooklyn Nets/Dennis Schroder, PG",
          "<b>2023-24<br>NBA SALARIES</b>/Western/Pacific/Phoenix Suns/Thaddeus Young, F",
          "<b>2023-24<br>NBA SALARIES</b>/Eastern/Atlantic/Brooklyn Nets/Keita Bates-Diop, SF",
          "<b>2023-24<br>NBA SALARIES</b>/Eastern/Central/Chicago Bulls/Terry Taylor, F",
          "<b>2023-24<br>NBA SALARIES</b>/Eastern/Atlantic/Toronto Raptors/Immanuel Quickley, SG",
          "<b>2023-24<br>NBA SALARIES</b>/Western/Northwest/Denver Nuggets/Hunter Tyson, F",
          "<b>2023-24<br>NBA SALARIES</b>/Eastern/Atlantic/Boston Celtics/Jayson Tatum, SF",
          "<b>2023-24<br>NBA SALARIES</b>/Eastern/Southeast/Miami Heat/R.J. Hampton, G",
          "<b>2023-24<br>NBA SALARIES</b>/Eastern/Atlantic/New York Knicks/Ryan Arcidiacono, G",
          "<b>2023-24<br>NBA SALARIES</b>/Western/Pacific/Los Angeles Lakers/Gabe Vincent, PG",
          "<b>2023-24<br>NBA SALARIES</b>/Western/Northwest/Oklahoma City Thunder/Bismack Biyombo, C",
          "<b>2023-24<br>NBA SALARIES</b>/Eastern/Central/Indiana Pacers/Bennedict Mathurin, SG",
          "<b>2023-24<br>NBA SALARIES</b>/Eastern/Central/Cleveland Cavaliers/Donovan Mitchell, SG",
          "<b>2023-24<br>NBA SALARIES</b>/Eastern/Central/Detroit Pistons/Malachi Flynn, PG",
          "<b>2023-24<br>NBA SALARIES</b>/Eastern/Central/Chicago Bulls/Ayo Dosunmu, SG",
          "<b>2023-24<br>NBA SALARIES</b>/Eastern/Southeast/Orlando Magic/Moritz Wagner, C",
          "<b>2023-24<br>NBA SALARIES</b>/Eastern/Southeast/Charlotte Hornets/Davis Bertans, SF",
          "<b>2023-24<br>NBA SALARIES</b>/Western/Northwest/Oklahoma City Thunder/Kevin Porter Jr., G",
          "<b>2023-24<br>NBA SALARIES</b>/Eastern/Atlantic/Boston Celtics/Jrue Holiday, PG",
          "<b>2023-24<br>NBA SALARIES</b>/Eastern/Central/Detroit Pistons/Taj Gibson, F",
          "<b>2023-24<br>NBA SALARIES</b>/Eastern/Central/Detroit Pistons/Stanley Umude, G",
          "<b>2023-24<br>NBA SALARIES</b>/Western/Pacific/Phoenix Suns/David Roddy, F",
          "<b>2023-24<br>NBA SALARIES</b>/Eastern/Southeast/Miami Heat/Patty Mills, PG",
          "<b>2023-24<br>NBA SALARIES</b>/Eastern/Central/Cleveland Cavaliers/Sam Merrill, SG",
          "<b>2023-24<br>NBA SALARIES</b>/Western/Pacific/Los Angeles Lakers/Christian Wood, F",
          "<b>2023-24<br>NBA SALARIES</b>/Western/Pacific/Sacramento Kings/Nerlens Noel, C",
          "<b>2023-24<br>NBA SALARIES</b>/Western/Northwest/Utah Jazz/Brice Sensabaugh, F",
          "<b>2023-24<br>NBA SALARIES</b>/Eastern/Southeast/Washington Wizards/Deni Avdija, SF",
          "<b>2023-24<br>NBA SALARIES</b>/Western/Southwest/New Orleans Pelicans/Herbert Jones, SF",
          "<b>2023-24<br>NBA SALARIES</b>/Western/Northwest/Utah Jazz/Collin Sexton, PG",
          "<b>2023-24<br>NBA SALARIES</b>/Western/Southwest/San Antonio Spurs/Sidy Cissoko, G",
          "<b>2023-24<br>NBA SALARIES</b>/Western/Northwest/Minnesota Timberwolves/Josh Minott, F",
          "<b>2023-24<br>NBA SALARIES</b>/Eastern/Atlantic/Philadelphia 76ers/Furkan Korkmaz, SG",
          "<b>2023-24<br>NBA SALARIES</b>/Eastern/Atlantic/Philadelphia 76ers/Buddy Hield, SG",
          "<b>2023-24<br>NBA SALARIES</b>/Eastern/Southeast/Washington Wizards/Eugene Omoruyi, F",
          "<b>2023-24<br>NBA SALARIES</b>/Eastern/Southeast/Atlanta Hawks/Wesley Matthews, SG",
          "<b>2023-24<br>NBA SALARIES</b>/Western/Northwest/Utah Jazz/Josh Christopher, SG",
          "<b>2023-24<br>NBA SALARIES</b>/Western/Northwest/Utah Jazz/Darius Bazley, F",
          "<b>2023-24<br>NBA SALARIES</b>/Eastern/Central/Detroit Pistons/Kevin Knox II, SF",
          "<b>2023-24<br>NBA SALARIES</b>/Eastern/Southeast/Charlotte Hornets/Vasilije Micic, G",
          "<b>2023-24<br>NBA SALARIES</b>/Eastern/Atlantic/New York Knicks/Shake Milton, SG",
          "<b>2023-24<br>NBA SALARIES</b>/Western/Northwest/Portland Trail Blazers/Robert Williams III, C",
          "<b>2023-24<br>NBA SALARIES</b>/Western/Southwest/San Antonio Spurs/Blake Wesley, G",
          "<b>2023-24<br>NBA SALARIES</b>/Western/Pacific/Golden State Warriors/Brandin Podziemski, G",
          "<b>2023-24<br>NBA SALARIES</b>/Eastern/Southeast/Atlanta Hawks/De'Andre Hunter, SF",
          "<b>2023-24<br>NBA SALARIES</b>/Eastern/Central/Indiana Pacers/Jalen Smith, PF",
          "<b>2023-24<br>NBA SALARIES</b>/Western/Southwest/Memphis Grizzlies/Victor Oladipo, SG",
          "<b>2023-24<br>NBA SALARIES</b>/Western/Southwest/Houston Rockets/Reggie Bullock Jr., SF",
          "<b>2023-24<br>NBA SALARIES</b>/Western/Southwest/New Orleans Pelicans/Jordan Hawkins, G",
          "<b>2023-24<br>NBA SALARIES</b>/Western/Southwest/Memphis Grizzlies/GG Jackson, F",
          "<b>2023-24<br>NBA SALARIES</b>/Eastern/Southeast/Orlando Magic/Joe Ingles, SG",
          "<b>2023-24<br>NBA SALARIES</b>/Western/Pacific/Los Angeles Lakers/Jarred Vanderbilt, PF",
          "<b>2023-24<br>NBA SALARIES</b>/Western/Southwest/New Orleans Pelicans/E.J. Liddell, F",
          "<b>2023-24<br>NBA SALARIES</b>/Eastern/Atlantic/New York Knicks/Jalen Brunson, PG",
          "<b>2023-24<br>NBA SALARIES</b>/Western/Pacific/Phoenix Suns/Drew Eubanks, PF",
          "<b>2023-24<br>NBA SALARIES</b>/Eastern/Atlantic/Toronto Raptors/Jakob Poeltl, C",
          "<b>2023-24<br>NBA SALARIES</b>/Eastern/Atlantic/Brooklyn Nets/Nic Claxton, C",
          "<b>2023-24<br>NBA SALARIES</b>/Western/Pacific/Sacramento Kings/JaVale McGee, C",
          "<b>2023-24<br>NBA SALARIES</b>/Eastern/Southeast/Atlanta Hawks/Dejounte Murray, SG",
          "<b>2023-24<br>NBA SALARIES</b>/Eastern/Southeast/Orlando Magic/Jett Howard, G",
          "<b>2023-24<br>NBA SALARIES</b>/Eastern/Central/Chicago Bulls/Jevon Carter, PG",
          "<b>2023-24<br>NBA SALARIES</b>/Eastern/Southeast/Miami Heat/Delon Wright, SG",
          "<b>2023-24<br>NBA SALARIES</b>/Western/Southwest/Dallas Mavericks/Joe Wieskamp, SF",
          "<b>2023-24<br>NBA SALARIES</b>/Eastern/Southeast/Washington Wizards/Johnny Davis, G",
          "<b>2023-24<br>NBA SALARIES</b>/Eastern/Atlantic/Philadelphia 76ers/Danuel House Jr., SF",
          "<b>2023-24<br>NBA SALARIES</b>/Western/Northwest/Denver Nuggets/Reggie Jackson, PG",
          "<b>2023-24<br>NBA SALARIES</b>/Eastern/Central/Milwaukee Bucks/Damian Lillard, PG",
          "<b>2023-24<br>NBA SALARIES</b>/Eastern/Atlantic/Philadelphia 76ers/Nicolas Batum, PF",
          "<b>2023-24<br>NBA SALARIES</b>/Eastern/Atlantic/Boston Celtics/Oshae Brissett, SF",
          "<b>2023-24<br>NBA SALARIES</b>/Eastern/Southeast/Miami Heat/Orlando Robinson, C",
          "<b>2023-24<br>NBA SALARIES</b>/Eastern/Central/Detroit Pistons/Jaden Ivey, PG",
          "<b>2023-24<br>NBA SALARIES</b>/Western/Southwest/Memphis Grizzlies/Ja Morant, PG",
          "<b>2023-24<br>NBA SALARIES</b>/Western/Pacific/Los Angeles Lakers/Rui Hachimura, PF",
          "<b>2023-24<br>NBA SALARIES</b>/Eastern/Southeast/Orlando Magic/Jalen Suggs, SG",
          "<b>2023-24<br>NBA SALARIES</b>/Western/Pacific/Golden State Warriors/Draymond Green, PF",
          "<b>2023-24<br>NBA SALARIES</b>/Eastern/Atlantic/Brooklyn Nets/Dorian Finney-Smith, PF",
          "<b>2023-24<br>NBA SALARIES</b>/Western/Southwest/Houston Rockets/Jock Landale, C",
          "<b>2023-24<br>NBA SALARIES</b>/Eastern/Southeast/Charlotte Hornets/Cody Martin, SF",
          "<b>2023-24<br>NBA SALARIES</b>/Western/Pacific/Golden State Warriors/Andrew Wiggins, SF",
          "<b>2023-24<br>NBA SALARIES</b>/Western/Pacific/Phoenix Suns/Josh Okogie, SF",
          "<b>2023-24<br>NBA SALARIES</b>/Western/Pacific/LA Clippers/Joshua Primo, G",
          "<b>2023-24<br>NBA SALARIES</b>/Western/Pacific/Los Angeles Lakers/LeBron James, SF",
          "<b>2023-24<br>NBA SALARIES</b>/Western/Southwest/Houston Rockets/Aaron Holiday, G",
          "<b>2023-24<br>NBA SALARIES</b>/Eastern/Southeast/Atlanta Hawks/Onyeka Okongwu, PF",
          "<b>2023-24<br>NBA SALARIES</b>/Eastern/Central/Cleveland Cavaliers/Isaac Okoro, SF",
          "<b>2023-24<br>NBA SALARIES</b>/Eastern/Central/Milwaukee Bucks/AJ Green, G",
          "<b>2023-24<br>NBA SALARIES</b>/Eastern/Southeast/Charlotte Hornets/Grant Williams, PF",
          "<b>2023-24<br>NBA SALARIES</b>/Eastern/Southeast/Washington Wizards/Landry Shamet, SG",
          "<b>2023-24<br>NBA SALARIES</b>/Eastern/Central/Indiana Pacers/Aaron Nesmith, SF",
          "<b>2023-24<br>NBA SALARIES</b>/Western/Northwest/Utah Jazz/Walker Kessler, C",
          "<b>2023-24<br>NBA SALARIES</b>/Eastern/Central/Indiana Pacers/Jarace Walker, F",
          "<b>2023-24<br>NBA SALARIES</b>/Western/Northwest/Utah Jazz/Kira Lewis Jr., PG",
          "<b>2023-24<br>NBA SALARIES</b>/Western/Northwest/Denver Nuggets/Michael Porter Jr., SF",
          "<b>2023-24<br>NBA SALARIES</b>/Western/Pacific/Golden State Warriors/Dario Saric, PF",
          "<b>2023-24<br>NBA SALARIES</b>/Eastern/Southeast/Washington Wizards/Anthony Gill, PF",
          "<b>2023-24<br>NBA SALARIES</b>/Western/Pacific/Golden State Warriors/Lester Quinones, G",
          "<b>2023-24<br>NBA SALARIES</b>/Eastern/Central/Chicago Bulls/Onuralp Bitim, SF",
          "<b>2023-24<br>NBA SALARIES</b>/Western/Northwest/Portland Trail Blazers/Malcolm Brogdon, PG",
          "<b>2023-24<br>NBA SALARIES</b>/Western/Pacific/LA Clippers/Bones Hyland, PG",
          "<b>2023-24<br>NBA SALARIES</b>/Western/Pacific/Golden State Warriors/Rudy Gay, SF",
          "<b>2023-24<br>NBA SALARIES</b>/Western/Southwest/San Antonio Spurs/Tre Jones, PG",
          "<b>2023-24<br>NBA SALARIES</b>/Western/Pacific/Golden State Warriors/Trayce Jackson-Davis, F",
          "<b>2023-24<br>NBA SALARIES</b>/Eastern/Southeast/Miami Heat/Terry Rozier, SG",
          "<b>2023-24<br>NBA SALARIES</b>/Eastern/Southeast/Orlando Magic/Goga Bitadze, C",
          "<b>2023-24<br>NBA SALARIES</b>/Eastern/Central/Chicago Bulls/Carlik Jones, G",
          "<b>2023-24<br>NBA SALARIES</b>/Eastern/Southeast/Charlotte Hornets/LaMelo Ball, PG",
          "<b>2023-24<br>NBA SALARIES</b>/Western/Northwest/Utah Jazz/Omer Yurtseven, C",
          "<b>2023-24<br>NBA SALARIES</b>/Western/Southwest/Dallas Mavericks/Olivier-Maxence Prosper, F",
          "<b>2023-24<br>NBA SALARIES</b>/Eastern/Atlantic/Toronto Raptors/Bruce Brown, SF",
          "<b>2023-24<br>NBA SALARIES</b>/Western/Pacific/LA Clippers/James Harden, SG",
          "<b>2023-24<br>NBA SALARIES</b>/Eastern/Southeast/Orlando Magic/Franz Wagner, SF",
          "<b>2023-24<br>NBA SALARIES</b>/Western/Southwest/Houston Rockets/Cam Whitmore, F",
          "<b>2023-24<br>NBA SALARIES</b>/Eastern/Southeast/Miami Heat/Dru Smith, G",
          "<b>2023-24<br>NBA SALARIES</b>/Eastern/Southeast/Atlanta Hawks/Bogdan Bogdanovic, SG",
          "<b>2023-24<br>NBA SALARIES</b>/Western/Northwest/Utah Jazz/John Collins, PF",
          "<b>2023-24<br>NBA SALARIES</b>/Eastern/Southeast/Washington Wizards/Marvin Bagley III, PF",
          "<b>2023-24<br>NBA SALARIES</b>/Eastern/Atlantic/Boston Celtics/Sam Hauser, SF",
          "<b>2023-24<br>NBA SALARIES</b>/Western/Southwest/San Antonio Spurs/Victor Wembanyama, C",
          "<b>2023-24<br>NBA SALARIES</b>/Western/Southwest/Dallas Mavericks/Dante Exum, G",
          "<b>2023-24<br>NBA SALARIES</b>/Western/Pacific/Sacramento Kings/Davion Mitchell, PG",
          "<b>2023-24<br>NBA SALARIES</b>/Western/Northwest/Denver Nuggets/Julian Strawther, G",
          "<b>2023-24<br>NBA SALARIES</b>/Eastern/Southeast/Charlotte Hornets/James Bouknight, SG",
          "<b>2023-24<br>NBA SALARIES</b>/Eastern/Southeast/Atlanta Hawks/Trae Young, PG",
          "<b>2023-24<br>NBA SALARIES</b>/Eastern/Southeast/Charlotte Hornets/JT Thor, F",
          "<b>2023-24<br>NBA SALARIES</b>/Western/Southwest/Memphis Grizzlies/Isaiah Todd, PF",
          "<b>2023-24<br>NBA SALARIES</b>/Western/Northwest/Minnesota Timberwolves/Nickeil Alexander-Walker, SG",
          "<b>2023-24<br>NBA SALARIES</b>/Eastern/Southeast/Orlando Magic/Gary Harris, SG",
          "<b>2023-24<br>NBA SALARIES</b>/Western/Pacific/LA Clippers/Norman Powell, G",
          "<b>2023-24<br>NBA SALARIES</b>/Eastern/Atlantic/New York Knicks/OG Anunoby, SF",
          "<b>2023-24<br>NBA SALARIES</b>/Western/Southwest/Memphis Grizzlies/Brandon Clarke, PF",
          "<b>2023-24<br>NBA SALARIES</b>/Eastern/Central/Indiana Pacers/Obi Toppin, PF",
          "<b>2023-24<br>NBA SALARIES</b>/Eastern/Central/Detroit Pistons/Jalen Duren, C",
          "<b>2023-24<br>NBA SALARIES</b>/Western/Pacific/Golden State Warriors/Gary Payton II, SG",
          "<b>2023-24<br>NBA SALARIES</b>/Eastern/Southeast/Atlanta Hawks/Kobe Bufkin, G",
          "<b>2023-24<br>NBA SALARIES</b>/Western/Northwest/Portland Trail Blazers/Toumani Camara, F",
          "<b>2023-24<br>NBA SALARIES</b>/Western/Northwest/Portland Trail Blazers/Kris Murray, F",
          "<b>2023-24<br>NBA SALARIES</b>/Eastern/Central/Chicago Bulls/Zach LaVine, SG",
          "<b>2023-24<br>NBA SALARIES</b>/Eastern/Central/Detroit Pistons/Joe Harris, SF",
          "<b>2023-24<br>NBA SALARIES</b>/Western/Southwest/Dallas Mavericks/Luka Doncic, PG",
          "<b>2023-24<br>NBA SALARIES</b>/Western/Southwest/Houston Rockets/Dillon Brooks, SF",
          "<b>2023-24<br>NBA SALARIES</b>/Western/Northwest/Minnesota Timberwolves/Jaden McDaniels, PF",
          "<b>2023-24<br>NBA SALARIES</b>/Eastern/Central/Milwaukee Bucks/MarJon Beauchamp, F",
          "<b>2023-24<br>NBA SALARIES</b>/Eastern/Southeast/Charlotte Hornets/Nick Smith Jr., G",
          "<b>2023-24<br>NBA SALARIES</b>/Western/Northwest/Denver Nuggets/Christian Braun, G",
          "<b>2023-24<br>NBA SALARIES</b>/Western/Southwest/San Antonio Spurs/Devin Vassell, SG",
          "<b>2023-24<br>NBA SALARIES</b>/Eastern/Atlantic/Boston Celtics/Jaylen Brown, SG",
          "<b>2023-24<br>NBA SALARIES</b>/Eastern/Atlantic/Toronto Raptors/Jalen McDaniels, PF",
          "<b>2023-24<br>NBA SALARIES</b>/Eastern/Atlantic/New York Knicks/Julius Randle, PF",
          "<b>2023-24<br>NBA SALARIES</b>/Eastern/Southeast/Miami Heat/Jimmy Butler, SF",
          "<b>2023-24<br>NBA SALARIES</b>/Eastern/Central/Indiana Pacers/James Johnson, PF",
          "<b>2023-24<br>NBA SALARIES</b>/Western/Pacific/Phoenix Suns/Devin Booker, SG",
          "<b>2023-24<br>NBA SALARIES</b>/Western/Pacific/LA Clippers/Ivica Zubac, C",
          "<b>2023-24<br>NBA SALARIES</b>/Eastern/Atlantic/New York Knicks/Donte DiVincenzo, SG",
          "<b>2023-24<br>NBA SALARIES</b>/Western/Southwest/Dallas Mavericks/Josh Green, SG",
          "<b>2023-24<br>NBA SALARIES</b>/Western/Southwest/New Orleans Pelicans/Zion Williamson, PF",
          "<b>2023-24<br>NBA SALARIES</b>/Eastern/Southeast/Washington Wizards/Corey Kispert, SF",
          "<b>2023-24<br>NBA SALARIES</b>/Eastern/Central/Chicago Bulls/Julian Phillips, F",
          "<b>2023-24<br>NBA SALARIES</b>/Western/Pacific/Phoenix Suns/Nassir Little, SF",
          "<b>2023-24<br>NBA SALARIES</b>/Eastern/Central/Chicago Bulls/Coby White, PG",
          "<b>2023-24<br>NBA SALARIES</b>/Western/Northwest/Utah Jazz/Kris Dunn, G",
          "<b>2023-24<br>NBA SALARIES</b>/Eastern/Atlantic/New York Knicks/Josh Hart, SG",
          "<b>2023-24<br>NBA SALARIES</b>/Eastern/Atlantic/Brooklyn Nets/Cameron Johnson, SF",
          "<b>2023-24<br>NBA SALARIES</b>/Western/Northwest/Oklahoma City Thunder/Chet Holmgren, PF",
          "<b>2023-24<br>NBA SALARIES</b>/Western/Southwest/Memphis Grizzlies/Marcus Smart, PG",
          "<b>2023-24<br>NBA SALARIES</b>/Western/Northwest/Minnesota Timberwolves/Naz Reid, C",
          "<b>2023-24<br>NBA SALARIES</b>/Western/Southwest/Dallas Mavericks/Dwight Powell, C",
          "<b>2023-24<br>NBA SALARIES</b>/Eastern/Central/Cleveland Cavaliers/Marcus Morris Sr., SF",
          "<b>2023-24<br>NBA SALARIES</b>/Western/Northwest/Utah Jazz/Luka Samanic, F",
          "<b>2023-24<br>NBA SALARIES</b>/Western/Northwest/Utah Jazz/Lauri Markkanen, PF",
          "<b>2023-24<br>NBA SALARIES</b>/Western/Pacific/Phoenix Suns/Damion Lee, SG",
          "<b>2023-24<br>NBA SALARIES</b>/Western/Southwest/Houston Rockets/Jeff Green, PF",
          "<b>2023-24<br>NBA SALARIES</b>/Eastern/Atlantic/New York Knicks/Jericho Sims, C",
          "<b>2023-24<br>NBA SALARIES</b>/Western/Southwest/Memphis Grizzlies/Lamar Stevens, PF",
          "<b>2023-24<br>NBA SALARIES</b>/Western/Pacific/LA Clippers/Daniel Theis, C",
          "<b>2023-24<br>NBA SALARIES</b>/Eastern/Atlantic/Boston Celtics/Xavier Tillman, F",
          "<b>2023-24<br>NBA SALARIES</b>/Western/Southwest/Memphis Grizzlies/Yuta Watanabe, SF",
          "<b>2023-24<br>NBA SALARIES</b>/Western/Southwest/San Antonio Spurs/Keldon Johnson, SF",
          "<b>2023-24<br>NBA SALARIES</b>/Eastern/Southeast/Orlando Magic/Caleb Houstan, G",
          "<b>2023-24<br>NBA SALARIES</b>/Eastern/Atlantic/Philadelphia 76ers/Cameron Payne, PG",
          "<b>2023-24<br>NBA SALARIES</b>/Eastern/Central/Cleveland Cavaliers/Ricky Rubio, PG",
          "<b>2023-24<br>NBA SALARIES</b>/Eastern/Central/Detroit Pistons/Cade Cunningham, PG",
          "<b>2023-24<br>NBA SALARIES</b>/Eastern/Atlantic/Toronto Raptors/Garrett Temple, SF",
          "<b>2023-24<br>NBA SALARIES</b>/Western/Southwest/Dallas Mavericks/Derrick Jones Jr., SF",
          "<b>2023-24<br>NBA SALARIES</b>/Western/Northwest/Denver Nuggets/Jalen Pickett, G",
          "<b>2023-24<br>NBA SALARIES</b>/Western/Northwest/Minnesota Timberwolves/Tyrese Martin, G",
          "<b>2023-24<br>NBA SALARIES</b>/Eastern/Central/Detroit Pistons/James Wiseman, C",
          "<b>2023-24<br>NBA SALARIES</b>/Western/Northwest/Oklahoma City Thunder/Kenrich Williams, SF",
          "<b>2023-24<br>NBA SALARIES</b>/Western/Southwest/Memphis Grizzlies/John Konchar, SG",
          "<b>2023-24<br>NBA SALARIES</b>/Western/Pacific/Sacramento Kings/Domantas Sabonis, PF",
          "<b>2023-24<br>NBA SALARIES</b>/Eastern/Central/Chicago Bulls/DeMar DeRozan, SF",
          "<b>2023-24<br>NBA SALARIES</b>/Western/Pacific/LA Clippers/Terance Mann, SG",
          "<b>2023-24<br>NBA SALARIES</b>/Eastern/Atlantic/Brooklyn Nets/Mikal Bridges, SF",
          "<b>2023-24<br>NBA SALARIES</b>/Eastern/Central/Milwaukee Bucks/Brook Lopez, C",
          "<b>2023-24<br>NBA SALARIES</b>/Eastern/Southeast/Atlanta Hawks",
          "<b>2023-24<br>NBA SALARIES</b>/Eastern/Atlantic/Boston Celtics",
          "<b>2023-24<br>NBA SALARIES</b>/Eastern/Atlantic/Brooklyn Nets",
          "<b>2023-24<br>NBA SALARIES</b>/Eastern/Southeast/Charlotte Hornets",
          "<b>2023-24<br>NBA SALARIES</b>/Eastern/Central/Chicago Bulls",
          "<b>2023-24<br>NBA SALARIES</b>/Eastern/Central/Cleveland Cavaliers",
          "<b>2023-24<br>NBA SALARIES</b>/Western/Southwest/Dallas Mavericks",
          "<b>2023-24<br>NBA SALARIES</b>/Western/Northwest/Denver Nuggets",
          "<b>2023-24<br>NBA SALARIES</b>/Eastern/Central/Detroit Pistons",
          "<b>2023-24<br>NBA SALARIES</b>/Western/Pacific/Golden State Warriors",
          "<b>2023-24<br>NBA SALARIES</b>/Western/Southwest/Houston Rockets",
          "<b>2023-24<br>NBA SALARIES</b>/Eastern/Central/Indiana Pacers",
          "<b>2023-24<br>NBA SALARIES</b>/Western/Pacific/LA Clippers",
          "<b>2023-24<br>NBA SALARIES</b>/Western/Pacific/Los Angeles Lakers",
          "<b>2023-24<br>NBA SALARIES</b>/Western/Southwest/Memphis Grizzlies",
          "<b>2023-24<br>NBA SALARIES</b>/Eastern/Southeast/Miami Heat",
          "<b>2023-24<br>NBA SALARIES</b>/Eastern/Central/Milwaukee Bucks",
          "<b>2023-24<br>NBA SALARIES</b>/Western/Northwest/Minnesota Timberwolves",
          "<b>2023-24<br>NBA SALARIES</b>/Western/Southwest/New Orleans Pelicans",
          "<b>2023-24<br>NBA SALARIES</b>/Eastern/Atlantic/New York Knicks",
          "<b>2023-24<br>NBA SALARIES</b>/Western/Northwest/Oklahoma City Thunder",
          "<b>2023-24<br>NBA SALARIES</b>/Eastern/Southeast/Orlando Magic",
          "<b>2023-24<br>NBA SALARIES</b>/Eastern/Atlantic/Philadelphia 76ers",
          "<b>2023-24<br>NBA SALARIES</b>/Western/Pacific/Phoenix Suns",
          "<b>2023-24<br>NBA SALARIES</b>/Western/Northwest/Portland Trail Blazers",
          "<b>2023-24<br>NBA SALARIES</b>/Western/Pacific/Sacramento Kings",
          "<b>2023-24<br>NBA SALARIES</b>/Western/Southwest/San Antonio Spurs",
          "<b>2023-24<br>NBA SALARIES</b>/Eastern/Atlantic/Toronto Raptors",
          "<b>2023-24<br>NBA SALARIES</b>/Western/Northwest/Utah Jazz",
          "<b>2023-24<br>NBA SALARIES</b>/Eastern/Southeast/Washington Wizards",
          "<b>2023-24<br>NBA SALARIES</b>/Eastern/Atlantic",
          "<b>2023-24<br>NBA SALARIES</b>/Eastern/Central",
          "<b>2023-24<br>NBA SALARIES</b>/Western/Northwest",
          "<b>2023-24<br>NBA SALARIES</b>/Western/Pacific",
          "<b>2023-24<br>NBA SALARIES</b>/Eastern/Southeast",
          "<b>2023-24<br>NBA SALARIES</b>/Western/Southwest",
          "<b>2023-24<br>NBA SALARIES</b>/Eastern",
          "<b>2023-24<br>NBA SALARIES</b>/Western",
          "<b>2023-24<br>NBA SALARIES</b>"
         ],
         "labels": [
          "Andrew Nembhard, PG",
          "Richaun Holmes, F",
          "Kyle Lowry, PG",
          "Rayan Rupert, G",
          "Luke Kornet, C",
          "Cole Anthony, PG",
          "Josh Giddey, SG",
          "Chris Paul, PG",
          "Ish Smith, PG",
          "Troy Brown Jr., SF",
          "D'Angelo Russell, PG",
          "Wendell Moore Jr., G",
          "Justin Holiday, SF",
          "Chris Duarte, SG",
          "Kentavious Caldwell-Pope, SG",
          "Craig Porter, G",
          "Santi Aldama, PF",
          "Bol Bol, C",
          "Bradley Beal, SG",
          "Garrison Mathews, SG",
          "RJ Barrett, SG",
          "Austin Reaves, SG",
          "Jusuf Nurkic, C",
          "Tristan Thompson, C",
          "Monte Morris, PG",
          "Mason Plumlee, C",
          "Saddiq Bey, SF",
          "Myles Turner, C",
          "Anthony Edwards, SG",
          "Gordon Hayward, SF",
          "CJ McCollum, SG",
          "Montrezl Harrell, C",
          "Miles McBride, PG",
          "P.J. Tucker, PF",
          "Ousmane Dieng, F",
          "Otto Porter Jr., SF",
          "Chimezie Metu, PF",
          "Max Strus, SG",
          "Dean Wade, PF",
          "Tyrese Maxey, PG",
          "Anfernee Simons, SG",
          "Derrick Rose, PG",
          "Kyle Anderson, SF",
          "Kobe Brown, G",
          "Larry Nance Jr., PF",
          "Danny Green, F",
          "Evan Mobley, PF",
          "Keegan Murray, SF",
          "Jonas Valanciunas, C",
          "Wendell Carter Jr., C",
          "Jack White, F",
          "Nikola Vucevic, C",
          "Noah Clowney, F",
          "KJ Martin, F",
          "Desmond Bane, SG",
          "Klay Thompson, SG",
          "Jae Crowder, PF",
          "Filip Petrusev, PF",
          "Jose Alvarado, PG",
          "Seth Curry, SG",
          "Jaden Hardy, G",
          "Marcus Sasser, G",
          "Taylor Hendricks, F",
          "Cory Joseph, PG",
          "Chris Livingston, F",
          "Malik Monk, SG",
          "Keyonte George, G",
          "Kevin Love, PF",
          "Georges Niang, SF",
          "Ziaire Williams, F",
          "Grayson Allen, SG",
          "Andre Jackson Jr., G",
          "Tim Hardaway Jr., SF",
          "Spencer Dinwiddie, PG",
          "Quentin Grimes, SG",
          "Brandon Miller, F",
          "Jalen Wilson, F",
          "Sasha Vezenkov, F",
          "Duncan Robinson, F",
          "Jaren Jackson Jr., PF",
          "Danilo Gallinari, PF",
          "Torrey Craig, SF",
          "Ben Simmons, PG",
          "Isaiah Livers, PF",
          "De'Aaron Fox, PG",
          "Jerami Grant, SF",
          "Isaiah Jackson, SF",
          "Luke Kennard, SG",
          "Bobby Portis, F",
          "Robin Lopez, C",
          "Chuma Okeke, PF",
          "DeAndre Jordan, C",
          "Isaiah Hartenstein, C",
          "Nick Richards, C",
          "Jarrett Allen, C",
          "Mark Williams, C",
          "Tyrese Haliburton, PG",
          "Andre Drummond, C",
          "Jordan Nwora, SF",
          "Anthony Davis, PF",
          "Thomas Bryant, C",
          "Kristaps Porzingis, C",
          "Derrick White, PG",
          "Jordan McLaughlin, PG",
          "Leonard Miller, F",
          "Damian Jones, C",
          "Sandro Mamukelashvili, PF",
          "Precious Achiuwa, PF",
          "Peyton Watson, F",
          "Eric Gordon, SG",
          "Dariq Whitehead, F",
          "Karl-Anthony Towns, C",
          "Julian Champagnie, F",
          "Jonathan Kuminga, PF",
          "Paul George, F",
          "De'Anthony Melton, SG",
          "Payton Pritchard, PG",
          "Aaron Gordon, PF",
          "Trey Murphy III, SG",
          "Kyle Kuzma, SF",
          "Boban Marjanovic, C",
          "Markelle Fultz, PG",
          "Paul Reed, SF",
          "Bilal Coulibaly, SG",
          "Miles Bridges, SF",
          "Cedi Osman, SF",
          "Mitchell Robinson, C",
          "Jake LaRavia, F",
          "Jaden Springer, G",
          "Scottie Barnes, SF",
          "Jabari Walker, F",
          "Xavier Cooks, G",
          "Zeke Nnaji, PF",
          "Shai Gilgeous-Alexander, PG",
          "Duop Reath, C",
          "Cody Zeller, C",
          "Patrick Williams, PF",
          "Kelly Olynyk, PF",
          "Josh Richardson, SG",
          "Joel Embiid, C",
          "Max Christie, G",
          "Devonte' Graham, PG",
          "Clint Capela, C",
          "KJ Martin, F",
          "Lonzo Ball, PG",
          "Kobi Simmons, G",
          "Jamal Murray, PG",
          "Kevon Looney, F",
          "Willy Hernangomez, C",
          "Tyler Herro, PG",
          "Trey Lyles, PF",
          "Paolo Banchero, PF",
          "Jaxson Hayes, C",
          "Jae'Sean Tate, SF",
          "Patrick Beverley, PG",
          "Isaiah Roby, F",
          "Kawhi Leonard, SF",
          "A.J. Lawson, G",
          "Cam Thomas, SG",
          "Brandon Boston Jr., SG",
          "Cason Wallace, G",
          "Alex Len, C",
          "Khem Birch, C",
          "Jalen Williams, F",
          "Caris LeVert, SG",
          "Dennis Smith Jr., PG",
          "Isaiah Joe, SG",
          "Amen Thompson, F",
          "Jabari Smith Jr., PF",
          "Pascal Siakam, PF",
          "Pat Connaughton, SG",
          "Haywood Highsmith, F",
          "Kessler Edwards, SF",
          "Patrick Baldwin Jr., F",
          "Kevin Durant, PF",
          "Gradey Dick, G",
          "Gary Trent Jr., SG",
          "Jeremiah Robinson-Earl, F",
          "Naji Marshall, SF",
          "Deandre Ayton, C",
          "Jaylin Williams, F",
          "Lonnie Walker IV, G",
          "Malaki Branham, G",
          "Jeremy Sochan, F",
          "Tyus Jones, PG",
          "Jalen Hood-Schifino, G",
          "Isaiah Stewart, C",
          "Chris Boucher, PF",
          "Anthony Black, G",
          "Ty Jerome, SG",
          "Javon Freeman-Liberty, G",
          "Jalen Green, SG",
          "Dalen Terry, F",
          "Alec Burks, SG",
          "Aleksej Pokusevski, F",
          "Bam Adebayo, C",
          "Frank Ntilikina, PG",
          "Jonathan Isaac, PF",
          "Dyson Daniels, G",
          "Evan Fournier, SG",
          "Mike Muscala, C",
          "Taurean Prince, PF",
          "Tari Eason, F",
          "Kenneth Lofton Jr., F",
          "Marko Simonovic, C",
          "Keon Johnson, G",
          "Simone Fontecchio, F",
          "Russell Westbrook, PG",
          "Jordan Poole, SG",
          "Tobias Harris, PF",
          "Amir Coffey, SG",
          "Trent Forrest, G",
          "Dominick Barlow, F",
          "Mouhamed Gueye, F",
          "Thanasis Antetokounmpo, SF",
          "Keon Ellis, G",
          "AJ Griffin, F",
          "Fred VanVleet, PG",
          "Daniel Gafford, C",
          "Darius Garland, PG",
          "Lindy Waters III, F",
          "Moses Moody, SG",
          "Jaime Jaquez Jr., G",
          "Stephen Curry, PG",
          "Dereck Lively II, C",
          "Shaedon Sharpe, SG",
          "Killian Hayes, PG",
          "Kelly Oubre Jr., SG",
          "Jordan Clarkson, PG",
          "Khris Middleton, SF",
          "Day'Ron Sharpe, C",
          "Ben Sheppard, G",
          "Bruno Fernando, PF",
          "Maxwell Lewis, F",
          "Rudy Gobert, C",
          "Royce O'Neale, PF",
          "Mo Bamba, C",
          "Gui Santos, F",
          "Moses Brown, C",
          "Colby Jones, G",
          "Matisse Thybulle, SG",
          "T.J. McConnell, PG",
          "Svi Mykhailiuk, SG",
          "Robert Covington, PF",
          "Bojan Bogdanovic, SF",
          "Kendall Brown, SG",
          "Kyrie Irving, PG",
          "Zach Collins, PF",
          "Jalen Johnson, SF",
          "Scoot Henderson, G",
          "Vlatko Cancar, SF",
          "Bryce McGowens, G",
          "Charles Bassey, C",
          "Malik Beasley, SG",
          "Dalano Banton, G",
          "Alex Caruso, SG",
          "Kevin Huerter, SG",
          "Maxi Kleber, PF",
          "Trendon Watford, PF",
          "Brandon Ingram, SF",
          "Caleb Martin, SF",
          "Harrison Barnes, SF",
          "Ochai Agbaji, G",
          "Nikola Jovic, F",
          "Vince Williams Jr., G",
          "Aaron Wiggins, SG",
          "Luguentz Dort, G",
          "Steven Adams, C",
          "Doug McDermott, SF",
          "Tre Mann, PG",
          "P.J. Washington, PF",
          "Al Horford, C",
          "Nikola Jokic, C",
          "PJ Dozier, G",
          "Ausar Thompson, F",
          "Giannis Antetokounmpo, PF",
          "Markieff Morris, PF",
          "Cam Reddish, SF",
          "Mike Conley, PG",
          "Talen Horton-Tucker, SG",
          "Alperen Sengun, C",
          "Jordan Walsh, G",
          "Dennis Schroder, PG",
          "Thaddeus Young, F",
          "Keita Bates-Diop, SF",
          "Terry Taylor, F",
          "Immanuel Quickley, SG",
          "Hunter Tyson, F",
          "Jayson Tatum, SF",
          "R.J. Hampton, G",
          "Ryan Arcidiacono, G",
          "Gabe Vincent, PG",
          "Bismack Biyombo, C",
          "Bennedict Mathurin, SG",
          "Donovan Mitchell, SG",
          "Malachi Flynn, PG",
          "Ayo Dosunmu, SG",
          "Moritz Wagner, C",
          "Davis Bertans, SF",
          "Kevin Porter Jr., G",
          "Jrue Holiday, PG",
          "Taj Gibson, F",
          "Stanley Umude, G",
          "David Roddy, F",
          "Patty Mills, PG",
          "Sam Merrill, SG",
          "Christian Wood, F",
          "Nerlens Noel, C",
          "Brice Sensabaugh, F",
          "Deni Avdija, SF",
          "Herbert Jones, SF",
          "Collin Sexton, PG",
          "Sidy Cissoko, G",
          "Josh Minott, F",
          "Furkan Korkmaz, SG",
          "Buddy Hield, SG",
          "Eugene Omoruyi, F",
          "Wesley Matthews, SG",
          "Josh Christopher, SG",
          "Darius Bazley, F",
          "Kevin Knox II, SF",
          "Vasilije Micic, G",
          "Shake Milton, SG",
          "Robert Williams III, C",
          "Blake Wesley, G",
          "Brandin Podziemski, G",
          "De'Andre Hunter, SF",
          "Jalen Smith, PF",
          "Victor Oladipo, SG",
          "Reggie Bullock Jr., SF",
          "Jordan Hawkins, G",
          "GG Jackson, F",
          "Joe Ingles, SG",
          "Jarred Vanderbilt, PF",
          "E.J. Liddell, F",
          "Jalen Brunson, PG",
          "Drew Eubanks, PF",
          "Jakob Poeltl, C",
          "Nic Claxton, C",
          "JaVale McGee, C",
          "Dejounte Murray, SG",
          "Jett Howard, G",
          "Jevon Carter, PG",
          "Delon Wright, SG",
          "Joe Wieskamp, SF",
          "Johnny Davis, G",
          "Danuel House Jr., SF",
          "Reggie Jackson, PG",
          "Damian Lillard, PG",
          "Nicolas Batum, PF",
          "Oshae Brissett, SF",
          "Orlando Robinson, C",
          "Jaden Ivey, PG",
          "Ja Morant, PG",
          "Rui Hachimura, PF",
          "Jalen Suggs, SG",
          "Draymond Green, PF",
          "Dorian Finney-Smith, PF",
          "Jock Landale, C",
          "Cody Martin, SF",
          "Andrew Wiggins, SF",
          "Josh Okogie, SF",
          "Joshua Primo, G",
          "LeBron James, SF",
          "Aaron Holiday, G",
          "Onyeka Okongwu, PF",
          "Isaac Okoro, SF",
          "AJ Green, G",
          "Grant Williams, PF",
          "Landry Shamet, SG",
          "Aaron Nesmith, SF",
          "Walker Kessler, C",
          "Jarace Walker, F",
          "Kira Lewis Jr., PG",
          "Michael Porter Jr., SF",
          "Dario Saric, PF",
          "Anthony Gill, PF",
          "Lester Quinones, G",
          "Onuralp Bitim, SF",
          "Malcolm Brogdon, PG",
          "Bones Hyland, PG",
          "Rudy Gay, SF",
          "Tre Jones, PG",
          "Trayce Jackson-Davis, F",
          "Terry Rozier, SG",
          "Goga Bitadze, C",
          "Carlik Jones, G",
          "LaMelo Ball, PG",
          "Omer Yurtseven, C",
          "Olivier-Maxence Prosper, F",
          "Bruce Brown, SF",
          "James Harden, SG",
          "Franz Wagner, SF",
          "Cam Whitmore, F",
          "Dru Smith, G",
          "Bogdan Bogdanovic, SG",
          "John Collins, PF",
          "Marvin Bagley III, PF",
          "Sam Hauser, SF",
          "Victor Wembanyama, C",
          "Dante Exum, G",
          "Davion Mitchell, PG",
          "Julian Strawther, G",
          "James Bouknight, SG",
          "Trae Young, PG",
          "JT Thor, F",
          "Isaiah Todd, PF",
          "Nickeil Alexander-Walker, SG",
          "Gary Harris, SG",
          "Norman Powell, G",
          "OG Anunoby, SF",
          "Brandon Clarke, PF",
          "Obi Toppin, PF",
          "Jalen Duren, C",
          "Gary Payton II, SG",
          "Kobe Bufkin, G",
          "Toumani Camara, F",
          "Kris Murray, F",
          "Zach LaVine, SG",
          "Joe Harris, SF",
          "Luka Doncic, PG",
          "Dillon Brooks, SF",
          "Jaden McDaniels, PF",
          "MarJon Beauchamp, F",
          "Nick Smith Jr., G",
          "Christian Braun, G",
          "Devin Vassell, SG",
          "Jaylen Brown, SG",
          "Jalen McDaniels, PF",
          "Julius Randle, PF",
          "Jimmy Butler, SF",
          "James Johnson, PF",
          "Devin Booker, SG",
          "Ivica Zubac, C",
          "Donte DiVincenzo, SG",
          "Josh Green, SG",
          "Zion Williamson, PF",
          "Corey Kispert, SF",
          "Julian Phillips, F",
          "Nassir Little, SF",
          "Coby White, PG",
          "Kris Dunn, G",
          "Josh Hart, SG",
          "Cameron Johnson, SF",
          "Chet Holmgren, PF",
          "Marcus Smart, PG",
          "Naz Reid, C",
          "Dwight Powell, C",
          "Marcus Morris Sr., SF",
          "Luka Samanic, F",
          "Lauri Markkanen, PF",
          "Damion Lee, SG",
          "Jeff Green, PF",
          "Jericho Sims, C",
          "Lamar Stevens, PF",
          "Daniel Theis, C",
          "Xavier Tillman, F",
          "Yuta Watanabe, SF",
          "Keldon Johnson, SF",
          "Caleb Houstan, G",
          "Cameron Payne, PG",
          "Ricky Rubio, PG",
          "Cade Cunningham, PG",
          "Garrett Temple, SF",
          "Derrick Jones Jr., SF",
          "Jalen Pickett, G",
          "Tyrese Martin, G",
          "James Wiseman, C",
          "Kenrich Williams, SF",
          "John Konchar, SG",
          "Domantas Sabonis, PF",
          "DeMar DeRozan, SF",
          "Terance Mann, SG",
          "Mikal Bridges, SF",
          "Brook Lopez, C",
          "Atlanta Hawks",
          "Boston Celtics",
          "Brooklyn Nets",
          "Charlotte Hornets",
          "Chicago Bulls",
          "Cleveland Cavaliers",
          "Dallas Mavericks",
          "Denver Nuggets",
          "Detroit Pistons",
          "Golden State Warriors",
          "Houston Rockets",
          "Indiana Pacers",
          "LA Clippers",
          "Los Angeles Lakers",
          "Memphis Grizzlies",
          "Miami Heat",
          "Milwaukee Bucks",
          "Minnesota Timberwolves",
          "New Orleans Pelicans",
          "New York Knicks",
          "Oklahoma City Thunder",
          "Orlando Magic",
          "Philadelphia 76ers",
          "Phoenix Suns",
          "Portland Trail Blazers",
          "Sacramento Kings",
          "San Antonio Spurs",
          "Toronto Raptors",
          "Utah Jazz",
          "Washington Wizards",
          "Atlantic",
          "Central",
          "Northwest",
          "Pacific",
          "Southeast",
          "Southwest",
          "Eastern",
          "Western",
          "<b>2023-24<br>NBA SALARIES</b>"
         ],
         "marker": {
          "colors": [
           "#636efa",
           "#EF553B",
           "#00cc96",
           "#ab63fa",
           "#FFA15A",
           "#19d3f3",
           "#FF6692",
           "#B6E880",
           "#FF97FF",
           "#FECB52",
           "#636efa",
           "#EF553B",
           "#00cc96",
           "#ab63fa",
           "#00cc96",
           "#FFA15A",
           "#19d3f3",
           "#FF6692",
           "#FF6692",
           "#B6E880",
           "#FF97FF",
           "#636efa",
           "#FF6692",
           "#FFA15A",
           "#EF553B",
           "#FECB52",
           "#B6E880",
           "#636efa",
           "#EF553B",
           "#FF6692",
           "#636efa",
           "#00cc96",
           "#EF553B",
           "#FECB52",
           "#FF6692",
           "#FF97FF",
           "#FECB52",
           "#FFA15A",
           "#FFA15A",
           "#00cc96",
           "#ab63fa",
           "#19d3f3",
           "#EF553B",
           "#FECB52",
           "#636efa",
           "#00cc96",
           "#FFA15A",
           "#ab63fa",
           "#636efa",
           "#19d3f3",
           "#19d3f3",
           "#00cc96",
           "#ab63fa",
           "#FECB52",
           "#19d3f3",
           "#B6E880",
           "#FFA15A",
           "#ab63fa",
           "#636efa",
           "#FF97FF",
           "#19d3f3",
           "#FECB52",
           "#FF6692",
           "#B6E880",
           "#FFA15A",
           "#ab63fa",
           "#FF6692",
           "#B6E880",
           "#FFA15A",
           "#19d3f3",
           "#FF6692",
           "#FFA15A",
           "#19d3f3",
           "#636efa",
           "#FECB52",
           "#FF97FF",
           "#ab63fa",
           "#ab63fa",
           "#B6E880",
           "#19d3f3",
           "#FFA15A",
           "#00cc96",
           "#ab63fa",
           "#FECB52",
           "#ab63fa",
           "#ab63fa",
           "#636efa",
           "#19d3f3",
           "#FFA15A",
           "#FFA15A",
           "#19d3f3",
           "#00cc96",
           "#EF553B",
           "#FF97FF",
           "#FFA15A",
           "#FF97FF",
           "#636efa",
           "#00cc96",
           "#FF97FF",
           "#636efa",
           "#B6E880",
           "#FFA15A",
           "#FFA15A",
           "#EF553B",
           "#EF553B",
           "#FFA15A",
           "#FF97FF",
           "#EF553B",
           "#00cc96",
           "#FF6692",
           "#ab63fa",
           "#EF553B",
           "#FF97FF",
           "#B6E880",
           "#FECB52",
           "#00cc96",
           "#FFA15A",
           "#00cc96",
           "#636efa",
           "#EF553B",
           "#FECB52",
           "#19d3f3",
           "#00cc96",
           "#EF553B",
           "#FF97FF",
           "#FF97FF",
           "#EF553B",
           "#19d3f3",
           "#FFA15A",
           "#FF97FF",
           "#ab63fa",
           "#EF553B",
           "#00cc96",
           "#FF6692",
           "#ab63fa",
           "#636efa",
           "#00cc96",
           "#FF97FF",
           "#B6E880",
           "#00cc96",
           "#636efa",
           "#FF97FF",
           "#B6E880",
           "#00cc96",
           "#00cc96",
           "#FF97FF",
           "#00cc96",
           "#B6E880",
           "#636efa",
           "#B6E880",
           "#ab63fa",
           "#19d3f3",
           "#636efa",
           "#FECB52",
           "#FFA15A",
           "#EF553B",
           "#FECB52",
           "#19d3f3",
           "#ab63fa",
           "#FECB52",
           "#FF6692",
           "#ab63fa",
           "#FF97FF",
           "#FF6692",
           "#FFA15A",
           "#ab63fa",
           "#FF6692",
           "#FECB52",
           "#FECB52",
           "#636efa",
           "#FFA15A",
           "#B6E880",
           "#ab63fa",
           "#EF553B",
           "#FF6692",
           "#FF97FF",
           "#FF97FF",
           "#636efa",
           "#636efa",
           "#ab63fa",
           "#FF6692",
           "#ab63fa",
           "#FF97FF",
           "#FF97FF",
           "#EF553B",
           "#636efa",
           "#FECB52",
           "#FF97FF",
           "#19d3f3",
           "#FFA15A",
           "#FF97FF",
           "#FECB52",
           "#00cc96",
           "#EF553B",
           "#FF97FF",
           "#B6E880",
           "#FF97FF",
           "#19d3f3",
           "#636efa",
           "#FECB52",
           "#FF6692",
           "#636efa",
           "#FECB52",
           "#FF6692",
           "#00cc96",
           "#ab63fa",
           "#FECB52",
           "#FECB52",
           "#EF553B",
           "#00cc96",
           "#FECB52",
           "#B6E880",
           "#FF97FF",
           "#B6E880",
           "#FFA15A",
           "#ab63fa",
           "#B6E880",
           "#FECB52",
           "#19d3f3",
           "#FFA15A",
           "#FF6692",
           "#B6E880",
           "#B6E880",
           "#B6E880",
           "#19d3f3",
           "#ab63fa",
           "#FECB52",
           "#00cc96",
           "#FF6692",
           "#FFA15A",
           "#ab63fa",
           "#636efa",
           "#B6E880",
           "#636efa",
           "#EF553B",
           "#FF6692",
           "#00cc96",
           "#B6E880",
           "#ab63fa",
           "#ab63fa",
           "#ab63fa",
           "#636efa",
           "#FFA15A",
           "#00cc96",
           "#EF553B",
           "#636efa",
           "#19d3f3",
           "#FF97FF",
           "#B6E880",
           "#ab63fa",
           "#00cc96",
           "#FF97FF",
           "#FF97FF",
           "#FFA15A",
           "#ab63fa",
           "#00cc96",
           "#ab63fa",
           "#19d3f3",
           "#ab63fa",
           "#636efa",
           "#B6E880",
           "#ab63fa",
           "#FF97FF",
           "#B6E880",
           "#19d3f3",
           "#FF6692",
           "#FF6692",
           "#FECB52",
           "#636efa",
           "#FF97FF",
           "#19d3f3",
           "#FFA15A",
           "#00cc96",
           "#ab63fa",
           "#FECB52",
           "#FFA15A",
           "#19d3f3",
           "#636efa",
           "#EF553B",
           "#FF6692",
           "#FECB52",
           "#FFA15A",
           "#ab63fa",
           "#FF6692",
           "#ab63fa",
           "#00cc96",
           "#FF97FF",
           "#00cc96",
           "#FFA15A",
           "#B6E880",
           "#EF553B",
           "#636efa",
           "#FF6692",
           "#636efa",
           "#FFA15A",
           "#FECB52",
           "#00cc96",
           "#19d3f3",
           "#FF97FF",
           "#FF6692",
           "#FFA15A",
           "#FECB52",
           "#FECB52",
           "#FF6692",
           "#B6E880",
           "#FFA15A",
           "#636efa",
           "#ab63fa",
           "#FF6692",
           "#EF553B",
           "#636efa",
           "#FF6692",
           "#FF97FF",
           "#EF553B",
           "#00cc96",
           "#00cc96",
           "#EF553B",
           "#B6E880",
           "#FF6692",
           "#FF6692",
           "#FECB52",
           "#FF97FF",
           "#EF553B",
           "#ab63fa",
           "#FF97FF",
           "#B6E880",
           "#B6E880",
           "#636efa",
           "#19d3f3",
           "#FECB52",
           "#636efa",
           "#19d3f3",
           "#19d3f3",
           "#636efa",
           "#636efa",
           "#EF553B",
           "#FF6692",
           "#FF97FF",
           "#ab63fa",
           "#ab63fa",
           "#B6E880",
           "#19d3f3",
           "#00cc96",
           "#B6E880",
           "#19d3f3",
           "#EF553B",
           "#00cc96",
           "#00cc96",
           "#FFA15A",
           "#00cc96",
           "#FFA15A",
           "#B6E880",
           "#FECB52",
           "#19d3f3",
           "#636efa",
           "#19d3f3",
           "#B6E880",
           "#ab63fa",
           "#FECB52",
           "#FF97FF",
           "#B6E880",
           "#FF6692",
           "#FECB52",
           "#636efa",
           "#FECB52",
           "#B6E880",
           "#FFA15A",
           "#FFA15A",
           "#FF97FF",
           "#EF553B",
           "#636efa",
           "#FF6692",
           "#636efa",
           "#FF6692",
           "#00cc96",
           "#B6E880",
           "#EF553B",
           "#B6E880",
           "#00cc96",
           "#ab63fa",
           "#FECB52",
           "#B6E880",
           "#FF97FF",
           "#B6E880",
           "#B6E880",
           "#19d3f3",
           "#00cc96",
           "#FF97FF",
           "#FF6692",
           "#19d3f3",
           "#FF97FF",
           "#FECB52",
           "#19d3f3",
           "#FECB52",
           "#B6E880",
           "#B6E880",
           "#FF6692",
           "#EF553B",
           "#FFA15A",
           "#FF97FF",
           "#19d3f3",
           "#ab63fa",
           "#00cc96",
           "#FF97FF",
           "#B6E880",
           "#FF97FF",
           "#19d3f3",
           "#EF553B",
           "#19d3f3",
           "#FECB52",
           "#EF553B",
           "#19d3f3",
           "#636efa",
           "#FECB52",
           "#B6E880",
           "#B6E880",
           "#ab63fa",
           "#ab63fa",
           "#00cc96",
           "#FECB52",
           "#19d3f3",
           "#FECB52",
           "#EF553B",
           "#FFA15A",
           "#FF97FF",
           "#00cc96",
           "#FF97FF",
           "#FFA15A",
           "#FF97FF",
           "#EF553B",
           "#B6E880",
           "#636efa",
           "#FF6692",
           "#FECB52",
           "#EF553B",
           "#19d3f3",
           "#636efa",
           "#EF553B",
           "#00cc96",
           "#FF6692",
           "#00cc96",
           "#FF6692",
           "#EF553B",
           "#ab63fa",
           "#FF6692",
           "#19d3f3",
           "#EF553B",
           "#19d3f3",
           "#FFA15A",
           "#FF6692",
           "#FF6692",
           "#FF6692",
           "#FECB52",
           "#EF553B",
           "#19d3f3",
           "#FECB52",
           "#FFA15A",
           "#19d3f3",
           "#FF97FF",
           "#19d3f3",
           "#00cc96",
           "#FFA15A",
           "#FECB52",
           "#FF97FF",
           "#19d3f3",
           "#00cc96",
           "#EF553B",
           "#FECB52",
           "#FF6692",
           "#19d3f3",
           "#ab63fa",
           "#00cc96",
           "#FECB52",
           "#ab63fa",
           "#FFA15A",
           "#B6E880",
           "#FFA15A",
           "#ab63fa",
           "#FF97FF",
           "#00cc96",
           "#FFA15A",
           "#19d3f3",
           "#00cc96",
           "#FECB52",
           "#B6E880",
           "#FECB52",
           "#636efa",
           "#FECB52",
           "#636efa",
           "#19d3f3",
           "#B6E880",
           "#FFA15A",
           "#EF553B",
           "#636efa",
           "#EF553B",
           "#FF6692",
           "#19d3f3",
           "#00cc96",
           "#FF6692",
           "#ab63fa",
           "#ab63fa",
           "#FF97FF",
           "#FF97FF",
           "#FF6692",
           "#EF553B",
           "#636efa",
           "#636efa",
           "#636efa",
           "#636efa",
           "#636efa",
           "#636efa",
           "#636efa",
           "#636efa",
           "#636efa"
          ]
         },
         "name": "",
         "parents": [
          "<b>2023-24<br>NBA SALARIES</b>/Eastern/Central/Indiana Pacers",
          "<b>2023-24<br>NBA SALARIES</b>/Eastern/Southeast/Washington Wizards",
          "<b>2023-24<br>NBA SALARIES</b>/Eastern/Atlantic/Philadelphia 76ers",
          "<b>2023-24<br>NBA SALARIES</b>/Western/Northwest/Portland Trail Blazers",
          "<b>2023-24<br>NBA SALARIES</b>/Eastern/Atlantic/Boston Celtics",
          "<b>2023-24<br>NBA SALARIES</b>/Eastern/Southeast/Orlando Magic",
          "<b>2023-24<br>NBA SALARIES</b>/Western/Northwest/Oklahoma City Thunder",
          "<b>2023-24<br>NBA SALARIES</b>/Western/Pacific/Golden State Warriors",
          "<b>2023-24<br>NBA SALARIES</b>/Eastern/Southeast/Charlotte Hornets",
          "<b>2023-24<br>NBA SALARIES</b>/Eastern/Central/Detroit Pistons",
          "<b>2023-24<br>NBA SALARIES</b>/Western/Pacific/Los Angeles Lakers",
          "<b>2023-24<br>NBA SALARIES</b>/Western/Northwest/Minnesota Timberwolves",
          "<b>2023-24<br>NBA SALARIES</b>/Western/Northwest/Denver Nuggets",
          "<b>2023-24<br>NBA SALARIES</b>/Western/Pacific/Sacramento Kings",
          "<b>2023-24<br>NBA SALARIES</b>/Western/Northwest/Denver Nuggets",
          "<b>2023-24<br>NBA SALARIES</b>/Eastern/Central/Cleveland Cavaliers",
          "<b>2023-24<br>NBA SALARIES</b>/Western/Southwest/Memphis Grizzlies",
          "<b>2023-24<br>NBA SALARIES</b>/Western/Pacific/Phoenix Suns",
          "<b>2023-24<br>NBA SALARIES</b>/Western/Pacific/Phoenix Suns",
          "<b>2023-24<br>NBA SALARIES</b>/Eastern/Southeast/Atlanta Hawks",
          "<b>2023-24<br>NBA SALARIES</b>/Eastern/Atlantic/Toronto Raptors",
          "<b>2023-24<br>NBA SALARIES</b>/Western/Pacific/Los Angeles Lakers",
          "<b>2023-24<br>NBA SALARIES</b>/Western/Pacific/Phoenix Suns",
          "<b>2023-24<br>NBA SALARIES</b>/Eastern/Central/Cleveland Cavaliers",
          "<b>2023-24<br>NBA SALARIES</b>/Western/Northwest/Minnesota Timberwolves",
          "<b>2023-24<br>NBA SALARIES</b>/Western/Pacific/LA Clippers",
          "<b>2023-24<br>NBA SALARIES</b>/Eastern/Southeast/Atlanta Hawks",
          "<b>2023-24<br>NBA SALARIES</b>/Eastern/Central/Indiana Pacers",
          "<b>2023-24<br>NBA SALARIES</b>/Western/Northwest/Minnesota Timberwolves",
          "<b>2023-24<br>NBA SALARIES</b>/Western/Northwest/Oklahoma City Thunder",
          "<b>2023-24<br>NBA SALARIES</b>/Western/Southwest/New Orleans Pelicans",
          "<b>2023-24<br>NBA SALARIES</b>/Eastern/Atlantic/Philadelphia 76ers",
          "<b>2023-24<br>NBA SALARIES</b>/Eastern/Atlantic/New York Knicks",
          "<b>2023-24<br>NBA SALARIES</b>/Western/Pacific/LA Clippers",
          "<b>2023-24<br>NBA SALARIES</b>/Western/Northwest/Oklahoma City Thunder",
          "<b>2023-24<br>NBA SALARIES</b>/Eastern/Atlantic/Toronto Raptors",
          "<b>2023-24<br>NBA SALARIES</b>/Eastern/Central/Detroit Pistons",
          "<b>2023-24<br>NBA SALARIES</b>/Eastern/Central/Cleveland Cavaliers",
          "<b>2023-24<br>NBA SALARIES</b>/Eastern/Central/Cleveland Cavaliers",
          "<b>2023-24<br>NBA SALARIES</b>/Eastern/Atlantic/Philadelphia 76ers",
          "<b>2023-24<br>NBA SALARIES</b>/Western/Northwest/Portland Trail Blazers",
          "<b>2023-24<br>NBA SALARIES</b>/Western/Southwest/Memphis Grizzlies",
          "<b>2023-24<br>NBA SALARIES</b>/Western/Northwest/Minnesota Timberwolves",
          "<b>2023-24<br>NBA SALARIES</b>/Western/Pacific/LA Clippers",
          "<b>2023-24<br>NBA SALARIES</b>/Western/Southwest/New Orleans Pelicans",
          "<b>2023-24<br>NBA SALARIES</b>/Eastern/Atlantic/Philadelphia 76ers",
          "<b>2023-24<br>NBA SALARIES</b>/Eastern/Central/Cleveland Cavaliers",
          "<b>2023-24<br>NBA SALARIES</b>/Western/Pacific/Sacramento Kings",
          "<b>2023-24<br>NBA SALARIES</b>/Western/Southwest/New Orleans Pelicans",
          "<b>2023-24<br>NBA SALARIES</b>/Eastern/Southeast/Orlando Magic",
          "<b>2023-24<br>NBA SALARIES</b>/Western/Southwest/Memphis Grizzlies",
          "<b>2023-24<br>NBA SALARIES</b>/Eastern/Central/Chicago Bulls",
          "<b>2023-24<br>NBA SALARIES</b>/Eastern/Atlantic/Brooklyn Nets",
          "<b>2023-24<br>NBA SALARIES</b>/Western/Pacific/LA Clippers",
          "<b>2023-24<br>NBA SALARIES</b>/Western/Southwest/Memphis Grizzlies",
          "<b>2023-24<br>NBA SALARIES</b>/Western/Pacific/Golden State Warriors",
          "<b>2023-24<br>NBA SALARIES</b>/Eastern/Central/Milwaukee Bucks",
          "<b>2023-24<br>NBA SALARIES</b>/Western/Pacific/Sacramento Kings",
          "<b>2023-24<br>NBA SALARIES</b>/Western/Southwest/New Orleans Pelicans",
          "<b>2023-24<br>NBA SALARIES</b>/Eastern/Southeast/Charlotte Hornets",
          "<b>2023-24<br>NBA SALARIES</b>/Western/Southwest/Dallas Mavericks",
          "<b>2023-24<br>NBA SALARIES</b>/Eastern/Central/Detroit Pistons",
          "<b>2023-24<br>NBA SALARIES</b>/Western/Northwest/Utah Jazz",
          "<b>2023-24<br>NBA SALARIES</b>/Western/Pacific/Golden State Warriors",
          "<b>2023-24<br>NBA SALARIES</b>/Eastern/Central/Milwaukee Bucks",
          "<b>2023-24<br>NBA SALARIES</b>/Western/Pacific/Sacramento Kings",
          "<b>2023-24<br>NBA SALARIES</b>/Western/Northwest/Utah Jazz",
          "<b>2023-24<br>NBA SALARIES</b>/Eastern/Southeast/Miami Heat",
          "<b>2023-24<br>NBA SALARIES</b>/Eastern/Central/Cleveland Cavaliers",
          "<b>2023-24<br>NBA SALARIES</b>/Western/Southwest/Memphis Grizzlies",
          "<b>2023-24<br>NBA SALARIES</b>/Western/Pacific/Phoenix Suns",
          "<b>2023-24<br>NBA SALARIES</b>/Eastern/Central/Milwaukee Bucks",
          "<b>2023-24<br>NBA SALARIES</b>/Western/Southwest/Dallas Mavericks",
          "<b>2023-24<br>NBA SALARIES</b>/Western/Pacific/Los Angeles Lakers",
          "<b>2023-24<br>NBA SALARIES</b>/Eastern/Central/Detroit Pistons",
          "<b>2023-24<br>NBA SALARIES</b>/Eastern/Southeast/Charlotte Hornets",
          "<b>2023-24<br>NBA SALARIES</b>/Eastern/Atlantic/Brooklyn Nets",
          "<b>2023-24<br>NBA SALARIES</b>/Western/Pacific/Sacramento Kings",
          "<b>2023-24<br>NBA SALARIES</b>/Eastern/Southeast/Miami Heat",
          "<b>2023-24<br>NBA SALARIES</b>/Western/Southwest/Memphis Grizzlies",
          "<b>2023-24<br>NBA SALARIES</b>/Eastern/Central/Milwaukee Bucks",
          "<b>2023-24<br>NBA SALARIES</b>/Eastern/Central/Chicago Bulls",
          "<b>2023-24<br>NBA SALARIES</b>/Eastern/Atlantic/Brooklyn Nets",
          "<b>2023-24<br>NBA SALARIES</b>/Eastern/Central/Detroit Pistons",
          "<b>2023-24<br>NBA SALARIES</b>/Western/Pacific/Sacramento Kings",
          "<b>2023-24<br>NBA SALARIES</b>/Western/Northwest/Portland Trail Blazers",
          "<b>2023-24<br>NBA SALARIES</b>/Eastern/Central/Indiana Pacers",
          "<b>2023-24<br>NBA SALARIES</b>/Western/Southwest/Memphis Grizzlies",
          "<b>2023-24<br>NBA SALARIES</b>/Eastern/Central/Milwaukee Bucks",
          "<b>2023-24<br>NBA SALARIES</b>/Eastern/Central/Milwaukee Bucks",
          "<b>2023-24<br>NBA SALARIES</b>/Eastern/Southeast/Orlando Magic",
          "<b>2023-24<br>NBA SALARIES</b>/Western/Northwest/Denver Nuggets",
          "<b>2023-24<br>NBA SALARIES</b>/Eastern/Atlantic/New York Knicks",
          "<b>2023-24<br>NBA SALARIES</b>/Eastern/Southeast/Charlotte Hornets",
          "<b>2023-24<br>NBA SALARIES</b>/Eastern/Central/Cleveland Cavaliers",
          "<b>2023-24<br>NBA SALARIES</b>/Eastern/Southeast/Charlotte Hornets",
          "<b>2023-24<br>NBA SALARIES</b>/Eastern/Central/Indiana Pacers",
          "<b>2023-24<br>NBA SALARIES</b>/Eastern/Central/Chicago Bulls",
          "<b>2023-24<br>NBA SALARIES</b>/Eastern/Atlantic/Toronto Raptors",
          "<b>2023-24<br>NBA SALARIES</b>/Western/Pacific/Los Angeles Lakers",
          "<b>2023-24<br>NBA SALARIES</b>/Eastern/Southeast/Miami Heat",
          "<b>2023-24<br>NBA SALARIES</b>/Eastern/Atlantic/Boston Celtics",
          "<b>2023-24<br>NBA SALARIES</b>/Eastern/Atlantic/Boston Celtics",
          "<b>2023-24<br>NBA SALARIES</b>/Western/Northwest/Minnesota Timberwolves",
          "<b>2023-24<br>NBA SALARIES</b>/Western/Northwest/Minnesota Timberwolves",
          "<b>2023-24<br>NBA SALARIES</b>/Eastern/Central/Cleveland Cavaliers",
          "<b>2023-24<br>NBA SALARIES</b>/Western/Southwest/San Antonio Spurs",
          "<b>2023-24<br>NBA SALARIES</b>/Eastern/Atlantic/New York Knicks",
          "<b>2023-24<br>NBA SALARIES</b>/Western/Northwest/Denver Nuggets",
          "<b>2023-24<br>NBA SALARIES</b>/Western/Pacific/Phoenix Suns",
          "<b>2023-24<br>NBA SALARIES</b>/Eastern/Atlantic/Brooklyn Nets",
          "<b>2023-24<br>NBA SALARIES</b>/Western/Northwest/Minnesota Timberwolves",
          "<b>2023-24<br>NBA SALARIES</b>/Western/Southwest/San Antonio Spurs",
          "<b>2023-24<br>NBA SALARIES</b>/Western/Pacific/Golden State Warriors",
          "<b>2023-24<br>NBA SALARIES</b>/Western/Pacific/LA Clippers",
          "<b>2023-24<br>NBA SALARIES</b>/Eastern/Atlantic/Philadelphia 76ers",
          "<b>2023-24<br>NBA SALARIES</b>/Eastern/Atlantic/Boston Celtics",
          "<b>2023-24<br>NBA SALARIES</b>/Western/Northwest/Denver Nuggets",
          "<b>2023-24<br>NBA SALARIES</b>/Western/Southwest/New Orleans Pelicans",
          "<b>2023-24<br>NBA SALARIES</b>/Eastern/Southeast/Washington Wizards",
          "<b>2023-24<br>NBA SALARIES</b>/Western/Southwest/Houston Rockets",
          "<b>2023-24<br>NBA SALARIES</b>/Eastern/Southeast/Orlando Magic",
          "<b>2023-24<br>NBA SALARIES</b>/Eastern/Atlantic/Philadelphia 76ers",
          "<b>2023-24<br>NBA SALARIES</b>/Eastern/Southeast/Washington Wizards",
          "<b>2023-24<br>NBA SALARIES</b>/Eastern/Southeast/Charlotte Hornets",
          "<b>2023-24<br>NBA SALARIES</b>/Western/Southwest/San Antonio Spurs",
          "<b>2023-24<br>NBA SALARIES</b>/Eastern/Atlantic/New York Knicks",
          "<b>2023-24<br>NBA SALARIES</b>/Western/Southwest/Memphis Grizzlies",
          "<b>2023-24<br>NBA SALARIES</b>/Eastern/Atlantic/Boston Celtics",
          "<b>2023-24<br>NBA SALARIES</b>/Eastern/Atlantic/Toronto Raptors",
          "<b>2023-24<br>NBA SALARIES</b>/Western/Northwest/Portland Trail Blazers",
          "<b>2023-24<br>NBA SALARIES</b>/Eastern/Southeast/Washington Wizards",
          "<b>2023-24<br>NBA SALARIES</b>/Western/Northwest/Denver Nuggets",
          "<b>2023-24<br>NBA SALARIES</b>/Western/Northwest/Oklahoma City Thunder",
          "<b>2023-24<br>NBA SALARIES</b>/Western/Northwest/Portland Trail Blazers",
          "<b>2023-24<br>NBA SALARIES</b>/Western/Southwest/New Orleans Pelicans",
          "<b>2023-24<br>NBA SALARIES</b>/Eastern/Central/Chicago Bulls",
          "<b>2023-24<br>NBA SALARIES</b>/Eastern/Atlantic/Toronto Raptors",
          "<b>2023-24<br>NBA SALARIES</b>/Eastern/Southeast/Miami Heat",
          "<b>2023-24<br>NBA SALARIES</b>/Eastern/Atlantic/Philadelphia 76ers",
          "<b>2023-24<br>NBA SALARIES</b>/Western/Pacific/Los Angeles Lakers",
          "<b>2023-24<br>NBA SALARIES</b>/Western/Southwest/San Antonio Spurs",
          "<b>2023-24<br>NBA SALARIES</b>/Eastern/Southeast/Atlanta Hawks",
          "<b>2023-24<br>NBA SALARIES</b>/Eastern/Atlantic/Philadelphia 76ers",
          "<b>2023-24<br>NBA SALARIES</b>/Eastern/Central/Chicago Bulls",
          "<b>2023-24<br>NBA SALARIES</b>/Eastern/Atlantic/Toronto Raptors",
          "<b>2023-24<br>NBA SALARIES</b>/Western/Northwest/Denver Nuggets",
          "<b>2023-24<br>NBA SALARIES</b>/Western/Pacific/Golden State Warriors",
          "<b>2023-24<br>NBA SALARIES</b>/Western/Southwest/New Orleans Pelicans",
          "<b>2023-24<br>NBA SALARIES</b>/Eastern/Southeast/Miami Heat",
          "<b>2023-24<br>NBA SALARIES</b>/Western/Pacific/Sacramento Kings",
          "<b>2023-24<br>NBA SALARIES</b>/Eastern/Southeast/Orlando Magic",
          "<b>2023-24<br>NBA SALARIES</b>/Western/Pacific/Los Angeles Lakers",
          "<b>2023-24<br>NBA SALARIES</b>/Western/Southwest/Houston Rockets",
          "<b>2023-24<br>NBA SALARIES</b>/Eastern/Central/Milwaukee Bucks",
          "<b>2023-24<br>NBA SALARIES</b>/Eastern/Atlantic/New York Knicks",
          "<b>2023-24<br>NBA SALARIES</b>/Western/Pacific/LA Clippers",
          "<b>2023-24<br>NBA SALARIES</b>/Western/Southwest/Dallas Mavericks",
          "<b>2023-24<br>NBA SALARIES</b>/Eastern/Atlantic/Brooklyn Nets",
          "<b>2023-24<br>NBA SALARIES</b>/Western/Pacific/LA Clippers",
          "<b>2023-24<br>NBA SALARIES</b>/Western/Northwest/Oklahoma City Thunder",
          "<b>2023-24<br>NBA SALARIES</b>/Western/Pacific/Sacramento Kings",
          "<b>2023-24<br>NBA SALARIES</b>/Western/Southwest/San Antonio Spurs",
          "<b>2023-24<br>NBA SALARIES</b>/Western/Northwest/Oklahoma City Thunder",
          "<b>2023-24<br>NBA SALARIES</b>/Eastern/Central/Cleveland Cavaliers",
          "<b>2023-24<br>NBA SALARIES</b>/Eastern/Atlantic/Brooklyn Nets",
          "<b>2023-24<br>NBA SALARIES</b>/Western/Northwest/Oklahoma City Thunder",
          "<b>2023-24<br>NBA SALARIES</b>/Western/Southwest/Houston Rockets",
          "<b>2023-24<br>NBA SALARIES</b>/Western/Southwest/Houston Rockets",
          "<b>2023-24<br>NBA SALARIES</b>/Eastern/Central/Indiana Pacers",
          "<b>2023-24<br>NBA SALARIES</b>/Eastern/Central/Milwaukee Bucks",
          "<b>2023-24<br>NBA SALARIES</b>/Eastern/Southeast/Miami Heat",
          "<b>2023-24<br>NBA SALARIES</b>/Western/Pacific/Sacramento Kings",
          "<b>2023-24<br>NBA SALARIES</b>/Eastern/Southeast/Washington Wizards",
          "<b>2023-24<br>NBA SALARIES</b>/Western/Pacific/Phoenix Suns",
          "<b>2023-24<br>NBA SALARIES</b>/Eastern/Atlantic/Toronto Raptors",
          "<b>2023-24<br>NBA SALARIES</b>/Eastern/Atlantic/Toronto Raptors",
          "<b>2023-24<br>NBA SALARIES</b>/Western/Southwest/New Orleans Pelicans",
          "<b>2023-24<br>NBA SALARIES</b>/Western/Southwest/New Orleans Pelicans",
          "<b>2023-24<br>NBA SALARIES</b>/Western/Northwest/Portland Trail Blazers",
          "<b>2023-24<br>NBA SALARIES</b>/Western/Northwest/Oklahoma City Thunder",
          "<b>2023-24<br>NBA SALARIES</b>/Eastern/Atlantic/Brooklyn Nets",
          "<b>2023-24<br>NBA SALARIES</b>/Western/Southwest/San Antonio Spurs",
          "<b>2023-24<br>NBA SALARIES</b>/Western/Southwest/San Antonio Spurs",
          "<b>2023-24<br>NBA SALARIES</b>/Eastern/Southeast/Washington Wizards",
          "<b>2023-24<br>NBA SALARIES</b>/Western/Pacific/Los Angeles Lakers",
          "<b>2023-24<br>NBA SALARIES</b>/Eastern/Central/Detroit Pistons",
          "<b>2023-24<br>NBA SALARIES</b>/Eastern/Atlantic/Toronto Raptors",
          "<b>2023-24<br>NBA SALARIES</b>/Eastern/Southeast/Orlando Magic",
          "<b>2023-24<br>NBA SALARIES</b>/Eastern/Central/Cleveland Cavaliers",
          "<b>2023-24<br>NBA SALARIES</b>/Eastern/Atlantic/Toronto Raptors",
          "<b>2023-24<br>NBA SALARIES</b>/Western/Southwest/Houston Rockets",
          "<b>2023-24<br>NBA SALARIES</b>/Eastern/Central/Chicago Bulls",
          "<b>2023-24<br>NBA SALARIES</b>/Eastern/Atlantic/New York Knicks",
          "<b>2023-24<br>NBA SALARIES</b>/Eastern/Southeast/Charlotte Hornets",
          "<b>2023-24<br>NBA SALARIES</b>/Eastern/Southeast/Miami Heat",
          "<b>2023-24<br>NBA SALARIES</b>/Eastern/Southeast/Charlotte Hornets",
          "<b>2023-24<br>NBA SALARIES</b>/Eastern/Southeast/Orlando Magic",
          "<b>2023-24<br>NBA SALARIES</b>/Western/Southwest/New Orleans Pelicans",
          "<b>2023-24<br>NBA SALARIES</b>/Eastern/Central/Detroit Pistons",
          "<b>2023-24<br>NBA SALARIES</b>/Western/Northwest/Oklahoma City Thunder",
          "<b>2023-24<br>NBA SALARIES</b>/Western/Pacific/Los Angeles Lakers",
          "<b>2023-24<br>NBA SALARIES</b>/Western/Southwest/Houston Rockets",
          "<b>2023-24<br>NBA SALARIES</b>/Western/Northwest/Utah Jazz",
          "<b>2023-24<br>NBA SALARIES</b>/Eastern/Central/Chicago Bulls",
          "<b>2023-24<br>NBA SALARIES</b>/Eastern/Atlantic/Brooklyn Nets",
          "<b>2023-24<br>NBA SALARIES</b>/Eastern/Central/Detroit Pistons",
          "<b>2023-24<br>NBA SALARIES</b>/Western/Pacific/LA Clippers",
          "<b>2023-24<br>NBA SALARIES</b>/Eastern/Southeast/Washington Wizards",
          "<b>2023-24<br>NBA SALARIES</b>/Eastern/Atlantic/Philadelphia 76ers",
          "<b>2023-24<br>NBA SALARIES</b>/Western/Pacific/LA Clippers",
          "<b>2023-24<br>NBA SALARIES</b>/Eastern/Southeast/Atlanta Hawks",
          "<b>2023-24<br>NBA SALARIES</b>/Western/Southwest/San Antonio Spurs",
          "<b>2023-24<br>NBA SALARIES</b>/Eastern/Southeast/Atlanta Hawks",
          "<b>2023-24<br>NBA SALARIES</b>/Eastern/Central/Milwaukee Bucks",
          "<b>2023-24<br>NBA SALARIES</b>/Western/Pacific/Sacramento Kings",
          "<b>2023-24<br>NBA SALARIES</b>/Eastern/Southeast/Atlanta Hawks",
          "<b>2023-24<br>NBA SALARIES</b>/Western/Southwest/Houston Rockets",
          "<b>2023-24<br>NBA SALARIES</b>/Western/Southwest/Dallas Mavericks",
          "<b>2023-24<br>NBA SALARIES</b>/Eastern/Central/Cleveland Cavaliers",
          "<b>2023-24<br>NBA SALARIES</b>/Western/Northwest/Oklahoma City Thunder",
          "<b>2023-24<br>NBA SALARIES</b>/Western/Pacific/Golden State Warriors",
          "<b>2023-24<br>NBA SALARIES</b>/Eastern/Southeast/Miami Heat",
          "<b>2023-24<br>NBA SALARIES</b>/Western/Pacific/Golden State Warriors",
          "<b>2023-24<br>NBA SALARIES</b>/Western/Southwest/Dallas Mavericks",
          "<b>2023-24<br>NBA SALARIES</b>/Western/Northwest/Portland Trail Blazers",
          "<b>2023-24<br>NBA SALARIES</b>/Eastern/Central/Detroit Pistons",
          "<b>2023-24<br>NBA SALARIES</b>/Eastern/Atlantic/Philadelphia 76ers",
          "<b>2023-24<br>NBA SALARIES</b>/Western/Northwest/Utah Jazz",
          "<b>2023-24<br>NBA SALARIES</b>/Eastern/Central/Milwaukee Bucks",
          "<b>2023-24<br>NBA SALARIES</b>/Eastern/Atlantic/Brooklyn Nets",
          "<b>2023-24<br>NBA SALARIES</b>/Eastern/Central/Indiana Pacers",
          "<b>2023-24<br>NBA SALARIES</b>/Eastern/Southeast/Atlanta Hawks",
          "<b>2023-24<br>NBA SALARIES</b>/Western/Pacific/Los Angeles Lakers",
          "<b>2023-24<br>NBA SALARIES</b>/Western/Northwest/Minnesota Timberwolves",
          "<b>2023-24<br>NBA SALARIES</b>/Western/Pacific/Phoenix Suns",
          "<b>2023-24<br>NBA SALARIES</b>/Eastern/Atlantic/Philadelphia 76ers",
          "<b>2023-24<br>NBA SALARIES</b>/Western/Pacific/Golden State Warriors",
          "<b>2023-24<br>NBA SALARIES</b>/Western/Northwest/Portland Trail Blazers",
          "<b>2023-24<br>NBA SALARIES</b>/Western/Pacific/Sacramento Kings",
          "<b>2023-24<br>NBA SALARIES</b>/Western/Northwest/Portland Trail Blazers",
          "<b>2023-24<br>NBA SALARIES</b>/Eastern/Central/Indiana Pacers",
          "<b>2023-24<br>NBA SALARIES</b>/Eastern/Atlantic/Boston Celtics",
          "<b>2023-24<br>NBA SALARIES</b>/Eastern/Atlantic/Philadelphia 76ers",
          "<b>2023-24<br>NBA SALARIES</b>/Eastern/Atlantic/New York Knicks",
          "<b>2023-24<br>NBA SALARIES</b>/Eastern/Central/Indiana Pacers",
          "<b>2023-24<br>NBA SALARIES</b>/Western/Southwest/Dallas Mavericks",
          "<b>2023-24<br>NBA SALARIES</b>/Western/Southwest/San Antonio Spurs",
          "<b>2023-24<br>NBA SALARIES</b>/Eastern/Southeast/Atlanta Hawks",
          "<b>2023-24<br>NBA SALARIES</b>/Western/Northwest/Portland Trail Blazers",
          "<b>2023-24<br>NBA SALARIES</b>/Western/Northwest/Denver Nuggets",
          "<b>2023-24<br>NBA SALARIES</b>/Eastern/Southeast/Charlotte Hornets",
          "<b>2023-24<br>NBA SALARIES</b>/Western/Southwest/San Antonio Spurs",
          "<b>2023-24<br>NBA SALARIES</b>/Eastern/Central/Milwaukee Bucks",
          "<b>2023-24<br>NBA SALARIES</b>/Western/Northwest/Portland Trail Blazers",
          "<b>2023-24<br>NBA SALARIES</b>/Eastern/Central/Chicago Bulls",
          "<b>2023-24<br>NBA SALARIES</b>/Western/Pacific/Sacramento Kings",
          "<b>2023-24<br>NBA SALARIES</b>/Western/Southwest/Dallas Mavericks",
          "<b>2023-24<br>NBA SALARIES</b>/Eastern/Atlantic/Brooklyn Nets",
          "<b>2023-24<br>NBA SALARIES</b>/Western/Southwest/New Orleans Pelicans",
          "<b>2023-24<br>NBA SALARIES</b>/Eastern/Southeast/Miami Heat",
          "<b>2023-24<br>NBA SALARIES</b>/Western/Pacific/Sacramento Kings",
          "<b>2023-24<br>NBA SALARIES</b>/Eastern/Atlantic/Toronto Raptors",
          "<b>2023-24<br>NBA SALARIES</b>/Eastern/Southeast/Miami Heat",
          "<b>2023-24<br>NBA SALARIES</b>/Western/Southwest/Memphis Grizzlies",
          "<b>2023-24<br>NBA SALARIES</b>/Western/Northwest/Oklahoma City Thunder",
          "<b>2023-24<br>NBA SALARIES</b>/Western/Northwest/Oklahoma City Thunder",
          "<b>2023-24<br>NBA SALARIES</b>/Western/Southwest/Houston Rockets",
          "<b>2023-24<br>NBA SALARIES</b>/Eastern/Central/Indiana Pacers",
          "<b>2023-24<br>NBA SALARIES</b>/Eastern/Southeast/Charlotte Hornets",
          "<b>2023-24<br>NBA SALARIES</b>/Western/Southwest/Dallas Mavericks",
          "<b>2023-24<br>NBA SALARIES</b>/Eastern/Atlantic/Boston Celtics",
          "<b>2023-24<br>NBA SALARIES</b>/Western/Northwest/Denver Nuggets",
          "<b>2023-24<br>NBA SALARIES</b>/Western/Pacific/Sacramento Kings",
          "<b>2023-24<br>NBA SALARIES</b>/Eastern/Central/Detroit Pistons",
          "<b>2023-24<br>NBA SALARIES</b>/Eastern/Central/Milwaukee Bucks",
          "<b>2023-24<br>NBA SALARIES</b>/Western/Southwest/Dallas Mavericks",
          "<b>2023-24<br>NBA SALARIES</b>/Western/Pacific/Los Angeles Lakers",
          "<b>2023-24<br>NBA SALARIES</b>/Western/Northwest/Minnesota Timberwolves",
          "<b>2023-24<br>NBA SALARIES</b>/Western/Northwest/Utah Jazz",
          "<b>2023-24<br>NBA SALARIES</b>/Western/Southwest/Houston Rockets",
          "<b>2023-24<br>NBA SALARIES</b>/Eastern/Atlantic/Boston Celtics",
          "<b>2023-24<br>NBA SALARIES</b>/Eastern/Atlantic/Brooklyn Nets",
          "<b>2023-24<br>NBA SALARIES</b>/Western/Pacific/Phoenix Suns",
          "<b>2023-24<br>NBA SALARIES</b>/Eastern/Atlantic/Brooklyn Nets",
          "<b>2023-24<br>NBA SALARIES</b>/Eastern/Central/Chicago Bulls",
          "<b>2023-24<br>NBA SALARIES</b>/Eastern/Atlantic/Toronto Raptors",
          "<b>2023-24<br>NBA SALARIES</b>/Western/Northwest/Denver Nuggets",
          "<b>2023-24<br>NBA SALARIES</b>/Eastern/Atlantic/Boston Celtics",
          "<b>2023-24<br>NBA SALARIES</b>/Eastern/Southeast/Miami Heat",
          "<b>2023-24<br>NBA SALARIES</b>/Eastern/Atlantic/New York Knicks",
          "<b>2023-24<br>NBA SALARIES</b>/Western/Pacific/Los Angeles Lakers",
          "<b>2023-24<br>NBA SALARIES</b>/Western/Northwest/Oklahoma City Thunder",
          "<b>2023-24<br>NBA SALARIES</b>/Eastern/Central/Indiana Pacers",
          "<b>2023-24<br>NBA SALARIES</b>/Eastern/Central/Cleveland Cavaliers",
          "<b>2023-24<br>NBA SALARIES</b>/Eastern/Central/Detroit Pistons",
          "<b>2023-24<br>NBA SALARIES</b>/Eastern/Central/Chicago Bulls",
          "<b>2023-24<br>NBA SALARIES</b>/Eastern/Southeast/Orlando Magic",
          "<b>2023-24<br>NBA SALARIES</b>/Eastern/Southeast/Charlotte Hornets",
          "<b>2023-24<br>NBA SALARIES</b>/Western/Northwest/Oklahoma City Thunder",
          "<b>2023-24<br>NBA SALARIES</b>/Eastern/Atlantic/Boston Celtics",
          "<b>2023-24<br>NBA SALARIES</b>/Eastern/Central/Detroit Pistons",
          "<b>2023-24<br>NBA SALARIES</b>/Eastern/Central/Detroit Pistons",
          "<b>2023-24<br>NBA SALARIES</b>/Western/Pacific/Phoenix Suns",
          "<b>2023-24<br>NBA SALARIES</b>/Eastern/Southeast/Miami Heat",
          "<b>2023-24<br>NBA SALARIES</b>/Eastern/Central/Cleveland Cavaliers",
          "<b>2023-24<br>NBA SALARIES</b>/Western/Pacific/Los Angeles Lakers",
          "<b>2023-24<br>NBA SALARIES</b>/Western/Pacific/Sacramento Kings",
          "<b>2023-24<br>NBA SALARIES</b>/Western/Northwest/Utah Jazz",
          "<b>2023-24<br>NBA SALARIES</b>/Eastern/Southeast/Washington Wizards",
          "<b>2023-24<br>NBA SALARIES</b>/Western/Southwest/New Orleans Pelicans",
          "<b>2023-24<br>NBA SALARIES</b>/Western/Northwest/Utah Jazz",
          "<b>2023-24<br>NBA SALARIES</b>/Western/Southwest/San Antonio Spurs",
          "<b>2023-24<br>NBA SALARIES</b>/Western/Northwest/Minnesota Timberwolves",
          "<b>2023-24<br>NBA SALARIES</b>/Eastern/Atlantic/Philadelphia 76ers",
          "<b>2023-24<br>NBA SALARIES</b>/Eastern/Atlantic/Philadelphia 76ers",
          "<b>2023-24<br>NBA SALARIES</b>/Eastern/Southeast/Washington Wizards",
          "<b>2023-24<br>NBA SALARIES</b>/Eastern/Southeast/Atlanta Hawks",
          "<b>2023-24<br>NBA SALARIES</b>/Western/Northwest/Utah Jazz",
          "<b>2023-24<br>NBA SALARIES</b>/Western/Northwest/Utah Jazz",
          "<b>2023-24<br>NBA SALARIES</b>/Eastern/Central/Detroit Pistons",
          "<b>2023-24<br>NBA SALARIES</b>/Eastern/Southeast/Charlotte Hornets",
          "<b>2023-24<br>NBA SALARIES</b>/Eastern/Atlantic/New York Knicks",
          "<b>2023-24<br>NBA SALARIES</b>/Western/Northwest/Portland Trail Blazers",
          "<b>2023-24<br>NBA SALARIES</b>/Western/Southwest/San Antonio Spurs",
          "<b>2023-24<br>NBA SALARIES</b>/Western/Pacific/Golden State Warriors",
          "<b>2023-24<br>NBA SALARIES</b>/Eastern/Southeast/Atlanta Hawks",
          "<b>2023-24<br>NBA SALARIES</b>/Eastern/Central/Indiana Pacers",
          "<b>2023-24<br>NBA SALARIES</b>/Western/Southwest/Memphis Grizzlies",
          "<b>2023-24<br>NBA SALARIES</b>/Western/Southwest/Houston Rockets",
          "<b>2023-24<br>NBA SALARIES</b>/Western/Southwest/New Orleans Pelicans",
          "<b>2023-24<br>NBA SALARIES</b>/Western/Southwest/Memphis Grizzlies",
          "<b>2023-24<br>NBA SALARIES</b>/Eastern/Southeast/Orlando Magic",
          "<b>2023-24<br>NBA SALARIES</b>/Western/Pacific/Los Angeles Lakers",
          "<b>2023-24<br>NBA SALARIES</b>/Western/Southwest/New Orleans Pelicans",
          "<b>2023-24<br>NBA SALARIES</b>/Eastern/Atlantic/New York Knicks",
          "<b>2023-24<br>NBA SALARIES</b>/Western/Pacific/Phoenix Suns",
          "<b>2023-24<br>NBA SALARIES</b>/Eastern/Atlantic/Toronto Raptors",
          "<b>2023-24<br>NBA SALARIES</b>/Eastern/Atlantic/Brooklyn Nets",
          "<b>2023-24<br>NBA SALARIES</b>/Western/Pacific/Sacramento Kings",
          "<b>2023-24<br>NBA SALARIES</b>/Eastern/Southeast/Atlanta Hawks",
          "<b>2023-24<br>NBA SALARIES</b>/Eastern/Southeast/Orlando Magic",
          "<b>2023-24<br>NBA SALARIES</b>/Eastern/Central/Chicago Bulls",
          "<b>2023-24<br>NBA SALARIES</b>/Eastern/Southeast/Miami Heat",
          "<b>2023-24<br>NBA SALARIES</b>/Western/Southwest/Dallas Mavericks",
          "<b>2023-24<br>NBA SALARIES</b>/Eastern/Southeast/Washington Wizards",
          "<b>2023-24<br>NBA SALARIES</b>/Eastern/Atlantic/Philadelphia 76ers",
          "<b>2023-24<br>NBA SALARIES</b>/Western/Northwest/Denver Nuggets",
          "<b>2023-24<br>NBA SALARIES</b>/Eastern/Central/Milwaukee Bucks",
          "<b>2023-24<br>NBA SALARIES</b>/Eastern/Atlantic/Philadelphia 76ers",
          "<b>2023-24<br>NBA SALARIES</b>/Eastern/Atlantic/Boston Celtics",
          "<b>2023-24<br>NBA SALARIES</b>/Eastern/Southeast/Miami Heat",
          "<b>2023-24<br>NBA SALARIES</b>/Eastern/Central/Detroit Pistons",
          "<b>2023-24<br>NBA SALARIES</b>/Western/Southwest/Memphis Grizzlies",
          "<b>2023-24<br>NBA SALARIES</b>/Western/Pacific/Los Angeles Lakers",
          "<b>2023-24<br>NBA SALARIES</b>/Eastern/Southeast/Orlando Magic",
          "<b>2023-24<br>NBA SALARIES</b>/Western/Pacific/Golden State Warriors",
          "<b>2023-24<br>NBA SALARIES</b>/Eastern/Atlantic/Brooklyn Nets",
          "<b>2023-24<br>NBA SALARIES</b>/Western/Southwest/Houston Rockets",
          "<b>2023-24<br>NBA SALARIES</b>/Eastern/Southeast/Charlotte Hornets",
          "<b>2023-24<br>NBA SALARIES</b>/Western/Pacific/Golden State Warriors",
          "<b>2023-24<br>NBA SALARIES</b>/Western/Pacific/Phoenix Suns",
          "<b>2023-24<br>NBA SALARIES</b>/Western/Pacific/LA Clippers",
          "<b>2023-24<br>NBA SALARIES</b>/Western/Pacific/Los Angeles Lakers",
          "<b>2023-24<br>NBA SALARIES</b>/Western/Southwest/Houston Rockets",
          "<b>2023-24<br>NBA SALARIES</b>/Eastern/Southeast/Atlanta Hawks",
          "<b>2023-24<br>NBA SALARIES</b>/Eastern/Central/Cleveland Cavaliers",
          "<b>2023-24<br>NBA SALARIES</b>/Eastern/Central/Milwaukee Bucks",
          "<b>2023-24<br>NBA SALARIES</b>/Eastern/Southeast/Charlotte Hornets",
          "<b>2023-24<br>NBA SALARIES</b>/Eastern/Southeast/Washington Wizards",
          "<b>2023-24<br>NBA SALARIES</b>/Eastern/Central/Indiana Pacers",
          "<b>2023-24<br>NBA SALARIES</b>/Western/Northwest/Utah Jazz",
          "<b>2023-24<br>NBA SALARIES</b>/Eastern/Central/Indiana Pacers",
          "<b>2023-24<br>NBA SALARIES</b>/Western/Northwest/Utah Jazz",
          "<b>2023-24<br>NBA SALARIES</b>/Western/Northwest/Denver Nuggets",
          "<b>2023-24<br>NBA SALARIES</b>/Western/Pacific/Golden State Warriors",
          "<b>2023-24<br>NBA SALARIES</b>/Eastern/Southeast/Washington Wizards",
          "<b>2023-24<br>NBA SALARIES</b>/Western/Pacific/Golden State Warriors",
          "<b>2023-24<br>NBA SALARIES</b>/Eastern/Central/Chicago Bulls",
          "<b>2023-24<br>NBA SALARIES</b>/Western/Northwest/Portland Trail Blazers",
          "<b>2023-24<br>NBA SALARIES</b>/Western/Pacific/LA Clippers",
          "<b>2023-24<br>NBA SALARIES</b>/Western/Pacific/Golden State Warriors",
          "<b>2023-24<br>NBA SALARIES</b>/Western/Southwest/San Antonio Spurs",
          "<b>2023-24<br>NBA SALARIES</b>/Western/Pacific/Golden State Warriors",
          "<b>2023-24<br>NBA SALARIES</b>/Eastern/Southeast/Miami Heat",
          "<b>2023-24<br>NBA SALARIES</b>/Eastern/Southeast/Orlando Magic",
          "<b>2023-24<br>NBA SALARIES</b>/Eastern/Central/Chicago Bulls",
          "<b>2023-24<br>NBA SALARIES</b>/Eastern/Southeast/Charlotte Hornets",
          "<b>2023-24<br>NBA SALARIES</b>/Western/Northwest/Utah Jazz",
          "<b>2023-24<br>NBA SALARIES</b>/Western/Southwest/Dallas Mavericks",
          "<b>2023-24<br>NBA SALARIES</b>/Eastern/Atlantic/Toronto Raptors",
          "<b>2023-24<br>NBA SALARIES</b>/Western/Pacific/LA Clippers",
          "<b>2023-24<br>NBA SALARIES</b>/Eastern/Southeast/Orlando Magic",
          "<b>2023-24<br>NBA SALARIES</b>/Western/Southwest/Houston Rockets",
          "<b>2023-24<br>NBA SALARIES</b>/Eastern/Southeast/Miami Heat",
          "<b>2023-24<br>NBA SALARIES</b>/Eastern/Southeast/Atlanta Hawks",
          "<b>2023-24<br>NBA SALARIES</b>/Western/Northwest/Utah Jazz",
          "<b>2023-24<br>NBA SALARIES</b>/Eastern/Southeast/Washington Wizards",
          "<b>2023-24<br>NBA SALARIES</b>/Eastern/Atlantic/Boston Celtics",
          "<b>2023-24<br>NBA SALARIES</b>/Western/Southwest/San Antonio Spurs",
          "<b>2023-24<br>NBA SALARIES</b>/Western/Southwest/Dallas Mavericks",
          "<b>2023-24<br>NBA SALARIES</b>/Western/Pacific/Sacramento Kings",
          "<b>2023-24<br>NBA SALARIES</b>/Western/Northwest/Denver Nuggets",
          "<b>2023-24<br>NBA SALARIES</b>/Eastern/Southeast/Charlotte Hornets",
          "<b>2023-24<br>NBA SALARIES</b>/Eastern/Southeast/Atlanta Hawks",
          "<b>2023-24<br>NBA SALARIES</b>/Eastern/Southeast/Charlotte Hornets",
          "<b>2023-24<br>NBA SALARIES</b>/Western/Southwest/Memphis Grizzlies",
          "<b>2023-24<br>NBA SALARIES</b>/Western/Northwest/Minnesota Timberwolves",
          "<b>2023-24<br>NBA SALARIES</b>/Eastern/Southeast/Orlando Magic",
          "<b>2023-24<br>NBA SALARIES</b>/Western/Pacific/LA Clippers",
          "<b>2023-24<br>NBA SALARIES</b>/Eastern/Atlantic/New York Knicks",
          "<b>2023-24<br>NBA SALARIES</b>/Western/Southwest/Memphis Grizzlies",
          "<b>2023-24<br>NBA SALARIES</b>/Eastern/Central/Indiana Pacers",
          "<b>2023-24<br>NBA SALARIES</b>/Eastern/Central/Detroit Pistons",
          "<b>2023-24<br>NBA SALARIES</b>/Western/Pacific/Golden State Warriors",
          "<b>2023-24<br>NBA SALARIES</b>/Eastern/Southeast/Atlanta Hawks",
          "<b>2023-24<br>NBA SALARIES</b>/Western/Northwest/Portland Trail Blazers",
          "<b>2023-24<br>NBA SALARIES</b>/Western/Northwest/Portland Trail Blazers",
          "<b>2023-24<br>NBA SALARIES</b>/Eastern/Central/Chicago Bulls",
          "<b>2023-24<br>NBA SALARIES</b>/Eastern/Central/Detroit Pistons",
          "<b>2023-24<br>NBA SALARIES</b>/Western/Southwest/Dallas Mavericks",
          "<b>2023-24<br>NBA SALARIES</b>/Western/Southwest/Houston Rockets",
          "<b>2023-24<br>NBA SALARIES</b>/Western/Northwest/Minnesota Timberwolves",
          "<b>2023-24<br>NBA SALARIES</b>/Eastern/Central/Milwaukee Bucks",
          "<b>2023-24<br>NBA SALARIES</b>/Eastern/Southeast/Charlotte Hornets",
          "<b>2023-24<br>NBA SALARIES</b>/Western/Northwest/Denver Nuggets",
          "<b>2023-24<br>NBA SALARIES</b>/Western/Southwest/San Antonio Spurs",
          "<b>2023-24<br>NBA SALARIES</b>/Eastern/Atlantic/Boston Celtics",
          "<b>2023-24<br>NBA SALARIES</b>/Eastern/Atlantic/Toronto Raptors",
          "<b>2023-24<br>NBA SALARIES</b>/Eastern/Atlantic/New York Knicks",
          "<b>2023-24<br>NBA SALARIES</b>/Eastern/Southeast/Miami Heat",
          "<b>2023-24<br>NBA SALARIES</b>/Eastern/Central/Indiana Pacers",
          "<b>2023-24<br>NBA SALARIES</b>/Western/Pacific/Phoenix Suns",
          "<b>2023-24<br>NBA SALARIES</b>/Western/Pacific/LA Clippers",
          "<b>2023-24<br>NBA SALARIES</b>/Eastern/Atlantic/New York Knicks",
          "<b>2023-24<br>NBA SALARIES</b>/Western/Southwest/Dallas Mavericks",
          "<b>2023-24<br>NBA SALARIES</b>/Western/Southwest/New Orleans Pelicans",
          "<b>2023-24<br>NBA SALARIES</b>/Eastern/Southeast/Washington Wizards",
          "<b>2023-24<br>NBA SALARIES</b>/Eastern/Central/Chicago Bulls",
          "<b>2023-24<br>NBA SALARIES</b>/Western/Pacific/Phoenix Suns",
          "<b>2023-24<br>NBA SALARIES</b>/Eastern/Central/Chicago Bulls",
          "<b>2023-24<br>NBA SALARIES</b>/Western/Northwest/Utah Jazz",
          "<b>2023-24<br>NBA SALARIES</b>/Eastern/Atlantic/New York Knicks",
          "<b>2023-24<br>NBA SALARIES</b>/Eastern/Atlantic/Brooklyn Nets",
          "<b>2023-24<br>NBA SALARIES</b>/Western/Northwest/Oklahoma City Thunder",
          "<b>2023-24<br>NBA SALARIES</b>/Western/Southwest/Memphis Grizzlies",
          "<b>2023-24<br>NBA SALARIES</b>/Western/Northwest/Minnesota Timberwolves",
          "<b>2023-24<br>NBA SALARIES</b>/Western/Southwest/Dallas Mavericks",
          "<b>2023-24<br>NBA SALARIES</b>/Eastern/Central/Cleveland Cavaliers",
          "<b>2023-24<br>NBA SALARIES</b>/Western/Northwest/Utah Jazz",
          "<b>2023-24<br>NBA SALARIES</b>/Western/Northwest/Utah Jazz",
          "<b>2023-24<br>NBA SALARIES</b>/Western/Pacific/Phoenix Suns",
          "<b>2023-24<br>NBA SALARIES</b>/Western/Southwest/Houston Rockets",
          "<b>2023-24<br>NBA SALARIES</b>/Eastern/Atlantic/New York Knicks",
          "<b>2023-24<br>NBA SALARIES</b>/Western/Southwest/Memphis Grizzlies",
          "<b>2023-24<br>NBA SALARIES</b>/Western/Pacific/LA Clippers",
          "<b>2023-24<br>NBA SALARIES</b>/Eastern/Atlantic/Boston Celtics",
          "<b>2023-24<br>NBA SALARIES</b>/Western/Southwest/Memphis Grizzlies",
          "<b>2023-24<br>NBA SALARIES</b>/Western/Southwest/San Antonio Spurs",
          "<b>2023-24<br>NBA SALARIES</b>/Eastern/Southeast/Orlando Magic",
          "<b>2023-24<br>NBA SALARIES</b>/Eastern/Atlantic/Philadelphia 76ers",
          "<b>2023-24<br>NBA SALARIES</b>/Eastern/Central/Cleveland Cavaliers",
          "<b>2023-24<br>NBA SALARIES</b>/Eastern/Central/Detroit Pistons",
          "<b>2023-24<br>NBA SALARIES</b>/Eastern/Atlantic/Toronto Raptors",
          "<b>2023-24<br>NBA SALARIES</b>/Western/Southwest/Dallas Mavericks",
          "<b>2023-24<br>NBA SALARIES</b>/Western/Northwest/Denver Nuggets",
          "<b>2023-24<br>NBA SALARIES</b>/Western/Northwest/Minnesota Timberwolves",
          "<b>2023-24<br>NBA SALARIES</b>/Eastern/Central/Detroit Pistons",
          "<b>2023-24<br>NBA SALARIES</b>/Western/Northwest/Oklahoma City Thunder",
          "<b>2023-24<br>NBA SALARIES</b>/Western/Southwest/Memphis Grizzlies",
          "<b>2023-24<br>NBA SALARIES</b>/Western/Pacific/Sacramento Kings",
          "<b>2023-24<br>NBA SALARIES</b>/Eastern/Central/Chicago Bulls",
          "<b>2023-24<br>NBA SALARIES</b>/Western/Pacific/LA Clippers",
          "<b>2023-24<br>NBA SALARIES</b>/Eastern/Atlantic/Brooklyn Nets",
          "<b>2023-24<br>NBA SALARIES</b>/Eastern/Central/Milwaukee Bucks",
          "<b>2023-24<br>NBA SALARIES</b>/Eastern/Southeast",
          "<b>2023-24<br>NBA SALARIES</b>/Eastern/Atlantic",
          "<b>2023-24<br>NBA SALARIES</b>/Eastern/Atlantic",
          "<b>2023-24<br>NBA SALARIES</b>/Eastern/Southeast",
          "<b>2023-24<br>NBA SALARIES</b>/Eastern/Central",
          "<b>2023-24<br>NBA SALARIES</b>/Eastern/Central",
          "<b>2023-24<br>NBA SALARIES</b>/Western/Southwest",
          "<b>2023-24<br>NBA SALARIES</b>/Western/Northwest",
          "<b>2023-24<br>NBA SALARIES</b>/Eastern/Central",
          "<b>2023-24<br>NBA SALARIES</b>/Western/Pacific",
          "<b>2023-24<br>NBA SALARIES</b>/Western/Southwest",
          "<b>2023-24<br>NBA SALARIES</b>/Eastern/Central",
          "<b>2023-24<br>NBA SALARIES</b>/Western/Pacific",
          "<b>2023-24<br>NBA SALARIES</b>/Western/Pacific",
          "<b>2023-24<br>NBA SALARIES</b>/Western/Southwest",
          "<b>2023-24<br>NBA SALARIES</b>/Eastern/Southeast",
          "<b>2023-24<br>NBA SALARIES</b>/Eastern/Central",
          "<b>2023-24<br>NBA SALARIES</b>/Western/Northwest",
          "<b>2023-24<br>NBA SALARIES</b>/Western/Southwest",
          "<b>2023-24<br>NBA SALARIES</b>/Eastern/Atlantic",
          "<b>2023-24<br>NBA SALARIES</b>/Western/Northwest",
          "<b>2023-24<br>NBA SALARIES</b>/Eastern/Southeast",
          "<b>2023-24<br>NBA SALARIES</b>/Eastern/Atlantic",
          "<b>2023-24<br>NBA SALARIES</b>/Western/Pacific",
          "<b>2023-24<br>NBA SALARIES</b>/Western/Northwest",
          "<b>2023-24<br>NBA SALARIES</b>/Western/Pacific",
          "<b>2023-24<br>NBA SALARIES</b>/Western/Southwest",
          "<b>2023-24<br>NBA SALARIES</b>/Eastern/Atlantic",
          "<b>2023-24<br>NBA SALARIES</b>/Western/Northwest",
          "<b>2023-24<br>NBA SALARIES</b>/Eastern/Southeast",
          "<b>2023-24<br>NBA SALARIES</b>/Eastern",
          "<b>2023-24<br>NBA SALARIES</b>/Eastern",
          "<b>2023-24<br>NBA SALARIES</b>/Western",
          "<b>2023-24<br>NBA SALARIES</b>/Western",
          "<b>2023-24<br>NBA SALARIES</b>/Eastern",
          "<b>2023-24<br>NBA SALARIES</b>/Western",
          "<b>2023-24<br>NBA SALARIES</b>",
          "<b>2023-24<br>NBA SALARIES</b>",
          ""
         ],
         "texttemplate": "%{label}<br>%{value:$,}",
         "type": "sunburst",
         "values": [
          2131905,
          12046020,
          2795839,
          1119563,
          2413304,
          5539771,
          6587040,
          30800000,
          2019706,
          4000000,
          17307693,
          2421720,
          2019706,
          4124400,
          14704938,
          1500000,
          2194200,
          2019706,
          46741590,
          2000000,
          23883929,
          12015150,
          16875000,
          2019796,
          9800926,
          5000000,
          4556983,
          20975000,
          9219512,
          31500000,
          35802469,
          2019760,
          1836096,
          11014500,
          4798440,
          6300000,
          2019706,
          14487684,
          5709877,
          4343920,
          24107143,
          3196448,
          9219512,
          2413320,
          10375000,
          2019706,
          8882760,
          8409000,
          15435000,
          13050000,
          1801769,
          18518519,
          3089520,
          1930681,
          3845083,
          43219440,
          2019760,
          1119563,
          1836096,
          4000000,
          1719864,
          2623680,
          5569920,
          2019706,
          1119563,
          9945830,
          3889800,
          3835738,
          8800000,
          4810200,
          8925000,
          1119563,
          17897728,
          1554654,
          2385720,
          10880400,
          850000,
          6341464,
          18154000,
          27102202,
          661628,
          2528233,
          37893408,
          1836096,
          32600060,
          27586207,
          2696280,
          15418363,
          11710818,
          2019706,
          5266713,
          2019706,
          9245121,
          5000000,
          20000000,
          3908160,
          5808435,
          3360000,
          3000000,
          40600080,
          2528233,
          36016200,
          18357143,
          2320000,
          1800000,
          2586665,
          2019760,
          4379527,
          2303520,
          3196448,
          2966040,
          36016200,
          3000000,
          6012840,
          45640084,
          8000000,
          4037278,
          22266182,
          3359280,
          25568182,
          2019706,
          17000000,
          7723000,
          6614280,
          7921301,
          6718842,
          15681818,
          3199920,
          2226240,
          8008560,
          1719864,
          1719864,
          4306281,
          33386850,
          1951220,
          2019706,
          9835881,
          12195122,
          2891467,
          46900000,
          1719864,
          12100000,
          20616000,
          1930681,
          20465117,
          2066585,
          33833400,
          7500000,
          2559942,
          27000000,
          8000000,
          11608080,
          2165000,
          6500000,
          2019706,
          2066585,
          45640084,
          1000000,
          2240160,
          1836096,
          5291000,
          2019760,
          6985000,
          4558680,
          15384616,
          2019706,
          1997238,
          8809320,
          9326520,
          37893408,
          9423869,
          1902137,
          1927896,
          2337720,
          47649433,
          4536720,
          18560000,
          2196970,
          1930681,
          32459438,
          2000000,
          2019706,
          3071880,
          5316960,
          14000000,
          3695040,
          5266713,
          11750000,
          7245480,
          2439025,
          28954,
          9891480,
          3350760,
          10489600,
          565176,
          32600060,
          2019706,
          17400000,
          5784120,
          18857143,
          3500000,
          7455000,
          3527160,
          500000,
          1836096,
          2808720,
          3044872,
          3835738,
          27955357,
          39270150,
          3666667,
          553151,
          455620,
          1119563,
          2019706,
          683430,
          3712920,
          40806300,
          12402000,
          34005250,
          766095,
          3918480,
          3510600,
          51915615,
          4775640,
          6313800,
          7413955,
          2019706,
          23487629,
          29320988,
          2210040,
          2537160,
          2581522,
          1119563,
          41000000,
          9500000,
          2019706,
          1029483,
          2019706,
          2019706,
          10500000,
          8700000,
          2019706,
          11692308,
          20000000,
          1100000,
          37037037,
          7700000,
          2925360,
          9770880,
          2234359,
          1719865,
          2600000,
          2019760,
          2019706,
          9460000,
          15669643,
          11000000,
          2019706,
          33833400,
          6802950,
          17000000,
          4114200,
          2352000,
          2232308,
          1836096,
          15277778,
          12600000,
          13750000,
          3191280,
          16847826,
          10000000,
          47607350,
          2413304,
          7977480,
          45640084,
          2019706,
          2165000,
          24360000,
          11020000,
          3536280,
          1119563,
          12405000,
          638413,
          2364614,
          2019706,
          4171548,
          1119563,
          32600060,
          1997238,
          2019706,
          10500000,
          754488,
          6916080,
          33162030,
          3873025,
          6481481,
          8000000,
          17000000,
          15860000,
          36861707,
          348225,
          538460,
          2718240,
          475908,
          1997238,
          2709849,
          2019706,
          2448600,
          6263188,
          12015150,
          17325000,
          1119563,
          1719864,
          5370370,
          19279841,
          900000,
          2019706,
          2485200,
          500000,
          1845593,
          7723000,
          552938,
          11571429,
          2504640,
          3352440,
          20089286,
          5604192,
          9450000,
          2019706,
          4310160,
          1991428,
          11000000,
          4698000,
          1801769,
          26346666,
          2346614,
          19500000,
          9625000,
          2019706,
          18214000,
          5026800,
          6190476,
          661628,
          1927896,
          5050800,
          4310250,
          5000000,
          45640084,
          11710818,
          2165000,
          1801769,
          7641480,
          34005250,
          15740741,
          7252080,
          22321429,
          13932008,
          8000000,
          7560000,
          24330357,
          2815937,
          1764341,
          47607350,
          2019706,
          8109063,
          8920795,
          1801769,
          12325581,
          10250000,
          5634257,
          2831160,
          6059520,
          5722116,
          33386850,
          2019706,
          1997239,
          548815,
          334582,
          22500000,
          2306400,
          6479000,
          9895833,
          1119563,
          22205221,
          2062585,
          1922896,
          10900635,
          2800000,
          2733360,
          22000000,
          35640000,
          5508720,
          3218160,
          1801769,
          18700000,
          25340000,
          12500000,
          1927896,
          12160680,
          3000000,
          5063760,
          2431080,
          4570080,
          40064220,
          1836096,
          1836096,
          4687500,
          13000000,
          18000000,
          18642857,
          12500000,
          6803012,
          4330680,
          8715000,
          4094280,
          1119563,
          2847480,
          40064220,
          19928571,
          40064220,
          22627671,
          3901399,
          2609400,
          2463960,
          2949120,
          5887899,
          31830357,
          4516000,
          28226880,
          45183960,
          777703,
          36016200,
          10933333,
          10960000,
          4765339,
          34005250,
          3722040,
          1600000,
          6250000,
          11111111,
          2586665,
          12960000,
          25679348,
          10386000,
          18833712,
          12950400,
          4000000,
          17116279,
          2066585,
          17259999,
          2528233,
          9600000,
          1927896,
          1930681,
          1741126,
          1930681,
          2346614,
          20000000,
          2000000,
          6500000,
          6146342,
          11055240,
          5401000,
          2019706,
          2019706,
          1719864,
          12119400,
          6175000,
          2400000,
          30600000,
          28600000,
          10576923,
          21700000,
          25000000,
          149356054,
          183505135,
          143822976,
          105604946,
          167679078,
          183158357,
          163210322,
          178201761,
          117106039,
          215301874,
          144502009,
          127386952,
          201939293,
          171052984,
          149094274,
          175704678,
          184146404,
          161136897,
          167264993,
          165335690,
          144674705,
          130960229,
          177906055,
          188220814,
          157605999,
          151977228,
          101536677,
          150032618,
          125832674,
          130924690,
          820602474,
          779476830,
          767452036,
          928492193,
          692550597,
          725608275,
          2292629901,
          2421552504,
          4714182405
         ]
        }
       ],
       "layout": {
        "annotations": [
         {
          "font": {
           "family": "Calibri",
           "size": 32
          },
          "showarrow": false,
          "text": "2023-24<br>NBA Salaries",
          "x": 1,
          "xref": "paper",
          "y": 0,
          "yref": "paper"
         }
        ],
        "autosize": true,
        "height": 650,
        "images": [
         {
          "sizex": 0.2,
          "sizey": 0.2,
          "source": "https://upload.wikimedia.org/wikipedia/en/thumb/0/03/National_Basketball_Association_logo.svg/903px-National_Basketball_Association_logo.svg.png",
          "x": 0,
          "xref": "paper",
          "y": 1,
          "yref": "paper"
         }
        ],
        "legend": {
         "tracegroupgap": 0
        },
        "margin": {
         "b": 0,
         "l": 0,
         "r": 0,
         "t": 0
        },
        "template": {
         "data": {
          "bar": [
           {
            "error_x": {
             "color": "#2a3f5f"
            },
            "error_y": {
             "color": "#2a3f5f"
            },
            "marker": {
             "line": {
              "color": "#E5ECF6",
              "width": 0.5
             },
             "pattern": {
              "fillmode": "overlay",
              "size": 10,
              "solidity": 0.2
             }
            },
            "type": "bar"
           }
          ],
          "barpolar": [
           {
            "marker": {
             "line": {
              "color": "#E5ECF6",
              "width": 0.5
             },
             "pattern": {
              "fillmode": "overlay",
              "size": 10,
              "solidity": 0.2
             }
            },
            "type": "barpolar"
           }
          ],
          "carpet": [
           {
            "aaxis": {
             "endlinecolor": "#2a3f5f",
             "gridcolor": "white",
             "linecolor": "white",
             "minorgridcolor": "white",
             "startlinecolor": "#2a3f5f"
            },
            "baxis": {
             "endlinecolor": "#2a3f5f",
             "gridcolor": "white",
             "linecolor": "white",
             "minorgridcolor": "white",
             "startlinecolor": "#2a3f5f"
            },
            "type": "carpet"
           }
          ],
          "choropleth": [
           {
            "colorbar": {
             "outlinewidth": 0,
             "ticks": ""
            },
            "type": "choropleth"
           }
          ],
          "contour": [
           {
            "colorbar": {
             "outlinewidth": 0,
             "ticks": ""
            },
            "colorscale": [
             [
              0,
              "#0d0887"
             ],
             [
              0.1111111111111111,
              "#46039f"
             ],
             [
              0.2222222222222222,
              "#7201a8"
             ],
             [
              0.3333333333333333,
              "#9c179e"
             ],
             [
              0.4444444444444444,
              "#bd3786"
             ],
             [
              0.5555555555555556,
              "#d8576b"
             ],
             [
              0.6666666666666666,
              "#ed7953"
             ],
             [
              0.7777777777777778,
              "#fb9f3a"
             ],
             [
              0.8888888888888888,
              "#fdca26"
             ],
             [
              1,
              "#f0f921"
             ]
            ],
            "type": "contour"
           }
          ],
          "contourcarpet": [
           {
            "colorbar": {
             "outlinewidth": 0,
             "ticks": ""
            },
            "type": "contourcarpet"
           }
          ],
          "heatmap": [
           {
            "colorbar": {
             "outlinewidth": 0,
             "ticks": ""
            },
            "colorscale": [
             [
              0,
              "#0d0887"
             ],
             [
              0.1111111111111111,
              "#46039f"
             ],
             [
              0.2222222222222222,
              "#7201a8"
             ],
             [
              0.3333333333333333,
              "#9c179e"
             ],
             [
              0.4444444444444444,
              "#bd3786"
             ],
             [
              0.5555555555555556,
              "#d8576b"
             ],
             [
              0.6666666666666666,
              "#ed7953"
             ],
             [
              0.7777777777777778,
              "#fb9f3a"
             ],
             [
              0.8888888888888888,
              "#fdca26"
             ],
             [
              1,
              "#f0f921"
             ]
            ],
            "type": "heatmap"
           }
          ],
          "heatmapgl": [
           {
            "colorbar": {
             "outlinewidth": 0,
             "ticks": ""
            },
            "colorscale": [
             [
              0,
              "#0d0887"
             ],
             [
              0.1111111111111111,
              "#46039f"
             ],
             [
              0.2222222222222222,
              "#7201a8"
             ],
             [
              0.3333333333333333,
              "#9c179e"
             ],
             [
              0.4444444444444444,
              "#bd3786"
             ],
             [
              0.5555555555555556,
              "#d8576b"
             ],
             [
              0.6666666666666666,
              "#ed7953"
             ],
             [
              0.7777777777777778,
              "#fb9f3a"
             ],
             [
              0.8888888888888888,
              "#fdca26"
             ],
             [
              1,
              "#f0f921"
             ]
            ],
            "type": "heatmapgl"
           }
          ],
          "histogram": [
           {
            "marker": {
             "pattern": {
              "fillmode": "overlay",
              "size": 10,
              "solidity": 0.2
             }
            },
            "type": "histogram"
           }
          ],
          "histogram2d": [
           {
            "colorbar": {
             "outlinewidth": 0,
             "ticks": ""
            },
            "colorscale": [
             [
              0,
              "#0d0887"
             ],
             [
              0.1111111111111111,
              "#46039f"
             ],
             [
              0.2222222222222222,
              "#7201a8"
             ],
             [
              0.3333333333333333,
              "#9c179e"
             ],
             [
              0.4444444444444444,
              "#bd3786"
             ],
             [
              0.5555555555555556,
              "#d8576b"
             ],
             [
              0.6666666666666666,
              "#ed7953"
             ],
             [
              0.7777777777777778,
              "#fb9f3a"
             ],
             [
              0.8888888888888888,
              "#fdca26"
             ],
             [
              1,
              "#f0f921"
             ]
            ],
            "type": "histogram2d"
           }
          ],
          "histogram2dcontour": [
           {
            "colorbar": {
             "outlinewidth": 0,
             "ticks": ""
            },
            "colorscale": [
             [
              0,
              "#0d0887"
             ],
             [
              0.1111111111111111,
              "#46039f"
             ],
             [
              0.2222222222222222,
              "#7201a8"
             ],
             [
              0.3333333333333333,
              "#9c179e"
             ],
             [
              0.4444444444444444,
              "#bd3786"
             ],
             [
              0.5555555555555556,
              "#d8576b"
             ],
             [
              0.6666666666666666,
              "#ed7953"
             ],
             [
              0.7777777777777778,
              "#fb9f3a"
             ],
             [
              0.8888888888888888,
              "#fdca26"
             ],
             [
              1,
              "#f0f921"
             ]
            ],
            "type": "histogram2dcontour"
           }
          ],
          "mesh3d": [
           {
            "colorbar": {
             "outlinewidth": 0,
             "ticks": ""
            },
            "type": "mesh3d"
           }
          ],
          "parcoords": [
           {
            "line": {
             "colorbar": {
              "outlinewidth": 0,
              "ticks": ""
             }
            },
            "type": "parcoords"
           }
          ],
          "pie": [
           {
            "automargin": true,
            "type": "pie"
           }
          ],
          "scatter": [
           {
            "fillpattern": {
             "fillmode": "overlay",
             "size": 10,
             "solidity": 0.2
            },
            "type": "scatter"
           }
          ],
          "scatter3d": [
           {
            "line": {
             "colorbar": {
              "outlinewidth": 0,
              "ticks": ""
             }
            },
            "marker": {
             "colorbar": {
              "outlinewidth": 0,
              "ticks": ""
             }
            },
            "type": "scatter3d"
           }
          ],
          "scattercarpet": [
           {
            "marker": {
             "colorbar": {
              "outlinewidth": 0,
              "ticks": ""
             }
            },
            "type": "scattercarpet"
           }
          ],
          "scattergeo": [
           {
            "marker": {
             "colorbar": {
              "outlinewidth": 0,
              "ticks": ""
             }
            },
            "type": "scattergeo"
           }
          ],
          "scattergl": [
           {
            "marker": {
             "colorbar": {
              "outlinewidth": 0,
              "ticks": ""
             }
            },
            "type": "scattergl"
           }
          ],
          "scattermapbox": [
           {
            "marker": {
             "colorbar": {
              "outlinewidth": 0,
              "ticks": ""
             }
            },
            "type": "scattermapbox"
           }
          ],
          "scatterpolar": [
           {
            "marker": {
             "colorbar": {
              "outlinewidth": 0,
              "ticks": ""
             }
            },
            "type": "scatterpolar"
           }
          ],
          "scatterpolargl": [
           {
            "marker": {
             "colorbar": {
              "outlinewidth": 0,
              "ticks": ""
             }
            },
            "type": "scatterpolargl"
           }
          ],
          "scatterternary": [
           {
            "marker": {
             "colorbar": {
              "outlinewidth": 0,
              "ticks": ""
             }
            },
            "type": "scatterternary"
           }
          ],
          "surface": [
           {
            "colorbar": {
             "outlinewidth": 0,
             "ticks": ""
            },
            "colorscale": [
             [
              0,
              "#0d0887"
             ],
             [
              0.1111111111111111,
              "#46039f"
             ],
             [
              0.2222222222222222,
              "#7201a8"
             ],
             [
              0.3333333333333333,
              "#9c179e"
             ],
             [
              0.4444444444444444,
              "#bd3786"
             ],
             [
              0.5555555555555556,
              "#d8576b"
             ],
             [
              0.6666666666666666,
              "#ed7953"
             ],
             [
              0.7777777777777778,
              "#fb9f3a"
             ],
             [
              0.8888888888888888,
              "#fdca26"
             ],
             [
              1,
              "#f0f921"
             ]
            ],
            "type": "surface"
           }
          ],
          "table": [
           {
            "cells": {
             "fill": {
              "color": "#EBF0F8"
             },
             "line": {
              "color": "white"
             }
            },
            "header": {
             "fill": {
              "color": "#C8D4E3"
             },
             "line": {
              "color": "white"
             }
            },
            "type": "table"
           }
          ]
         },
         "layout": {
          "annotationdefaults": {
           "arrowcolor": "#2a3f5f",
           "arrowhead": 0,
           "arrowwidth": 1
          },
          "autotypenumbers": "strict",
          "coloraxis": {
           "colorbar": {
            "outlinewidth": 0,
            "ticks": ""
           }
          },
          "colorscale": {
           "diverging": [
            [
             0,
             "#8e0152"
            ],
            [
             0.1,
             "#c51b7d"
            ],
            [
             0.2,
             "#de77ae"
            ],
            [
             0.3,
             "#f1b6da"
            ],
            [
             0.4,
             "#fde0ef"
            ],
            [
             0.5,
             "#f7f7f7"
            ],
            [
             0.6,
             "#e6f5d0"
            ],
            [
             0.7,
             "#b8e186"
            ],
            [
             0.8,
             "#7fbc41"
            ],
            [
             0.9,
             "#4d9221"
            ],
            [
             1,
             "#276419"
            ]
           ],
           "sequential": [
            [
             0,
             "#0d0887"
            ],
            [
             0.1111111111111111,
             "#46039f"
            ],
            [
             0.2222222222222222,
             "#7201a8"
            ],
            [
             0.3333333333333333,
             "#9c179e"
            ],
            [
             0.4444444444444444,
             "#bd3786"
            ],
            [
             0.5555555555555556,
             "#d8576b"
            ],
            [
             0.6666666666666666,
             "#ed7953"
            ],
            [
             0.7777777777777778,
             "#fb9f3a"
            ],
            [
             0.8888888888888888,
             "#fdca26"
            ],
            [
             1,
             "#f0f921"
            ]
           ],
           "sequentialminus": [
            [
             0,
             "#0d0887"
            ],
            [
             0.1111111111111111,
             "#46039f"
            ],
            [
             0.2222222222222222,
             "#7201a8"
            ],
            [
             0.3333333333333333,
             "#9c179e"
            ],
            [
             0.4444444444444444,
             "#bd3786"
            ],
            [
             0.5555555555555556,
             "#d8576b"
            ],
            [
             0.6666666666666666,
             "#ed7953"
            ],
            [
             0.7777777777777778,
             "#fb9f3a"
            ],
            [
             0.8888888888888888,
             "#fdca26"
            ],
            [
             1,
             "#f0f921"
            ]
           ]
          },
          "colorway": [
           "#636efa",
           "#EF553B",
           "#00cc96",
           "#ab63fa",
           "#FFA15A",
           "#19d3f3",
           "#FF6692",
           "#B6E880",
           "#FF97FF",
           "#FECB52"
          ],
          "font": {
           "color": "#2a3f5f"
          },
          "geo": {
           "bgcolor": "white",
           "lakecolor": "white",
           "landcolor": "#E5ECF6",
           "showlakes": true,
           "showland": true,
           "subunitcolor": "white"
          },
          "hoverlabel": {
           "align": "left"
          },
          "hovermode": "closest",
          "mapbox": {
           "style": "light"
          },
          "paper_bgcolor": "white",
          "plot_bgcolor": "#E5ECF6",
          "polar": {
           "angularaxis": {
            "gridcolor": "white",
            "linecolor": "white",
            "ticks": ""
           },
           "bgcolor": "#E5ECF6",
           "radialaxis": {
            "gridcolor": "white",
            "linecolor": "white",
            "ticks": ""
           }
          },
          "scene": {
           "xaxis": {
            "backgroundcolor": "#E5ECF6",
            "gridcolor": "white",
            "gridwidth": 2,
            "linecolor": "white",
            "showbackground": true,
            "ticks": "",
            "zerolinecolor": "white"
           },
           "yaxis": {
            "backgroundcolor": "#E5ECF6",
            "gridcolor": "white",
            "gridwidth": 2,
            "linecolor": "white",
            "showbackground": true,
            "ticks": "",
            "zerolinecolor": "white"
           },
           "zaxis": {
            "backgroundcolor": "#E5ECF6",
            "gridcolor": "white",
            "gridwidth": 2,
            "linecolor": "white",
            "showbackground": true,
            "ticks": "",
            "zerolinecolor": "white"
           }
          },
          "shapedefaults": {
           "line": {
            "color": "#2a3f5f"
           }
          },
          "ternary": {
           "aaxis": {
            "gridcolor": "white",
            "linecolor": "white",
            "ticks": ""
           },
           "baxis": {
            "gridcolor": "white",
            "linecolor": "white",
            "ticks": ""
           },
           "bgcolor": "#E5ECF6",
           "caxis": {
            "gridcolor": "white",
            "linecolor": "white",
            "ticks": ""
           }
          },
          "title": {
           "x": 0.05
          },
          "xaxis": {
           "automargin": true,
           "gridcolor": "white",
           "linecolor": "white",
           "ticks": "",
           "title": {
            "standoff": 15
           },
           "zerolinecolor": "white",
           "zerolinewidth": 2
          },
          "yaxis": {
           "automargin": true,
           "gridcolor": "white",
           "linecolor": "white",
           "ticks": "",
           "title": {
            "standoff": 15
           },
           "zerolinecolor": "white",
           "zerolinewidth": 2
          }
         }
        },
        "width": 750
       }
      }
     },
     "metadata": {},
     "output_type": "display_data"
    }
   ],
   "source": [
    "fig.update_layout(height=650,width=750)         # Adjust image size (make smaller for notebook)\n",
    "fig.show()                                      # Also display Sunburst chart in notebook for documentation purposes"
   ]
  }
 ],
 "metadata": {
  "kernelspec": {
   "display_name": "base",
   "language": "python",
   "name": "python3"
  },
  "language_info": {
   "codemirror_mode": {
    "name": "ipython",
    "version": 3
   },
   "file_extension": ".py",
   "mimetype": "text/x-python",
   "name": "python",
   "nbconvert_exporter": "python",
   "pygments_lexer": "ipython3",
   "version": "3.10.9"
  }
 },
 "nbformat": 4,
 "nbformat_minor": 5
}
